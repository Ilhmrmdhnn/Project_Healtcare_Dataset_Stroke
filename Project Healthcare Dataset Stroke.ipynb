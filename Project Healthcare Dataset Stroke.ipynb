{
 "cells": [
  {
   "cell_type": "markdown",
   "metadata": {},
   "source": [
    "# <center>Healthcare Stroke Classification"
    "# <center>Ilham Ramadhan Nur Ahmad"
   ]
  },
  {
   "cell_type": "code",
   "execution_count": 1,
   "metadata": {},
   "outputs": [],
   "source": [
    "import pandas as pd\n",
    "import numpy as np\n",
    "import matplotlib.pyplot as plt\n",
    "%matplotlib inline\n",
    "import seaborn as sns"
   ]
  },
  {
   "cell_type": "code",
   "execution_count": 2,
   "metadata": {},
   "outputs": [
    {
     "data": {
      "text/html": [
       "<div>\n",
       "<style scoped>\n",
       "    .dataframe tbody tr th:only-of-type {\n",
       "        vertical-align: middle;\n",
       "    }\n",
       "\n",
       "    .dataframe tbody tr th {\n",
       "        vertical-align: top;\n",
       "    }\n",
       "\n",
       "    .dataframe thead th {\n",
       "        text-align: right;\n",
       "    }\n",
       "</style>\n",
       "<table border=\"1\" class=\"dataframe\">\n",
       "  <thead>\n",
       "    <tr style=\"text-align: right;\">\n",
       "      <th></th>\n",
       "      <th>id</th>\n",
       "      <th>gender</th>\n",
       "      <th>age</th>\n",
       "      <th>hypertension</th>\n",
       "      <th>heart_disease</th>\n",
       "      <th>ever_married</th>\n",
       "      <th>work_type</th>\n",
       "      <th>Residence_type</th>\n",
       "      <th>avg_glucose_level</th>\n",
       "      <th>bmi</th>\n",
       "      <th>smoking_status</th>\n",
       "      <th>stroke</th>\n",
       "    </tr>\n",
       "  </thead>\n",
       "  <tbody>\n",
       "    <tr>\n",
       "      <th>0</th>\n",
       "      <td>9046</td>\n",
       "      <td>Male</td>\n",
       "      <td>67.0</td>\n",
       "      <td>0</td>\n",
       "      <td>1</td>\n",
       "      <td>Yes</td>\n",
       "      <td>Private</td>\n",
       "      <td>Urban</td>\n",
       "      <td>228.69</td>\n",
       "      <td>36.6</td>\n",
       "      <td>formerly smoked</td>\n",
       "      <td>1</td>\n",
       "    </tr>\n",
       "    <tr>\n",
       "      <th>1</th>\n",
       "      <td>51676</td>\n",
       "      <td>Female</td>\n",
       "      <td>61.0</td>\n",
       "      <td>0</td>\n",
       "      <td>0</td>\n",
       "      <td>Yes</td>\n",
       "      <td>Self-employed</td>\n",
       "      <td>Rural</td>\n",
       "      <td>202.21</td>\n",
       "      <td>NaN</td>\n",
       "      <td>never smoked</td>\n",
       "      <td>1</td>\n",
       "    </tr>\n",
       "    <tr>\n",
       "      <th>2</th>\n",
       "      <td>31112</td>\n",
       "      <td>Male</td>\n",
       "      <td>80.0</td>\n",
       "      <td>0</td>\n",
       "      <td>1</td>\n",
       "      <td>Yes</td>\n",
       "      <td>Private</td>\n",
       "      <td>Rural</td>\n",
       "      <td>105.92</td>\n",
       "      <td>32.5</td>\n",
       "      <td>never smoked</td>\n",
       "      <td>1</td>\n",
       "    </tr>\n",
       "    <tr>\n",
       "      <th>3</th>\n",
       "      <td>60182</td>\n",
       "      <td>Female</td>\n",
       "      <td>49.0</td>\n",
       "      <td>0</td>\n",
       "      <td>0</td>\n",
       "      <td>Yes</td>\n",
       "      <td>Private</td>\n",
       "      <td>Urban</td>\n",
       "      <td>171.23</td>\n",
       "      <td>34.4</td>\n",
       "      <td>smokes</td>\n",
       "      <td>1</td>\n",
       "    </tr>\n",
       "    <tr>\n",
       "      <th>4</th>\n",
       "      <td>1665</td>\n",
       "      <td>Female</td>\n",
       "      <td>79.0</td>\n",
       "      <td>1</td>\n",
       "      <td>0</td>\n",
       "      <td>Yes</td>\n",
       "      <td>Self-employed</td>\n",
       "      <td>Rural</td>\n",
       "      <td>174.12</td>\n",
       "      <td>24.0</td>\n",
       "      <td>never smoked</td>\n",
       "      <td>1</td>\n",
       "    </tr>\n",
       "    <tr>\n",
       "      <th>...</th>\n",
       "      <td>...</td>\n",
       "      <td>...</td>\n",
       "      <td>...</td>\n",
       "      <td>...</td>\n",
       "      <td>...</td>\n",
       "      <td>...</td>\n",
       "      <td>...</td>\n",
       "      <td>...</td>\n",
       "      <td>...</td>\n",
       "      <td>...</td>\n",
       "      <td>...</td>\n",
       "      <td>...</td>\n",
       "    </tr>\n",
       "    <tr>\n",
       "      <th>5105</th>\n",
       "      <td>18234</td>\n",
       "      <td>Female</td>\n",
       "      <td>80.0</td>\n",
       "      <td>1</td>\n",
       "      <td>0</td>\n",
       "      <td>Yes</td>\n",
       "      <td>Private</td>\n",
       "      <td>Urban</td>\n",
       "      <td>83.75</td>\n",
       "      <td>NaN</td>\n",
       "      <td>never smoked</td>\n",
       "      <td>0</td>\n",
       "    </tr>\n",
       "    <tr>\n",
       "      <th>5106</th>\n",
       "      <td>44873</td>\n",
       "      <td>Female</td>\n",
       "      <td>81.0</td>\n",
       "      <td>0</td>\n",
       "      <td>0</td>\n",
       "      <td>Yes</td>\n",
       "      <td>Self-employed</td>\n",
       "      <td>Urban</td>\n",
       "      <td>125.20</td>\n",
       "      <td>40.0</td>\n",
       "      <td>never smoked</td>\n",
       "      <td>0</td>\n",
       "    </tr>\n",
       "    <tr>\n",
       "      <th>5107</th>\n",
       "      <td>19723</td>\n",
       "      <td>Female</td>\n",
       "      <td>35.0</td>\n",
       "      <td>0</td>\n",
       "      <td>0</td>\n",
       "      <td>Yes</td>\n",
       "      <td>Self-employed</td>\n",
       "      <td>Rural</td>\n",
       "      <td>82.99</td>\n",
       "      <td>30.6</td>\n",
       "      <td>never smoked</td>\n",
       "      <td>0</td>\n",
       "    </tr>\n",
       "    <tr>\n",
       "      <th>5108</th>\n",
       "      <td>37544</td>\n",
       "      <td>Male</td>\n",
       "      <td>51.0</td>\n",
       "      <td>0</td>\n",
       "      <td>0</td>\n",
       "      <td>Yes</td>\n",
       "      <td>Private</td>\n",
       "      <td>Rural</td>\n",
       "      <td>166.29</td>\n",
       "      <td>25.6</td>\n",
       "      <td>formerly smoked</td>\n",
       "      <td>0</td>\n",
       "    </tr>\n",
       "    <tr>\n",
       "      <th>5109</th>\n",
       "      <td>44679</td>\n",
       "      <td>Female</td>\n",
       "      <td>44.0</td>\n",
       "      <td>0</td>\n",
       "      <td>0</td>\n",
       "      <td>Yes</td>\n",
       "      <td>Govt_job</td>\n",
       "      <td>Urban</td>\n",
       "      <td>85.28</td>\n",
       "      <td>26.2</td>\n",
       "      <td>Unknown</td>\n",
       "      <td>0</td>\n",
       "    </tr>\n",
       "  </tbody>\n",
       "</table>\n",
       "<p>5110 rows × 12 columns</p>\n",
       "</div>"
      ],
      "text/plain": [
       "         id  gender   age  hypertension  heart_disease ever_married  \\\n",
       "0      9046    Male  67.0             0              1          Yes   \n",
       "1     51676  Female  61.0             0              0          Yes   \n",
       "2     31112    Male  80.0             0              1          Yes   \n",
       "3     60182  Female  49.0             0              0          Yes   \n",
       "4      1665  Female  79.0             1              0          Yes   \n",
       "...     ...     ...   ...           ...            ...          ...   \n",
       "5105  18234  Female  80.0             1              0          Yes   \n",
       "5106  44873  Female  81.0             0              0          Yes   \n",
       "5107  19723  Female  35.0             0              0          Yes   \n",
       "5108  37544    Male  51.0             0              0          Yes   \n",
       "5109  44679  Female  44.0             0              0          Yes   \n",
       "\n",
       "          work_type Residence_type  avg_glucose_level   bmi   smoking_status  \\\n",
       "0           Private          Urban             228.69  36.6  formerly smoked   \n",
       "1     Self-employed          Rural             202.21   NaN     never smoked   \n",
       "2           Private          Rural             105.92  32.5     never smoked   \n",
       "3           Private          Urban             171.23  34.4           smokes   \n",
       "4     Self-employed          Rural             174.12  24.0     never smoked   \n",
       "...             ...            ...                ...   ...              ...   \n",
       "5105        Private          Urban              83.75   NaN     never smoked   \n",
       "5106  Self-employed          Urban             125.20  40.0     never smoked   \n",
       "5107  Self-employed          Rural              82.99  30.6     never smoked   \n",
       "5108        Private          Rural             166.29  25.6  formerly smoked   \n",
       "5109       Govt_job          Urban              85.28  26.2          Unknown   \n",
       "\n",
       "      stroke  \n",
       "0          1  \n",
       "1          1  \n",
       "2          1  \n",
       "3          1  \n",
       "4          1  \n",
       "...      ...  \n",
       "5105       0  \n",
       "5106       0  \n",
       "5107       0  \n",
       "5108       0  \n",
       "5109       0  \n",
       "\n",
       "[5110 rows x 12 columns]"
      ]
     },
     "execution_count": 2,
     "metadata": {},
     "output_type": "execute_result"
    }
   ],
   "source": [
    "df=pd.read_csv(r'C:\\Users\\Ilham\\Downloads\\Semester2\\Final\\Final5\\healthcare-dataset-stroke-data.csv')\n",
    "df"
   ]
  },
  {
   "cell_type": "code",
   "execution_count": 3,
   "metadata": {},
   "outputs": [
    {
     "name": "stdout",
     "output_type": "stream",
     "text": [
      "<class 'pandas.core.frame.DataFrame'>\n",
      "RangeIndex: 5110 entries, 0 to 5109\n",
      "Data columns (total 12 columns):\n",
      " #   Column             Non-Null Count  Dtype  \n",
      "---  ------             --------------  -----  \n",
      " 0   id                 5110 non-null   int64  \n",
      " 1   gender             5110 non-null   object \n",
      " 2   age                5110 non-null   float64\n",
      " 3   hypertension       5110 non-null   int64  \n",
      " 4   heart_disease      5110 non-null   int64  \n",
      " 5   ever_married       5110 non-null   object \n",
      " 6   work_type          5110 non-null   object \n",
      " 7   Residence_type     5110 non-null   object \n",
      " 8   avg_glucose_level  5110 non-null   float64\n",
      " 9   bmi                4909 non-null   float64\n",
      " 10  smoking_status     5110 non-null   object \n",
      " 11  stroke             5110 non-null   int64  \n",
      "dtypes: float64(3), int64(4), object(5)\n",
      "memory usage: 479.2+ KB\n"
     ]
    }
   ],
   "source": [
    "df.info()"
   ]
  },
  {
   "cell_type": "markdown",
   "metadata": {},
   "source": [
    "# Data Cleaning"
   ]
  },
  {
   "cell_type": "code",
   "execution_count": 4,
   "metadata": {},
   "outputs": [
    {
     "data": {
      "text/html": [
       "<div>\n",
       "<style scoped>\n",
       "    .dataframe tbody tr th:only-of-type {\n",
       "        vertical-align: middle;\n",
       "    }\n",
       "\n",
       "    .dataframe tbody tr th {\n",
       "        vertical-align: top;\n",
       "    }\n",
       "\n",
       "    .dataframe thead th {\n",
       "        text-align: right;\n",
       "    }\n",
       "</style>\n",
       "<table border=\"1\" class=\"dataframe\">\n",
       "  <thead>\n",
       "    <tr style=\"text-align: right;\">\n",
       "      <th></th>\n",
       "      <th>id</th>\n",
       "      <th>gender</th>\n",
       "      <th>age</th>\n",
       "      <th>hypertension</th>\n",
       "      <th>heart_disease</th>\n",
       "      <th>ever_married</th>\n",
       "      <th>work_type</th>\n",
       "      <th>Residence_type</th>\n",
       "      <th>avg_glucose_level</th>\n",
       "      <th>bmi</th>\n",
       "      <th>smoking_status</th>\n",
       "      <th>stroke</th>\n",
       "    </tr>\n",
       "  </thead>\n",
       "  <tbody>\n",
       "    <tr>\n",
       "      <th>0</th>\n",
       "      <td>9046</td>\n",
       "      <td>Male</td>\n",
       "      <td>67.0</td>\n",
       "      <td>0</td>\n",
       "      <td>1</td>\n",
       "      <td>Yes</td>\n",
       "      <td>Private</td>\n",
       "      <td>Urban</td>\n",
       "      <td>228.69</td>\n",
       "      <td>36.6</td>\n",
       "      <td>formerly smoked</td>\n",
       "      <td>1</td>\n",
       "    </tr>\n",
       "    <tr>\n",
       "      <th>2</th>\n",
       "      <td>31112</td>\n",
       "      <td>Male</td>\n",
       "      <td>80.0</td>\n",
       "      <td>0</td>\n",
       "      <td>1</td>\n",
       "      <td>Yes</td>\n",
       "      <td>Private</td>\n",
       "      <td>Rural</td>\n",
       "      <td>105.92</td>\n",
       "      <td>32.5</td>\n",
       "      <td>never smoked</td>\n",
       "      <td>1</td>\n",
       "    </tr>\n",
       "    <tr>\n",
       "      <th>3</th>\n",
       "      <td>60182</td>\n",
       "      <td>Female</td>\n",
       "      <td>49.0</td>\n",
       "      <td>0</td>\n",
       "      <td>0</td>\n",
       "      <td>Yes</td>\n",
       "      <td>Private</td>\n",
       "      <td>Urban</td>\n",
       "      <td>171.23</td>\n",
       "      <td>34.4</td>\n",
       "      <td>smokes</td>\n",
       "      <td>1</td>\n",
       "    </tr>\n",
       "    <tr>\n",
       "      <th>4</th>\n",
       "      <td>1665</td>\n",
       "      <td>Female</td>\n",
       "      <td>79.0</td>\n",
       "      <td>1</td>\n",
       "      <td>0</td>\n",
       "      <td>Yes</td>\n",
       "      <td>Self-employed</td>\n",
       "      <td>Rural</td>\n",
       "      <td>174.12</td>\n",
       "      <td>24.0</td>\n",
       "      <td>never smoked</td>\n",
       "      <td>1</td>\n",
       "    </tr>\n",
       "    <tr>\n",
       "      <th>5</th>\n",
       "      <td>56669</td>\n",
       "      <td>Male</td>\n",
       "      <td>81.0</td>\n",
       "      <td>0</td>\n",
       "      <td>0</td>\n",
       "      <td>Yes</td>\n",
       "      <td>Private</td>\n",
       "      <td>Urban</td>\n",
       "      <td>186.21</td>\n",
       "      <td>29.0</td>\n",
       "      <td>formerly smoked</td>\n",
       "      <td>1</td>\n",
       "    </tr>\n",
       "    <tr>\n",
       "      <th>...</th>\n",
       "      <td>...</td>\n",
       "      <td>...</td>\n",
       "      <td>...</td>\n",
       "      <td>...</td>\n",
       "      <td>...</td>\n",
       "      <td>...</td>\n",
       "      <td>...</td>\n",
       "      <td>...</td>\n",
       "      <td>...</td>\n",
       "      <td>...</td>\n",
       "      <td>...</td>\n",
       "      <td>...</td>\n",
       "    </tr>\n",
       "    <tr>\n",
       "      <th>5104</th>\n",
       "      <td>14180</td>\n",
       "      <td>Female</td>\n",
       "      <td>13.0</td>\n",
       "      <td>0</td>\n",
       "      <td>0</td>\n",
       "      <td>No</td>\n",
       "      <td>children</td>\n",
       "      <td>Rural</td>\n",
       "      <td>103.08</td>\n",
       "      <td>18.6</td>\n",
       "      <td>Unknown</td>\n",
       "      <td>0</td>\n",
       "    </tr>\n",
       "    <tr>\n",
       "      <th>5106</th>\n",
       "      <td>44873</td>\n",
       "      <td>Female</td>\n",
       "      <td>81.0</td>\n",
       "      <td>0</td>\n",
       "      <td>0</td>\n",
       "      <td>Yes</td>\n",
       "      <td>Self-employed</td>\n",
       "      <td>Urban</td>\n",
       "      <td>125.20</td>\n",
       "      <td>40.0</td>\n",
       "      <td>never smoked</td>\n",
       "      <td>0</td>\n",
       "    </tr>\n",
       "    <tr>\n",
       "      <th>5107</th>\n",
       "      <td>19723</td>\n",
       "      <td>Female</td>\n",
       "      <td>35.0</td>\n",
       "      <td>0</td>\n",
       "      <td>0</td>\n",
       "      <td>Yes</td>\n",
       "      <td>Self-employed</td>\n",
       "      <td>Rural</td>\n",
       "      <td>82.99</td>\n",
       "      <td>30.6</td>\n",
       "      <td>never smoked</td>\n",
       "      <td>0</td>\n",
       "    </tr>\n",
       "    <tr>\n",
       "      <th>5108</th>\n",
       "      <td>37544</td>\n",
       "      <td>Male</td>\n",
       "      <td>51.0</td>\n",
       "      <td>0</td>\n",
       "      <td>0</td>\n",
       "      <td>Yes</td>\n",
       "      <td>Private</td>\n",
       "      <td>Rural</td>\n",
       "      <td>166.29</td>\n",
       "      <td>25.6</td>\n",
       "      <td>formerly smoked</td>\n",
       "      <td>0</td>\n",
       "    </tr>\n",
       "    <tr>\n",
       "      <th>5109</th>\n",
       "      <td>44679</td>\n",
       "      <td>Female</td>\n",
       "      <td>44.0</td>\n",
       "      <td>0</td>\n",
       "      <td>0</td>\n",
       "      <td>Yes</td>\n",
       "      <td>Govt_job</td>\n",
       "      <td>Urban</td>\n",
       "      <td>85.28</td>\n",
       "      <td>26.2</td>\n",
       "      <td>Unknown</td>\n",
       "      <td>0</td>\n",
       "    </tr>\n",
       "  </tbody>\n",
       "</table>\n",
       "<p>4909 rows × 12 columns</p>\n",
       "</div>"
      ],
      "text/plain": [
       "         id  gender   age  hypertension  heart_disease ever_married  \\\n",
       "0      9046    Male  67.0             0              1          Yes   \n",
       "2     31112    Male  80.0             0              1          Yes   \n",
       "3     60182  Female  49.0             0              0          Yes   \n",
       "4      1665  Female  79.0             1              0          Yes   \n",
       "5     56669    Male  81.0             0              0          Yes   \n",
       "...     ...     ...   ...           ...            ...          ...   \n",
       "5104  14180  Female  13.0             0              0           No   \n",
       "5106  44873  Female  81.0             0              0          Yes   \n",
       "5107  19723  Female  35.0             0              0          Yes   \n",
       "5108  37544    Male  51.0             0              0          Yes   \n",
       "5109  44679  Female  44.0             0              0          Yes   \n",
       "\n",
       "          work_type Residence_type  avg_glucose_level   bmi   smoking_status  \\\n",
       "0           Private          Urban             228.69  36.6  formerly smoked   \n",
       "2           Private          Rural             105.92  32.5     never smoked   \n",
       "3           Private          Urban             171.23  34.4           smokes   \n",
       "4     Self-employed          Rural             174.12  24.0     never smoked   \n",
       "5           Private          Urban             186.21  29.0  formerly smoked   \n",
       "...             ...            ...                ...   ...              ...   \n",
       "5104       children          Rural             103.08  18.6          Unknown   \n",
       "5106  Self-employed          Urban             125.20  40.0     never smoked   \n",
       "5107  Self-employed          Rural              82.99  30.6     never smoked   \n",
       "5108        Private          Rural             166.29  25.6  formerly smoked   \n",
       "5109       Govt_job          Urban              85.28  26.2          Unknown   \n",
       "\n",
       "      stroke  \n",
       "0          1  \n",
       "2          1  \n",
       "3          1  \n",
       "4          1  \n",
       "5          1  \n",
       "...      ...  \n",
       "5104       0  \n",
       "5106       0  \n",
       "5107       0  \n",
       "5108       0  \n",
       "5109       0  \n",
       "\n",
       "[4909 rows x 12 columns]"
      ]
     },
     "execution_count": 4,
     "metadata": {},
     "output_type": "execute_result"
    }
   ],
   "source": [
    "temp = df.dropna()\n",
    "temp"
   ]
  },
  {
   "cell_type": "code",
   "execution_count": 5,
   "metadata": {},
   "outputs": [
    {
     "data": {
      "text/html": [
       "<div>\n",
       "<style scoped>\n",
       "    .dataframe tbody tr th:only-of-type {\n",
       "        vertical-align: middle;\n",
       "    }\n",
       "\n",
       "    .dataframe tbody tr th {\n",
       "        vertical-align: top;\n",
       "    }\n",
       "\n",
       "    .dataframe thead th {\n",
       "        text-align: right;\n",
       "    }\n",
       "</style>\n",
       "<table border=\"1\" class=\"dataframe\">\n",
       "  <thead>\n",
       "    <tr style=\"text-align: right;\">\n",
       "      <th></th>\n",
       "      <th>gender</th>\n",
       "      <th>age</th>\n",
       "      <th>hypertension</th>\n",
       "      <th>heart_disease</th>\n",
       "      <th>ever_married</th>\n",
       "      <th>work_type</th>\n",
       "      <th>Residence_type</th>\n",
       "      <th>avg_glucose_level</th>\n",
       "      <th>bmi</th>\n",
       "      <th>smoking_status</th>\n",
       "      <th>stroke</th>\n",
       "    </tr>\n",
       "  </thead>\n",
       "  <tbody>\n",
       "    <tr>\n",
       "      <th>0</th>\n",
       "      <td>Male</td>\n",
       "      <td>67.0</td>\n",
       "      <td>0</td>\n",
       "      <td>1</td>\n",
       "      <td>Yes</td>\n",
       "      <td>Private</td>\n",
       "      <td>Urban</td>\n",
       "      <td>228.69</td>\n",
       "      <td>36.6</td>\n",
       "      <td>formerly smoked</td>\n",
       "      <td>1</td>\n",
       "    </tr>\n",
       "    <tr>\n",
       "      <th>2</th>\n",
       "      <td>Male</td>\n",
       "      <td>80.0</td>\n",
       "      <td>0</td>\n",
       "      <td>1</td>\n",
       "      <td>Yes</td>\n",
       "      <td>Private</td>\n",
       "      <td>Rural</td>\n",
       "      <td>105.92</td>\n",
       "      <td>32.5</td>\n",
       "      <td>never smoked</td>\n",
       "      <td>1</td>\n",
       "    </tr>\n",
       "    <tr>\n",
       "      <th>3</th>\n",
       "      <td>Female</td>\n",
       "      <td>49.0</td>\n",
       "      <td>0</td>\n",
       "      <td>0</td>\n",
       "      <td>Yes</td>\n",
       "      <td>Private</td>\n",
       "      <td>Urban</td>\n",
       "      <td>171.23</td>\n",
       "      <td>34.4</td>\n",
       "      <td>smokes</td>\n",
       "      <td>1</td>\n",
       "    </tr>\n",
       "    <tr>\n",
       "      <th>4</th>\n",
       "      <td>Female</td>\n",
       "      <td>79.0</td>\n",
       "      <td>1</td>\n",
       "      <td>0</td>\n",
       "      <td>Yes</td>\n",
       "      <td>Self-employed</td>\n",
       "      <td>Rural</td>\n",
       "      <td>174.12</td>\n",
       "      <td>24.0</td>\n",
       "      <td>never smoked</td>\n",
       "      <td>1</td>\n",
       "    </tr>\n",
       "    <tr>\n",
       "      <th>5</th>\n",
       "      <td>Male</td>\n",
       "      <td>81.0</td>\n",
       "      <td>0</td>\n",
       "      <td>0</td>\n",
       "      <td>Yes</td>\n",
       "      <td>Private</td>\n",
       "      <td>Urban</td>\n",
       "      <td>186.21</td>\n",
       "      <td>29.0</td>\n",
       "      <td>formerly smoked</td>\n",
       "      <td>1</td>\n",
       "    </tr>\n",
       "    <tr>\n",
       "      <th>...</th>\n",
       "      <td>...</td>\n",
       "      <td>...</td>\n",
       "      <td>...</td>\n",
       "      <td>...</td>\n",
       "      <td>...</td>\n",
       "      <td>...</td>\n",
       "      <td>...</td>\n",
       "      <td>...</td>\n",
       "      <td>...</td>\n",
       "      <td>...</td>\n",
       "      <td>...</td>\n",
       "    </tr>\n",
       "    <tr>\n",
       "      <th>5104</th>\n",
       "      <td>Female</td>\n",
       "      <td>13.0</td>\n",
       "      <td>0</td>\n",
       "      <td>0</td>\n",
       "      <td>No</td>\n",
       "      <td>children</td>\n",
       "      <td>Rural</td>\n",
       "      <td>103.08</td>\n",
       "      <td>18.6</td>\n",
       "      <td>Unknown</td>\n",
       "      <td>0</td>\n",
       "    </tr>\n",
       "    <tr>\n",
       "      <th>5106</th>\n",
       "      <td>Female</td>\n",
       "      <td>81.0</td>\n",
       "      <td>0</td>\n",
       "      <td>0</td>\n",
       "      <td>Yes</td>\n",
       "      <td>Self-employed</td>\n",
       "      <td>Urban</td>\n",
       "      <td>125.20</td>\n",
       "      <td>40.0</td>\n",
       "      <td>never smoked</td>\n",
       "      <td>0</td>\n",
       "    </tr>\n",
       "    <tr>\n",
       "      <th>5107</th>\n",
       "      <td>Female</td>\n",
       "      <td>35.0</td>\n",
       "      <td>0</td>\n",
       "      <td>0</td>\n",
       "      <td>Yes</td>\n",
       "      <td>Self-employed</td>\n",
       "      <td>Rural</td>\n",
       "      <td>82.99</td>\n",
       "      <td>30.6</td>\n",
       "      <td>never smoked</td>\n",
       "      <td>0</td>\n",
       "    </tr>\n",
       "    <tr>\n",
       "      <th>5108</th>\n",
       "      <td>Male</td>\n",
       "      <td>51.0</td>\n",
       "      <td>0</td>\n",
       "      <td>0</td>\n",
       "      <td>Yes</td>\n",
       "      <td>Private</td>\n",
       "      <td>Rural</td>\n",
       "      <td>166.29</td>\n",
       "      <td>25.6</td>\n",
       "      <td>formerly smoked</td>\n",
       "      <td>0</td>\n",
       "    </tr>\n",
       "    <tr>\n",
       "      <th>5109</th>\n",
       "      <td>Female</td>\n",
       "      <td>44.0</td>\n",
       "      <td>0</td>\n",
       "      <td>0</td>\n",
       "      <td>Yes</td>\n",
       "      <td>Govt_job</td>\n",
       "      <td>Urban</td>\n",
       "      <td>85.28</td>\n",
       "      <td>26.2</td>\n",
       "      <td>Unknown</td>\n",
       "      <td>0</td>\n",
       "    </tr>\n",
       "  </tbody>\n",
       "</table>\n",
       "<p>4909 rows × 11 columns</p>\n",
       "</div>"
      ],
      "text/plain": [
       "      gender   age  hypertension  heart_disease ever_married      work_type  \\\n",
       "0       Male  67.0             0              1          Yes        Private   \n",
       "2       Male  80.0             0              1          Yes        Private   \n",
       "3     Female  49.0             0              0          Yes        Private   \n",
       "4     Female  79.0             1              0          Yes  Self-employed   \n",
       "5       Male  81.0             0              0          Yes        Private   \n",
       "...      ...   ...           ...            ...          ...            ...   \n",
       "5104  Female  13.0             0              0           No       children   \n",
       "5106  Female  81.0             0              0          Yes  Self-employed   \n",
       "5107  Female  35.0             0              0          Yes  Self-employed   \n",
       "5108    Male  51.0             0              0          Yes        Private   \n",
       "5109  Female  44.0             0              0          Yes       Govt_job   \n",
       "\n",
       "     Residence_type  avg_glucose_level   bmi   smoking_status  stroke  \n",
       "0             Urban             228.69  36.6  formerly smoked       1  \n",
       "2             Rural             105.92  32.5     never smoked       1  \n",
       "3             Urban             171.23  34.4           smokes       1  \n",
       "4             Rural             174.12  24.0     never smoked       1  \n",
       "5             Urban             186.21  29.0  formerly smoked       1  \n",
       "...             ...                ...   ...              ...     ...  \n",
       "5104          Rural             103.08  18.6          Unknown       0  \n",
       "5106          Urban             125.20  40.0     never smoked       0  \n",
       "5107          Rural              82.99  30.6     never smoked       0  \n",
       "5108          Rural             166.29  25.6  formerly smoked       0  \n",
       "5109          Urban              85.28  26.2          Unknown       0  \n",
       "\n",
       "[4909 rows x 11 columns]"
      ]
     },
     "execution_count": 5,
     "metadata": {},
     "output_type": "execute_result"
    }
   ],
   "source": [
    "temp[['gender','age','hypertension','heart_disease','ever_married','work_type','Residence_type','avg_glucose_level','bmi','smoking_status','stroke']]"
   ]
  },
  {
   "cell_type": "code",
   "execution_count": 6,
   "metadata": {},
   "outputs": [
    {
     "data": {
      "text/html": [
       "<div>\n",
       "<style scoped>\n",
       "    .dataframe tbody tr th:only-of-type {\n",
       "        vertical-align: middle;\n",
       "    }\n",
       "\n",
       "    .dataframe tbody tr th {\n",
       "        vertical-align: top;\n",
       "    }\n",
       "\n",
       "    .dataframe thead th {\n",
       "        text-align: right;\n",
       "    }\n",
       "</style>\n",
       "<table border=\"1\" class=\"dataframe\">\n",
       "  <thead>\n",
       "    <tr style=\"text-align: right;\">\n",
       "      <th></th>\n",
       "      <th>id</th>\n",
       "      <th>gender</th>\n",
       "      <th>age</th>\n",
       "      <th>hypertension</th>\n",
       "      <th>heart_disease</th>\n",
       "      <th>ever_married</th>\n",
       "      <th>work_type</th>\n",
       "      <th>Residence_type</th>\n",
       "      <th>avg_glucose_level</th>\n",
       "      <th>bmi</th>\n",
       "      <th>smoking_status</th>\n",
       "      <th>stroke</th>\n",
       "    </tr>\n",
       "  </thead>\n",
       "  <tbody>\n",
       "    <tr>\n",
       "      <th>0</th>\n",
       "      <td>9046</td>\n",
       "      <td>Male</td>\n",
       "      <td>67.0</td>\n",
       "      <td>0</td>\n",
       "      <td>1</td>\n",
       "      <td>Yes</td>\n",
       "      <td>Private</td>\n",
       "      <td>Urban</td>\n",
       "      <td>228.69</td>\n",
       "      <td>36.6</td>\n",
       "      <td>formerly smoked</td>\n",
       "      <td>1</td>\n",
       "    </tr>\n",
       "    <tr>\n",
       "      <th>2</th>\n",
       "      <td>31112</td>\n",
       "      <td>Male</td>\n",
       "      <td>80.0</td>\n",
       "      <td>0</td>\n",
       "      <td>1</td>\n",
       "      <td>Yes</td>\n",
       "      <td>Private</td>\n",
       "      <td>Rural</td>\n",
       "      <td>105.92</td>\n",
       "      <td>32.5</td>\n",
       "      <td>never smoked</td>\n",
       "      <td>1</td>\n",
       "    </tr>\n",
       "    <tr>\n",
       "      <th>3</th>\n",
       "      <td>60182</td>\n",
       "      <td>Female</td>\n",
       "      <td>49.0</td>\n",
       "      <td>0</td>\n",
       "      <td>0</td>\n",
       "      <td>Yes</td>\n",
       "      <td>Private</td>\n",
       "      <td>Urban</td>\n",
       "      <td>171.23</td>\n",
       "      <td>34.4</td>\n",
       "      <td>smokes</td>\n",
       "      <td>1</td>\n",
       "    </tr>\n",
       "    <tr>\n",
       "      <th>4</th>\n",
       "      <td>1665</td>\n",
       "      <td>Female</td>\n",
       "      <td>79.0</td>\n",
       "      <td>1</td>\n",
       "      <td>0</td>\n",
       "      <td>Yes</td>\n",
       "      <td>Self-employed</td>\n",
       "      <td>Rural</td>\n",
       "      <td>174.12</td>\n",
       "      <td>24.0</td>\n",
       "      <td>never smoked</td>\n",
       "      <td>1</td>\n",
       "    </tr>\n",
       "    <tr>\n",
       "      <th>5</th>\n",
       "      <td>56669</td>\n",
       "      <td>Male</td>\n",
       "      <td>81.0</td>\n",
       "      <td>0</td>\n",
       "      <td>0</td>\n",
       "      <td>Yes</td>\n",
       "      <td>Private</td>\n",
       "      <td>Urban</td>\n",
       "      <td>186.21</td>\n",
       "      <td>29.0</td>\n",
       "      <td>formerly smoked</td>\n",
       "      <td>1</td>\n",
       "    </tr>\n",
       "    <tr>\n",
       "      <th>...</th>\n",
       "      <td>...</td>\n",
       "      <td>...</td>\n",
       "      <td>...</td>\n",
       "      <td>...</td>\n",
       "      <td>...</td>\n",
       "      <td>...</td>\n",
       "      <td>...</td>\n",
       "      <td>...</td>\n",
       "      <td>...</td>\n",
       "      <td>...</td>\n",
       "      <td>...</td>\n",
       "      <td>...</td>\n",
       "    </tr>\n",
       "    <tr>\n",
       "      <th>5104</th>\n",
       "      <td>14180</td>\n",
       "      <td>Female</td>\n",
       "      <td>13.0</td>\n",
       "      <td>0</td>\n",
       "      <td>0</td>\n",
       "      <td>No</td>\n",
       "      <td>children</td>\n",
       "      <td>Rural</td>\n",
       "      <td>103.08</td>\n",
       "      <td>18.6</td>\n",
       "      <td>Unknown</td>\n",
       "      <td>0</td>\n",
       "    </tr>\n",
       "    <tr>\n",
       "      <th>5106</th>\n",
       "      <td>44873</td>\n",
       "      <td>Female</td>\n",
       "      <td>81.0</td>\n",
       "      <td>0</td>\n",
       "      <td>0</td>\n",
       "      <td>Yes</td>\n",
       "      <td>Self-employed</td>\n",
       "      <td>Urban</td>\n",
       "      <td>125.20</td>\n",
       "      <td>40.0</td>\n",
       "      <td>never smoked</td>\n",
       "      <td>0</td>\n",
       "    </tr>\n",
       "    <tr>\n",
       "      <th>5107</th>\n",
       "      <td>19723</td>\n",
       "      <td>Female</td>\n",
       "      <td>35.0</td>\n",
       "      <td>0</td>\n",
       "      <td>0</td>\n",
       "      <td>Yes</td>\n",
       "      <td>Self-employed</td>\n",
       "      <td>Rural</td>\n",
       "      <td>82.99</td>\n",
       "      <td>30.6</td>\n",
       "      <td>never smoked</td>\n",
       "      <td>0</td>\n",
       "    </tr>\n",
       "    <tr>\n",
       "      <th>5108</th>\n",
       "      <td>37544</td>\n",
       "      <td>Male</td>\n",
       "      <td>51.0</td>\n",
       "      <td>0</td>\n",
       "      <td>0</td>\n",
       "      <td>Yes</td>\n",
       "      <td>Private</td>\n",
       "      <td>Rural</td>\n",
       "      <td>166.29</td>\n",
       "      <td>25.6</td>\n",
       "      <td>formerly smoked</td>\n",
       "      <td>0</td>\n",
       "    </tr>\n",
       "    <tr>\n",
       "      <th>5109</th>\n",
       "      <td>44679</td>\n",
       "      <td>Female</td>\n",
       "      <td>44.0</td>\n",
       "      <td>0</td>\n",
       "      <td>0</td>\n",
       "      <td>Yes</td>\n",
       "      <td>Govt_job</td>\n",
       "      <td>Urban</td>\n",
       "      <td>85.28</td>\n",
       "      <td>26.2</td>\n",
       "      <td>Unknown</td>\n",
       "      <td>0</td>\n",
       "    </tr>\n",
       "  </tbody>\n",
       "</table>\n",
       "<p>4908 rows × 12 columns</p>\n",
       "</div>"
      ],
      "text/plain": [
       "         id  gender   age  hypertension  heart_disease ever_married  \\\n",
       "0      9046    Male  67.0             0              1          Yes   \n",
       "2     31112    Male  80.0             0              1          Yes   \n",
       "3     60182  Female  49.0             0              0          Yes   \n",
       "4      1665  Female  79.0             1              0          Yes   \n",
       "5     56669    Male  81.0             0              0          Yes   \n",
       "...     ...     ...   ...           ...            ...          ...   \n",
       "5104  14180  Female  13.0             0              0           No   \n",
       "5106  44873  Female  81.0             0              0          Yes   \n",
       "5107  19723  Female  35.0             0              0          Yes   \n",
       "5108  37544    Male  51.0             0              0          Yes   \n",
       "5109  44679  Female  44.0             0              0          Yes   \n",
       "\n",
       "          work_type Residence_type  avg_glucose_level   bmi   smoking_status  \\\n",
       "0           Private          Urban             228.69  36.6  formerly smoked   \n",
       "2           Private          Rural             105.92  32.5     never smoked   \n",
       "3           Private          Urban             171.23  34.4           smokes   \n",
       "4     Self-employed          Rural             174.12  24.0     never smoked   \n",
       "5           Private          Urban             186.21  29.0  formerly smoked   \n",
       "...             ...            ...                ...   ...              ...   \n",
       "5104       children          Rural             103.08  18.6          Unknown   \n",
       "5106  Self-employed          Urban             125.20  40.0     never smoked   \n",
       "5107  Self-employed          Rural              82.99  30.6     never smoked   \n",
       "5108        Private          Rural             166.29  25.6  formerly smoked   \n",
       "5109       Govt_job          Urban              85.28  26.2          Unknown   \n",
       "\n",
       "      stroke  \n",
       "0          1  \n",
       "2          1  \n",
       "3          1  \n",
       "4          1  \n",
       "5          1  \n",
       "...      ...  \n",
       "5104       0  \n",
       "5106       0  \n",
       "5107       0  \n",
       "5108       0  \n",
       "5109       0  \n",
       "\n",
       "[4908 rows x 12 columns]"
      ]
     },
     "execution_count": 6,
     "metadata": {},
     "output_type": "execute_result"
    }
   ],
   "source": [
    "temp[temp[\"gender\"] == \"Other\"]\n",
    "temp2 = temp.drop(3116)\n",
    "temp2"
   ]
  },
  {
   "cell_type": "markdown",
   "metadata": {},
   "source": [
    "# Check Outliers"
   ]
  },
  {
   "cell_type": "code",
   "execution_count": 7,
   "metadata": {},
   "outputs": [
    {
     "data": {
      "text/html": [
       "<div>\n",
       "<style scoped>\n",
       "    .dataframe tbody tr th:only-of-type {\n",
       "        vertical-align: middle;\n",
       "    }\n",
       "\n",
       "    .dataframe tbody tr th {\n",
       "        vertical-align: top;\n",
       "    }\n",
       "\n",
       "    .dataframe thead th {\n",
       "        text-align: right;\n",
       "    }\n",
       "</style>\n",
       "<table border=\"1\" class=\"dataframe\">\n",
       "  <thead>\n",
       "    <tr style=\"text-align: right;\">\n",
       "      <th></th>\n",
       "      <th>id</th>\n",
       "      <th>age</th>\n",
       "      <th>hypertension</th>\n",
       "      <th>heart_disease</th>\n",
       "      <th>avg_glucose_level</th>\n",
       "      <th>bmi</th>\n",
       "      <th>stroke</th>\n",
       "    </tr>\n",
       "  </thead>\n",
       "  <tbody>\n",
       "    <tr>\n",
       "      <th>count</th>\n",
       "      <td>4908.000000</td>\n",
       "      <td>4908.000000</td>\n",
       "      <td>4908.000000</td>\n",
       "      <td>4908.000000</td>\n",
       "      <td>4908.000000</td>\n",
       "      <td>4908.00000</td>\n",
       "      <td>4908.000000</td>\n",
       "    </tr>\n",
       "    <tr>\n",
       "      <th>mean</th>\n",
       "      <td>37060.423594</td>\n",
       "      <td>42.868810</td>\n",
       "      <td>0.091891</td>\n",
       "      <td>0.049511</td>\n",
       "      <td>105.297402</td>\n",
       "      <td>28.89456</td>\n",
       "      <td>0.042584</td>\n",
       "    </tr>\n",
       "    <tr>\n",
       "      <th>std</th>\n",
       "      <td>20995.468407</td>\n",
       "      <td>22.556128</td>\n",
       "      <td>0.288901</td>\n",
       "      <td>0.216954</td>\n",
       "      <td>44.425550</td>\n",
       "      <td>7.85432</td>\n",
       "      <td>0.201937</td>\n",
       "    </tr>\n",
       "    <tr>\n",
       "      <th>min</th>\n",
       "      <td>77.000000</td>\n",
       "      <td>0.080000</td>\n",
       "      <td>0.000000</td>\n",
       "      <td>0.000000</td>\n",
       "      <td>55.120000</td>\n",
       "      <td>10.30000</td>\n",
       "      <td>0.000000</td>\n",
       "    </tr>\n",
       "    <tr>\n",
       "      <th>25%</th>\n",
       "      <td>18602.500000</td>\n",
       "      <td>25.000000</td>\n",
       "      <td>0.000000</td>\n",
       "      <td>0.000000</td>\n",
       "      <td>77.067500</td>\n",
       "      <td>23.50000</td>\n",
       "      <td>0.000000</td>\n",
       "    </tr>\n",
       "    <tr>\n",
       "      <th>50%</th>\n",
       "      <td>37580.500000</td>\n",
       "      <td>44.000000</td>\n",
       "      <td>0.000000</td>\n",
       "      <td>0.000000</td>\n",
       "      <td>91.680000</td>\n",
       "      <td>28.10000</td>\n",
       "      <td>0.000000</td>\n",
       "    </tr>\n",
       "    <tr>\n",
       "      <th>75%</th>\n",
       "      <td>55181.750000</td>\n",
       "      <td>60.000000</td>\n",
       "      <td>0.000000</td>\n",
       "      <td>0.000000</td>\n",
       "      <td>113.495000</td>\n",
       "      <td>33.10000</td>\n",
       "      <td>0.000000</td>\n",
       "    </tr>\n",
       "    <tr>\n",
       "      <th>max</th>\n",
       "      <td>72940.000000</td>\n",
       "      <td>82.000000</td>\n",
       "      <td>1.000000</td>\n",
       "      <td>1.000000</td>\n",
       "      <td>271.740000</td>\n",
       "      <td>97.60000</td>\n",
       "      <td>1.000000</td>\n",
       "    </tr>\n",
       "  </tbody>\n",
       "</table>\n",
       "</div>"
      ],
      "text/plain": [
       "                 id          age  hypertension  heart_disease  \\\n",
       "count   4908.000000  4908.000000   4908.000000    4908.000000   \n",
       "mean   37060.423594    42.868810      0.091891       0.049511   \n",
       "std    20995.468407    22.556128      0.288901       0.216954   \n",
       "min       77.000000     0.080000      0.000000       0.000000   \n",
       "25%    18602.500000    25.000000      0.000000       0.000000   \n",
       "50%    37580.500000    44.000000      0.000000       0.000000   \n",
       "75%    55181.750000    60.000000      0.000000       0.000000   \n",
       "max    72940.000000    82.000000      1.000000       1.000000   \n",
       "\n",
       "       avg_glucose_level         bmi       stroke  \n",
       "count        4908.000000  4908.00000  4908.000000  \n",
       "mean          105.297402    28.89456     0.042584  \n",
       "std            44.425550     7.85432     0.201937  \n",
       "min            55.120000    10.30000     0.000000  \n",
       "25%            77.067500    23.50000     0.000000  \n",
       "50%            91.680000    28.10000     0.000000  \n",
       "75%           113.495000    33.10000     0.000000  \n",
       "max           271.740000    97.60000     1.000000  "
      ]
     },
     "execution_count": 7,
     "metadata": {},
     "output_type": "execute_result"
    }
   ],
   "source": [
    "temp2.describe()"
   ]
  },
  {
   "cell_type": "markdown",
   "metadata": {},
   "source": [
    "BMI"
   ]
  },
  {
   "cell_type": "code",
   "execution_count": 8,
   "metadata": {},
   "outputs": [
    {
     "data": {
      "text/plain": [
       "Text(0.5, 1.0, 'BMI')"
      ]
     },
     "execution_count": 8,
     "metadata": {},
     "output_type": "execute_result"
    },
    {
     "data": {
      "image/png": "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\n",
      "text/plain": [
       "<Figure size 432x288 with 1 Axes>"
      ]
     },
     "metadata": {
      "needs_background": "light"
     },
     "output_type": "display_data"
    }
   ],
   "source": [
    "sns.boxplot(x='bmi',data=temp2).set_title(\"BMI\")"
   ]
  },
  {
   "cell_type": "markdown",
   "metadata": {},
   "source": [
    "Pada data BMI terdapat outliers yang cukup jauh dari batas maxnya, sehingga harus drop data yang menjadi outliersnya supaya meminimalisirkan eror value"
   ]
  },
  {
   "cell_type": "code",
   "execution_count": 9,
   "metadata": {},
   "outputs": [
    {
     "data": {
      "text/plain": [
       "61.690341298020755"
      ]
     },
     "execution_count": 9,
     "metadata": {},
     "output_type": "execute_result"
    }
   ],
   "source": [
    "variance = temp2.var()['bmi']\n",
    "variance"
   ]
  },
  {
   "cell_type": "code",
   "execution_count": 10,
   "metadata": {},
   "outputs": [
    {
     "data": {
      "text/plain": [
       "7.854319913144661"
      ]
     },
     "execution_count": 10,
     "metadata": {},
     "output_type": "execute_result"
    }
   ],
   "source": [
    "std = temp2.std()['bmi']\n",
    "std"
   ]
  },
  {
   "cell_type": "code",
   "execution_count": 11,
   "metadata": {},
   "outputs": [],
   "source": [
    "q1,q3=np.percentile(temp2['bmi'],[25,75])"
   ]
  },
  {
   "cell_type": "code",
   "execution_count": 12,
   "metadata": {},
   "outputs": [
    {
     "data": {
      "text/plain": [
       "23.5"
      ]
     },
     "execution_count": 12,
     "metadata": {},
     "output_type": "execute_result"
    }
   ],
   "source": [
    "q1"
   ]
  },
  {
   "cell_type": "code",
   "execution_count": 13,
   "metadata": {},
   "outputs": [
    {
     "data": {
      "text/plain": [
       "33.1"
      ]
     },
     "execution_count": 13,
     "metadata": {},
     "output_type": "execute_result"
    }
   ],
   "source": [
    "q3"
   ]
  },
  {
   "cell_type": "code",
   "execution_count": 14,
   "metadata": {},
   "outputs": [
    {
     "data": {
      "text/plain": [
       "9.600000000000001"
      ]
     },
     "execution_count": 14,
     "metadata": {},
     "output_type": "execute_result"
    }
   ],
   "source": [
    "iqr=q3-q1\n",
    "iqr"
   ]
  },
  {
   "cell_type": "code",
   "execution_count": 15,
   "metadata": {},
   "outputs": [],
   "source": [
    "lower_limit = q1-1.5*iqr\n",
    "upper_limit = q3+1.5*iqr"
   ]
  },
  {
   "cell_type": "code",
   "execution_count": 16,
   "metadata": {},
   "outputs": [
    {
     "data": {
      "text/plain": [
       "9.099999999999998"
      ]
     },
     "execution_count": 16,
     "metadata": {},
     "output_type": "execute_result"
    }
   ],
   "source": [
    "lower_limit"
   ]
  },
  {
   "cell_type": "code",
   "execution_count": 17,
   "metadata": {},
   "outputs": [
    {
     "data": {
      "text/plain": [
       "47.5"
      ]
     },
     "execution_count": 17,
     "metadata": {},
     "output_type": "execute_result"
    }
   ],
   "source": [
    "upper_limit "
   ]
  },
  {
   "cell_type": "code",
   "execution_count": 18,
   "metadata": {},
   "outputs": [
    {
     "data": {
      "text/plain": [
       "Text(0.5, 1.0, 'BMI')"
      ]
     },
     "execution_count": 18,
     "metadata": {},
     "output_type": "execute_result"
    },
    {
     "data": {
      "image/png": "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\n",
      "text/plain": [
       "<Figure size 432x288 with 1 Axes>"
      ]
     },
     "metadata": {
      "needs_background": "light"
     },
     "output_type": "display_data"
    }
   ],
   "source": [
    "temp2.drop(temp2[temp2['bmi']>upper_limit].index,inplace=True)\n",
    "temp2.drop(temp2[temp2['bmi']<lower_limit].index,inplace=True)\n",
    "sns.boxplot(x='bmi',data=temp2).set_title(\"BMI\")"
   ]
  },
  {
   "cell_type": "markdown",
   "metadata": {},
   "source": [
    "ini merupakan data BMI yang telah dilakukan cleaning, sehingga outliersnya tidak tinggi melebihi dari value maxnya."
   ]
  },
  {
   "cell_type": "code",
   "execution_count": 19,
   "metadata": {},
   "outputs": [
    {
     "data": {
      "text/plain": [
       "46.805173315040086"
      ]
     },
     "execution_count": 19,
     "metadata": {},
     "output_type": "execute_result"
    }
   ],
   "source": [
    "variance1 = temp2.var()['bmi']\n",
    "variance1"
   ]
  },
  {
   "cell_type": "code",
   "execution_count": 20,
   "metadata": {},
   "outputs": [
    {
     "data": {
      "text/plain": [
       "6.841430648266493"
      ]
     },
     "execution_count": 20,
     "metadata": {},
     "output_type": "execute_result"
    }
   ],
   "source": [
    "std1 = temp2.std()['bmi']\n",
    "std1"
   ]
  },
  {
   "cell_type": "markdown",
   "metadata": {},
   "source": [
    "Glucose "
   ]
  },
  {
   "cell_type": "code",
   "execution_count": 21,
   "metadata": {},
   "outputs": [
    {
     "data": {
      "text/plain": [
       "Text(0.5, 1.0, 'Glucose')"
      ]
     },
     "execution_count": 21,
     "metadata": {},
     "output_type": "execute_result"
    },
    {
     "data": {
      "image/png": "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\n",
      "text/plain": [
       "<Figure size 432x288 with 1 Axes>"
      ]
     },
     "metadata": {
      "needs_background": "light"
     },
     "output_type": "display_data"
    }
   ],
   "source": [
    "sns.boxplot(x='avg_glucose_level',data=temp2).set_title(\"Glucose\")"
   ]
  },
  {
   "cell_type": "markdown",
   "metadata": {},
   "source": [
    "Pada data Glucose terdapat outliers yang cukup jauh dari batas maxnya, sehingga harus drop data yang menjadi outliersnya supaya meminimalisirkan eror value"
   ]
  },
  {
   "cell_type": "code",
   "execution_count": 22,
   "metadata": {},
   "outputs": [
    {
     "data": {
      "text/plain": [
       "1939.5709624495762"
      ]
     },
     "execution_count": 22,
     "metadata": {},
     "output_type": "execute_result"
    }
   ],
   "source": [
    "Variance = temp2.var()['avg_glucose_level']\n",
    "Variance"
   ]
  },
  {
   "cell_type": "code",
   "execution_count": 23,
   "metadata": {},
   "outputs": [
    {
     "data": {
      "text/plain": [
       "44.040560423881715"
      ]
     },
     "execution_count": 23,
     "metadata": {},
     "output_type": "execute_result"
    }
   ],
   "source": [
    "Std = temp2.std()['avg_glucose_level']\n",
    "Std"
   ]
  },
  {
   "cell_type": "code",
   "execution_count": 24,
   "metadata": {},
   "outputs": [],
   "source": [
    "Q1,Q3=np.percentile(temp2['avg_glucose_level'],[25,75])"
   ]
  },
  {
   "cell_type": "code",
   "execution_count": 25,
   "metadata": {},
   "outputs": [
    {
     "data": {
      "text/plain": [
       "77.04"
      ]
     },
     "execution_count": 25,
     "metadata": {},
     "output_type": "execute_result"
    }
   ],
   "source": [
    "Q1"
   ]
  },
  {
   "cell_type": "code",
   "execution_count": 26,
   "metadata": {},
   "outputs": [
    {
     "data": {
      "text/plain": [
       "113.23249999999999"
      ]
     },
     "execution_count": 26,
     "metadata": {},
     "output_type": "execute_result"
    }
   ],
   "source": [
    "Q3"
   ]
  },
  {
   "cell_type": "code",
   "execution_count": 27,
   "metadata": {},
   "outputs": [
    {
     "data": {
      "text/plain": [
       "36.19249999999998"
      ]
     },
     "execution_count": 27,
     "metadata": {},
     "output_type": "execute_result"
    }
   ],
   "source": [
    "Iqr=Q3-Q1\n",
    "Iqr"
   ]
  },
  {
   "cell_type": "code",
   "execution_count": 28,
   "metadata": {},
   "outputs": [],
   "source": [
    "Lower_limit = Q1-1.5*Iqr\n",
    "Upper_limit = Q3+1.5*Iqr"
   ]
  },
  {
   "cell_type": "code",
   "execution_count": 29,
   "metadata": {},
   "outputs": [
    {
     "data": {
      "text/plain": [
       "22.751250000000034"
      ]
     },
     "execution_count": 29,
     "metadata": {},
     "output_type": "execute_result"
    }
   ],
   "source": [
    "Lower_limit"
   ]
  },
  {
   "cell_type": "code",
   "execution_count": 30,
   "metadata": {},
   "outputs": [
    {
     "data": {
      "text/plain": [
       "167.52124999999995"
      ]
     },
     "execution_count": 30,
     "metadata": {},
     "output_type": "execute_result"
    }
   ],
   "source": [
    "Upper_limit"
   ]
  },
  {
   "cell_type": "code",
   "execution_count": 31,
   "metadata": {},
   "outputs": [
    {
     "data": {
      "text/plain": [
       "Text(0.5, 1.0, 'Glucose')"
      ]
     },
     "execution_count": 31,
     "metadata": {},
     "output_type": "execute_result"
    },
    {
     "data": {
      "image/png": "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\n",
      "text/plain": [
       "<Figure size 432x288 with 1 Axes>"
      ]
     },
     "metadata": {
      "needs_background": "light"
     },
     "output_type": "display_data"
    }
   ],
   "source": [
    "temp2.drop(temp2[temp2['avg_glucose_level']>Upper_limit].index,inplace=True)\n",
    "temp2.drop(temp2[temp2['avg_glucose_level']<Lower_limit].index,inplace=True)\n",
    "sns.boxplot(x='bmi',data=temp2).set_title(\"Glucose\")"
   ]
  },
  {
   "cell_type": "markdown",
   "metadata": {},
   "source": [
    "ini merupakan data Glucose yang telah dilakukan cleaning, sehingga outliersnya tidak tinggi melebihi dari value maxnya."
   ]
  },
  {
   "cell_type": "code",
   "execution_count": 32,
   "metadata": {},
   "outputs": [
    {
     "data": {
      "text/plain": [
       "510.4603424208262"
      ]
     },
     "execution_count": 32,
     "metadata": {},
     "output_type": "execute_result"
    }
   ],
   "source": [
    "Variance1 = temp2.var()['avg_glucose_level']\n",
    "Variance1"
   ]
  },
  {
   "cell_type": "code",
   "execution_count": 33,
   "metadata": {},
   "outputs": [
    {
     "data": {
      "text/plain": [
       "22.59336943487682"
      ]
     },
     "execution_count": 33,
     "metadata": {},
     "output_type": "execute_result"
    }
   ],
   "source": [
    "Std1 = temp2.std()['avg_glucose_level']\n",
    "Std1"
   ]
  },
  {
   "cell_type": "code",
   "execution_count": 34,
   "metadata": {},
   "outputs": [
    {
     "data": {
      "text/html": [
       "<div>\n",
       "<style scoped>\n",
       "    .dataframe tbody tr th:only-of-type {\n",
       "        vertical-align: middle;\n",
       "    }\n",
       "\n",
       "    .dataframe tbody tr th {\n",
       "        vertical-align: top;\n",
       "    }\n",
       "\n",
       "    .dataframe thead th {\n",
       "        text-align: right;\n",
       "    }\n",
       "</style>\n",
       "<table border=\"1\" class=\"dataframe\">\n",
       "  <thead>\n",
       "    <tr style=\"text-align: right;\">\n",
       "      <th></th>\n",
       "      <th>id</th>\n",
       "      <th>age</th>\n",
       "      <th>hypertension</th>\n",
       "      <th>heart_disease</th>\n",
       "      <th>avg_glucose_level</th>\n",
       "      <th>bmi</th>\n",
       "      <th>stroke</th>\n",
       "    </tr>\n",
       "  </thead>\n",
       "  <tbody>\n",
       "    <tr>\n",
       "      <th>count</th>\n",
       "      <td>4255.000000</td>\n",
       "      <td>4255.000000</td>\n",
       "      <td>4255.000000</td>\n",
       "      <td>4255.000000</td>\n",
       "      <td>4255.000000</td>\n",
       "      <td>4255.000000</td>\n",
       "      <td>4255.000000</td>\n",
       "    </tr>\n",
       "    <tr>\n",
       "      <th>mean</th>\n",
       "      <td>37111.350881</td>\n",
       "      <td>40.597274</td>\n",
       "      <td>0.068390</td>\n",
       "      <td>0.036428</td>\n",
       "      <td>91.431861</td>\n",
       "      <td>27.817086</td>\n",
       "      <td>0.031962</td>\n",
       "    </tr>\n",
       "    <tr>\n",
       "      <th>std</th>\n",
       "      <td>20975.692978</td>\n",
       "      <td>22.438398</td>\n",
       "      <td>0.252444</td>\n",
       "      <td>0.187374</td>\n",
       "      <td>22.593369</td>\n",
       "      <td>6.722424</td>\n",
       "      <td>0.175921</td>\n",
       "    </tr>\n",
       "    <tr>\n",
       "      <th>min</th>\n",
       "      <td>77.000000</td>\n",
       "      <td>0.080000</td>\n",
       "      <td>0.000000</td>\n",
       "      <td>0.000000</td>\n",
       "      <td>55.120000</td>\n",
       "      <td>10.300000</td>\n",
       "      <td>0.000000</td>\n",
       "    </tr>\n",
       "    <tr>\n",
       "      <th>25%</th>\n",
       "      <td>18675.500000</td>\n",
       "      <td>22.000000</td>\n",
       "      <td>0.000000</td>\n",
       "      <td>0.000000</td>\n",
       "      <td>75.055000</td>\n",
       "      <td>23.000000</td>\n",
       "      <td>0.000000</td>\n",
       "    </tr>\n",
       "    <tr>\n",
       "      <th>50%</th>\n",
       "      <td>37631.000000</td>\n",
       "      <td>41.000000</td>\n",
       "      <td>0.000000</td>\n",
       "      <td>0.000000</td>\n",
       "      <td>88.040000</td>\n",
       "      <td>27.400000</td>\n",
       "      <td>0.000000</td>\n",
       "    </tr>\n",
       "    <tr>\n",
       "      <th>75%</th>\n",
       "      <td>55326.000000</td>\n",
       "      <td>58.000000</td>\n",
       "      <td>0.000000</td>\n",
       "      <td>0.000000</td>\n",
       "      <td>104.025000</td>\n",
       "      <td>32.100000</td>\n",
       "      <td>0.000000</td>\n",
       "    </tr>\n",
       "    <tr>\n",
       "      <th>max</th>\n",
       "      <td>72940.000000</td>\n",
       "      <td>82.000000</td>\n",
       "      <td>1.000000</td>\n",
       "      <td>1.000000</td>\n",
       "      <td>167.410000</td>\n",
       "      <td>47.500000</td>\n",
       "      <td>1.000000</td>\n",
       "    </tr>\n",
       "  </tbody>\n",
       "</table>\n",
       "</div>"
      ],
      "text/plain": [
       "                 id          age  hypertension  heart_disease  \\\n",
       "count   4255.000000  4255.000000   4255.000000    4255.000000   \n",
       "mean   37111.350881    40.597274      0.068390       0.036428   \n",
       "std    20975.692978    22.438398      0.252444       0.187374   \n",
       "min       77.000000     0.080000      0.000000       0.000000   \n",
       "25%    18675.500000    22.000000      0.000000       0.000000   \n",
       "50%    37631.000000    41.000000      0.000000       0.000000   \n",
       "75%    55326.000000    58.000000      0.000000       0.000000   \n",
       "max    72940.000000    82.000000      1.000000       1.000000   \n",
       "\n",
       "       avg_glucose_level          bmi       stroke  \n",
       "count        4255.000000  4255.000000  4255.000000  \n",
       "mean           91.431861    27.817086     0.031962  \n",
       "std            22.593369     6.722424     0.175921  \n",
       "min            55.120000    10.300000     0.000000  \n",
       "25%            75.055000    23.000000     0.000000  \n",
       "50%            88.040000    27.400000     0.000000  \n",
       "75%           104.025000    32.100000     0.000000  \n",
       "max           167.410000    47.500000     1.000000  "
      ]
     },
     "execution_count": 34,
     "metadata": {},
     "output_type": "execute_result"
    }
   ],
   "source": [
    "temp2.describe()"
   ]
  },
  {
   "cell_type": "code",
   "execution_count": 35,
   "metadata": {},
   "outputs": [
    {
     "data": {
      "text/html": [
       "<div>\n",
       "<style scoped>\n",
       "    .dataframe tbody tr th:only-of-type {\n",
       "        vertical-align: middle;\n",
       "    }\n",
       "\n",
       "    .dataframe tbody tr th {\n",
       "        vertical-align: top;\n",
       "    }\n",
       "\n",
       "    .dataframe thead th {\n",
       "        text-align: right;\n",
       "    }\n",
       "</style>\n",
       "<table border=\"1\" class=\"dataframe\">\n",
       "  <thead>\n",
       "    <tr style=\"text-align: right;\">\n",
       "      <th></th>\n",
       "      <th>id</th>\n",
       "      <th>gender</th>\n",
       "      <th>age</th>\n",
       "      <th>hypertension</th>\n",
       "      <th>heart_disease</th>\n",
       "      <th>ever_married</th>\n",
       "      <th>work_type</th>\n",
       "      <th>Residence_type</th>\n",
       "      <th>avg_glucose_level</th>\n",
       "      <th>bmi</th>\n",
       "      <th>smoking_status</th>\n",
       "      <th>stroke</th>\n",
       "    </tr>\n",
       "  </thead>\n",
       "  <tbody>\n",
       "    <tr>\n",
       "      <th>2</th>\n",
       "      <td>31112</td>\n",
       "      <td>Male</td>\n",
       "      <td>80.0</td>\n",
       "      <td>0</td>\n",
       "      <td>1</td>\n",
       "      <td>Yes</td>\n",
       "      <td>Private</td>\n",
       "      <td>Rural</td>\n",
       "      <td>105.92</td>\n",
       "      <td>32.5</td>\n",
       "      <td>never smoked</td>\n",
       "      <td>1</td>\n",
       "    </tr>\n",
       "    <tr>\n",
       "      <th>6</th>\n",
       "      <td>53882</td>\n",
       "      <td>Male</td>\n",
       "      <td>74.0</td>\n",
       "      <td>1</td>\n",
       "      <td>1</td>\n",
       "      <td>Yes</td>\n",
       "      <td>Private</td>\n",
       "      <td>Rural</td>\n",
       "      <td>70.09</td>\n",
       "      <td>27.4</td>\n",
       "      <td>never smoked</td>\n",
       "      <td>1</td>\n",
       "    </tr>\n",
       "    <tr>\n",
       "      <th>7</th>\n",
       "      <td>10434</td>\n",
       "      <td>Female</td>\n",
       "      <td>69.0</td>\n",
       "      <td>0</td>\n",
       "      <td>0</td>\n",
       "      <td>No</td>\n",
       "      <td>Private</td>\n",
       "      <td>Urban</td>\n",
       "      <td>94.39</td>\n",
       "      <td>22.8</td>\n",
       "      <td>never smoked</td>\n",
       "      <td>1</td>\n",
       "    </tr>\n",
       "    <tr>\n",
       "      <th>9</th>\n",
       "      <td>60491</td>\n",
       "      <td>Female</td>\n",
       "      <td>78.0</td>\n",
       "      <td>0</td>\n",
       "      <td>0</td>\n",
       "      <td>Yes</td>\n",
       "      <td>Private</td>\n",
       "      <td>Urban</td>\n",
       "      <td>58.57</td>\n",
       "      <td>24.2</td>\n",
       "      <td>Unknown</td>\n",
       "      <td>1</td>\n",
       "    </tr>\n",
       "    <tr>\n",
       "      <th>10</th>\n",
       "      <td>12109</td>\n",
       "      <td>Female</td>\n",
       "      <td>81.0</td>\n",
       "      <td>1</td>\n",
       "      <td>0</td>\n",
       "      <td>Yes</td>\n",
       "      <td>Private</td>\n",
       "      <td>Rural</td>\n",
       "      <td>80.43</td>\n",
       "      <td>29.7</td>\n",
       "      <td>never smoked</td>\n",
       "      <td>1</td>\n",
       "    </tr>\n",
       "    <tr>\n",
       "      <th>...</th>\n",
       "      <td>...</td>\n",
       "      <td>...</td>\n",
       "      <td>...</td>\n",
       "      <td>...</td>\n",
       "      <td>...</td>\n",
       "      <td>...</td>\n",
       "      <td>...</td>\n",
       "      <td>...</td>\n",
       "      <td>...</td>\n",
       "      <td>...</td>\n",
       "      <td>...</td>\n",
       "      <td>...</td>\n",
       "    </tr>\n",
       "    <tr>\n",
       "      <th>5104</th>\n",
       "      <td>14180</td>\n",
       "      <td>Female</td>\n",
       "      <td>13.0</td>\n",
       "      <td>0</td>\n",
       "      <td>0</td>\n",
       "      <td>No</td>\n",
       "      <td>children</td>\n",
       "      <td>Rural</td>\n",
       "      <td>103.08</td>\n",
       "      <td>18.6</td>\n",
       "      <td>Unknown</td>\n",
       "      <td>0</td>\n",
       "    </tr>\n",
       "    <tr>\n",
       "      <th>5106</th>\n",
       "      <td>44873</td>\n",
       "      <td>Female</td>\n",
       "      <td>81.0</td>\n",
       "      <td>0</td>\n",
       "      <td>0</td>\n",
       "      <td>Yes</td>\n",
       "      <td>Self-employed</td>\n",
       "      <td>Urban</td>\n",
       "      <td>125.20</td>\n",
       "      <td>40.0</td>\n",
       "      <td>never smoked</td>\n",
       "      <td>0</td>\n",
       "    </tr>\n",
       "    <tr>\n",
       "      <th>5107</th>\n",
       "      <td>19723</td>\n",
       "      <td>Female</td>\n",
       "      <td>35.0</td>\n",
       "      <td>0</td>\n",
       "      <td>0</td>\n",
       "      <td>Yes</td>\n",
       "      <td>Self-employed</td>\n",
       "      <td>Rural</td>\n",
       "      <td>82.99</td>\n",
       "      <td>30.6</td>\n",
       "      <td>never smoked</td>\n",
       "      <td>0</td>\n",
       "    </tr>\n",
       "    <tr>\n",
       "      <th>5108</th>\n",
       "      <td>37544</td>\n",
       "      <td>Male</td>\n",
       "      <td>51.0</td>\n",
       "      <td>0</td>\n",
       "      <td>0</td>\n",
       "      <td>Yes</td>\n",
       "      <td>Private</td>\n",
       "      <td>Rural</td>\n",
       "      <td>166.29</td>\n",
       "      <td>25.6</td>\n",
       "      <td>formerly smoked</td>\n",
       "      <td>0</td>\n",
       "    </tr>\n",
       "    <tr>\n",
       "      <th>5109</th>\n",
       "      <td>44679</td>\n",
       "      <td>Female</td>\n",
       "      <td>44.0</td>\n",
       "      <td>0</td>\n",
       "      <td>0</td>\n",
       "      <td>Yes</td>\n",
       "      <td>Govt_job</td>\n",
       "      <td>Urban</td>\n",
       "      <td>85.28</td>\n",
       "      <td>26.2</td>\n",
       "      <td>Unknown</td>\n",
       "      <td>0</td>\n",
       "    </tr>\n",
       "  </tbody>\n",
       "</table>\n",
       "<p>4255 rows × 12 columns</p>\n",
       "</div>"
      ],
      "text/plain": [
       "         id  gender   age  hypertension  heart_disease ever_married  \\\n",
       "2     31112    Male  80.0             0              1          Yes   \n",
       "6     53882    Male  74.0             1              1          Yes   \n",
       "7     10434  Female  69.0             0              0           No   \n",
       "9     60491  Female  78.0             0              0          Yes   \n",
       "10    12109  Female  81.0             1              0          Yes   \n",
       "...     ...     ...   ...           ...            ...          ...   \n",
       "5104  14180  Female  13.0             0              0           No   \n",
       "5106  44873  Female  81.0             0              0          Yes   \n",
       "5107  19723  Female  35.0             0              0          Yes   \n",
       "5108  37544    Male  51.0             0              0          Yes   \n",
       "5109  44679  Female  44.0             0              0          Yes   \n",
       "\n",
       "          work_type Residence_type  avg_glucose_level   bmi   smoking_status  \\\n",
       "2           Private          Rural             105.92  32.5     never smoked   \n",
       "6           Private          Rural              70.09  27.4     never smoked   \n",
       "7           Private          Urban              94.39  22.8     never smoked   \n",
       "9           Private          Urban              58.57  24.2          Unknown   \n",
       "10          Private          Rural              80.43  29.7     never smoked   \n",
       "...             ...            ...                ...   ...              ...   \n",
       "5104       children          Rural             103.08  18.6          Unknown   \n",
       "5106  Self-employed          Urban             125.20  40.0     never smoked   \n",
       "5107  Self-employed          Rural              82.99  30.6     never smoked   \n",
       "5108        Private          Rural             166.29  25.6  formerly smoked   \n",
       "5109       Govt_job          Urban              85.28  26.2          Unknown   \n",
       "\n",
       "      stroke  \n",
       "2          1  \n",
       "6          1  \n",
       "7          1  \n",
       "9          1  \n",
       "10         1  \n",
       "...      ...  \n",
       "5104       0  \n",
       "5106       0  \n",
       "5107       0  \n",
       "5108       0  \n",
       "5109       0  \n",
       "\n",
       "[4255 rows x 12 columns]"
      ]
     },
     "execution_count": 35,
     "metadata": {},
     "output_type": "execute_result"
    }
   ],
   "source": [
    "temp2"
   ]
  },
  {
   "cell_type": "code",
   "execution_count": 36,
   "metadata": {},
   "outputs": [
    {
     "data": {
      "text/html": [
       "<div>\n",
       "<style scoped>\n",
       "    .dataframe tbody tr th:only-of-type {\n",
       "        vertical-align: middle;\n",
       "    }\n",
       "\n",
       "    .dataframe tbody tr th {\n",
       "        vertical-align: top;\n",
       "    }\n",
       "\n",
       "    .dataframe thead th {\n",
       "        text-align: right;\n",
       "    }\n",
       "</style>\n",
       "<table border=\"1\" class=\"dataframe\">\n",
       "  <thead>\n",
       "    <tr style=\"text-align: right;\">\n",
       "      <th></th>\n",
       "      <th>id</th>\n",
       "      <th>gender</th>\n",
       "      <th>age</th>\n",
       "      <th>hypertension</th>\n",
       "      <th>heart_disease</th>\n",
       "      <th>ever_married</th>\n",
       "      <th>work_type</th>\n",
       "      <th>Residence_type</th>\n",
       "      <th>avg_glucose_level</th>\n",
       "      <th>bmi</th>\n",
       "      <th>smoking_status</th>\n",
       "      <th>stroke</th>\n",
       "    </tr>\n",
       "  </thead>\n",
       "  <tbody>\n",
       "    <tr>\n",
       "      <th>2</th>\n",
       "      <td>31112</td>\n",
       "      <td>Male</td>\n",
       "      <td>80.0</td>\n",
       "      <td>0</td>\n",
       "      <td>1</td>\n",
       "      <td>Yes</td>\n",
       "      <td>Private</td>\n",
       "      <td>Rural</td>\n",
       "      <td>105.92</td>\n",
       "      <td>32.5</td>\n",
       "      <td>never smoked</td>\n",
       "      <td>1</td>\n",
       "    </tr>\n",
       "    <tr>\n",
       "      <th>6</th>\n",
       "      <td>53882</td>\n",
       "      <td>Male</td>\n",
       "      <td>74.0</td>\n",
       "      <td>1</td>\n",
       "      <td>1</td>\n",
       "      <td>Yes</td>\n",
       "      <td>Private</td>\n",
       "      <td>Rural</td>\n",
       "      <td>70.09</td>\n",
       "      <td>27.4</td>\n",
       "      <td>never smoked</td>\n",
       "      <td>1</td>\n",
       "    </tr>\n",
       "    <tr>\n",
       "      <th>7</th>\n",
       "      <td>10434</td>\n",
       "      <td>Female</td>\n",
       "      <td>69.0</td>\n",
       "      <td>0</td>\n",
       "      <td>0</td>\n",
       "      <td>No</td>\n",
       "      <td>Private</td>\n",
       "      <td>Urban</td>\n",
       "      <td>94.39</td>\n",
       "      <td>22.8</td>\n",
       "      <td>never smoked</td>\n",
       "      <td>1</td>\n",
       "    </tr>\n",
       "    <tr>\n",
       "      <th>9</th>\n",
       "      <td>60491</td>\n",
       "      <td>Female</td>\n",
       "      <td>78.0</td>\n",
       "      <td>0</td>\n",
       "      <td>0</td>\n",
       "      <td>Yes</td>\n",
       "      <td>Private</td>\n",
       "      <td>Urban</td>\n",
       "      <td>58.57</td>\n",
       "      <td>24.2</td>\n",
       "      <td>Unknown</td>\n",
       "      <td>1</td>\n",
       "    </tr>\n",
       "    <tr>\n",
       "      <th>10</th>\n",
       "      <td>12109</td>\n",
       "      <td>Female</td>\n",
       "      <td>81.0</td>\n",
       "      <td>1</td>\n",
       "      <td>0</td>\n",
       "      <td>Yes</td>\n",
       "      <td>Private</td>\n",
       "      <td>Rural</td>\n",
       "      <td>80.43</td>\n",
       "      <td>29.7</td>\n",
       "      <td>never smoked</td>\n",
       "      <td>1</td>\n",
       "    </tr>\n",
       "    <tr>\n",
       "      <th>...</th>\n",
       "      <td>...</td>\n",
       "      <td>...</td>\n",
       "      <td>...</td>\n",
       "      <td>...</td>\n",
       "      <td>...</td>\n",
       "      <td>...</td>\n",
       "      <td>...</td>\n",
       "      <td>...</td>\n",
       "      <td>...</td>\n",
       "      <td>...</td>\n",
       "      <td>...</td>\n",
       "      <td>...</td>\n",
       "    </tr>\n",
       "    <tr>\n",
       "      <th>5104</th>\n",
       "      <td>14180</td>\n",
       "      <td>Female</td>\n",
       "      <td>13.0</td>\n",
       "      <td>0</td>\n",
       "      <td>0</td>\n",
       "      <td>No</td>\n",
       "      <td>children</td>\n",
       "      <td>Rural</td>\n",
       "      <td>103.08</td>\n",
       "      <td>18.6</td>\n",
       "      <td>Unknown</td>\n",
       "      <td>0</td>\n",
       "    </tr>\n",
       "    <tr>\n",
       "      <th>5106</th>\n",
       "      <td>44873</td>\n",
       "      <td>Female</td>\n",
       "      <td>81.0</td>\n",
       "      <td>0</td>\n",
       "      <td>0</td>\n",
       "      <td>Yes</td>\n",
       "      <td>Self-employed</td>\n",
       "      <td>Urban</td>\n",
       "      <td>125.20</td>\n",
       "      <td>40.0</td>\n",
       "      <td>never smoked</td>\n",
       "      <td>0</td>\n",
       "    </tr>\n",
       "    <tr>\n",
       "      <th>5107</th>\n",
       "      <td>19723</td>\n",
       "      <td>Female</td>\n",
       "      <td>35.0</td>\n",
       "      <td>0</td>\n",
       "      <td>0</td>\n",
       "      <td>Yes</td>\n",
       "      <td>Self-employed</td>\n",
       "      <td>Rural</td>\n",
       "      <td>82.99</td>\n",
       "      <td>30.6</td>\n",
       "      <td>never smoked</td>\n",
       "      <td>0</td>\n",
       "    </tr>\n",
       "    <tr>\n",
       "      <th>5108</th>\n",
       "      <td>37544</td>\n",
       "      <td>Male</td>\n",
       "      <td>51.0</td>\n",
       "      <td>0</td>\n",
       "      <td>0</td>\n",
       "      <td>Yes</td>\n",
       "      <td>Private</td>\n",
       "      <td>Rural</td>\n",
       "      <td>166.29</td>\n",
       "      <td>25.6</td>\n",
       "      <td>formerly smoked</td>\n",
       "      <td>0</td>\n",
       "    </tr>\n",
       "    <tr>\n",
       "      <th>5109</th>\n",
       "      <td>44679</td>\n",
       "      <td>Female</td>\n",
       "      <td>44.0</td>\n",
       "      <td>0</td>\n",
       "      <td>0</td>\n",
       "      <td>Yes</td>\n",
       "      <td>Govt_job</td>\n",
       "      <td>Urban</td>\n",
       "      <td>85.28</td>\n",
       "      <td>26.2</td>\n",
       "      <td>Unknown</td>\n",
       "      <td>0</td>\n",
       "    </tr>\n",
       "  </tbody>\n",
       "</table>\n",
       "<p>4255 rows × 12 columns</p>\n",
       "</div>"
      ],
      "text/plain": [
       "         id  gender   age  hypertension  heart_disease ever_married  \\\n",
       "2     31112    Male  80.0             0              1          Yes   \n",
       "6     53882    Male  74.0             1              1          Yes   \n",
       "7     10434  Female  69.0             0              0           No   \n",
       "9     60491  Female  78.0             0              0          Yes   \n",
       "10    12109  Female  81.0             1              0          Yes   \n",
       "...     ...     ...   ...           ...            ...          ...   \n",
       "5104  14180  Female  13.0             0              0           No   \n",
       "5106  44873  Female  81.0             0              0          Yes   \n",
       "5107  19723  Female  35.0             0              0          Yes   \n",
       "5108  37544    Male  51.0             0              0          Yes   \n",
       "5109  44679  Female  44.0             0              0          Yes   \n",
       "\n",
       "          work_type Residence_type  avg_glucose_level   bmi   smoking_status  \\\n",
       "2           Private          Rural             105.92  32.5     never smoked   \n",
       "6           Private          Rural              70.09  27.4     never smoked   \n",
       "7           Private          Urban              94.39  22.8     never smoked   \n",
       "9           Private          Urban              58.57  24.2          Unknown   \n",
       "10          Private          Rural              80.43  29.7     never smoked   \n",
       "...             ...            ...                ...   ...              ...   \n",
       "5104       children          Rural             103.08  18.6          Unknown   \n",
       "5106  Self-employed          Urban             125.20  40.0     never smoked   \n",
       "5107  Self-employed          Rural              82.99  30.6     never smoked   \n",
       "5108        Private          Rural             166.29  25.6  formerly smoked   \n",
       "5109       Govt_job          Urban              85.28  26.2          Unknown   \n",
       "\n",
       "      stroke  \n",
       "2          1  \n",
       "6          1  \n",
       "7          1  \n",
       "9          1  \n",
       "10         1  \n",
       "...      ...  \n",
       "5104       0  \n",
       "5106       0  \n",
       "5107       0  \n",
       "5108       0  \n",
       "5109       0  \n",
       "\n",
       "[4255 rows x 12 columns]"
      ]
     },
     "execution_count": 36,
     "metadata": {},
     "output_type": "execute_result"
    }
   ],
   "source": [
    "temp3 = temp2\n",
    "temp3"
   ]
  },
  {
   "cell_type": "markdown",
   "metadata": {},
   "source": [
    "Perbandingan pasien yang mengalami stroke dan not stroke"
   ]
  },
  {
   "cell_type": "code",
   "execution_count": 37,
   "metadata": {},
   "outputs": [
    {
     "data": {
      "text/plain": [
       "0    4119\n",
       "1     136\n",
       "Name: stroke, dtype: int64"
      ]
     },
     "execution_count": 37,
     "metadata": {},
     "output_type": "execute_result"
    }
   ],
   "source": [
    "temp3['stroke'].value_counts()"
   ]
  },
  {
   "cell_type": "code",
   "execution_count": 38,
   "metadata": {},
   "outputs": [
    {
     "data": {
      "text/plain": [
       "([<matplotlib.patches.Wedge at 0x263ddc3af10>,\n",
       "  <matplotlib.patches.Wedge at 0x263ddc731f0>],\n",
       " [Text(1.0944591522114897, 0.1102685999752755, 'Stroke'),\n",
       "  Text(-1.0944591509209782, -0.11026861278410788, 'Not Stroke')],\n",
       " [Text(0.5969777193880853, 0.06014650907742299, '3.2%'),\n",
       "  Text(-0.5969777186841698, -0.06014651606405884, '96.8%')])"
      ]
     },
     "execution_count": 38,
     "metadata": {},
     "output_type": "execute_result"
    },
    {
     "data": {
      "image/png": "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\n",
      "text/plain": [
       "<Figure size 432x288 with 1 Axes>"
      ]
     },
     "metadata": {},
     "output_type": "display_data"
    }
   ],
   "source": [
    "plt.title('Perbandingan Pasien yang Mengalami Stroke dan Not Stroke')\n",
    "plt.style.use(\"fivethirtyeight\")\n",
    "labels=('Stroke','Not Stroke')\n",
    "slices=[136,4119]\n",
    "colors=['red','blue']\n",
    "plt.pie(slices, labels=labels, wedgeprops={'edgecolor':'black'}, autopct='%1.1f%%')"
   ]
  },
  {
   "cell_type": "markdown",
   "metadata": {},
   "source": [
    "# Faktor Risiko Stroke dikarenakan Penyakit"
   ]
  },
  {
   "cell_type": "markdown",
   "metadata": {},
   "source": [
    "Hypertension"
   ]
  },
  {
   "cell_type": "code",
   "execution_count": 39,
   "metadata": {},
   "outputs": [
    {
     "data": {
      "text/plain": [
       "hypertension  stroke  gender\n",
       "1             0       Female    140\n",
       "                      Male      119\n",
       "              1       Female     24\n",
       "                      Male        8\n",
       "Name: stroke, dtype: int64"
      ]
     },
     "execution_count": 39,
     "metadata": {},
     "output_type": "execute_result"
    }
   ],
   "source": [
    "Hyp = temp3[(temp3['hypertension']==1) & (temp3['stroke']==1)]\n",
    "hypertension = temp3[(temp3['hypertension']==1)]\n",
    "hyp=hypertension.groupby(['hypertension', 'stroke','gender'])['stroke'].count()\n",
    "hyp"
   ]
  },
  {
   "cell_type": "code",
   "execution_count": 40,
   "metadata": {},
   "outputs": [
    {
     "data": {
      "text/plain": [
       "<AxesSubplot:xlabel='hypertension,stroke,gender'>"
      ]
     },
     "execution_count": 40,
     "metadata": {},
     "output_type": "execute_result"
    },
    {
     "data": {
      "image/png": "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\n",
      "text/plain": [
       "<Figure size 432x288 with 1 Axes>"
      ]
     },
     "metadata": {},
     "output_type": "display_data"
    }
   ],
   "source": [
    "hyp.plot(kind='bar')"
   ]
  },
  {
   "cell_type": "markdown",
   "metadata": {},
   "source": [
    "Dari bar chart tersebut, ditunjukkan bahawa hipertensi berperan menyebabkan stroke yang mana hal tersebut didukung oleh website yang digunakan dalam analisis ini. Perempuan lebih dominan terkena stroke dengan penyakit hipertensi."
   ]
  },
  {
   "cell_type": "code",
   "execution_count": 41,
   "metadata": {},
   "outputs": [
    {
     "data": {
      "text/plain": [
       "<AxesSubplot:xlabel='gender', ylabel='hypertension'>"
      ]
     },
     "execution_count": 41,
     "metadata": {},
     "output_type": "execute_result"
    },
    {
     "data": {
      "image/png": "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\n",
      "text/plain": [
       "<Figure size 432x288 with 2 Axes>"
      ]
     },
     "metadata": {},
     "output_type": "display_data"
    }
   ],
   "source": [
    "temp1_sns=(\n",
    "    Hyp\n",
    "    .groupby('hypertension')\n",
    "    .gender\n",
    "    .value_counts()\n",
    "    .unstack()\n",
    "    .fillna(0)\n",
    "    \n",
    ")\n",
    "sns.heatmap(temp1_sns, cmap='Blues', annot=True, linewidth=1,linecolor='Black')"
   ]
  },
  {
   "cell_type": "markdown",
   "metadata": {},
   "source": [
    "dari data tersebut, dapat diketahui penderita Hypertensi berpotensi mengalami stroke, dengan perempuan lebih dominan dari pada laki laki"
   ]
  },
  {
   "cell_type": "markdown",
   "metadata": {},
   "source": [
    "Diabetes"
   ]
  },
  {
   "cell_type": "code",
   "execution_count": 42,
   "metadata": {},
   "outputs": [
    {
     "data": {
      "text/plain": [
       "Male      5\n",
       "Female    2\n",
       "Name: gender, dtype: int64"
      ]
     },
     "execution_count": 42,
     "metadata": {},
     "output_type": "execute_result"
    }
   ],
   "source": [
    "diabetes = temp3[(temp3['avg_glucose_level']>=140) & (temp3['stroke']==1)]\n",
    "diabetes.groupby(['avg_glucose_level', 'stroke','gender'])['stroke'].value_counts()\n",
    "Diabetes=diabetes['gender'].value_counts()\n",
    "Diabetes"
   ]
  },
  {
   "cell_type": "code",
   "execution_count": 43,
   "metadata": {},
   "outputs": [
    {
     "data": {
      "text/plain": [
       "<AxesSubplot:>"
      ]
     },
     "execution_count": 43,
     "metadata": {},
     "output_type": "execute_result"
    },
    {
     "data": {
      "image/png": "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\n",
      "text/plain": [
       "<Figure size 432x288 with 1 Axes>"
      ]
     },
     "metadata": {},
     "output_type": "display_data"
    }
   ],
   "source": [
    "Diabetes.plot(kind='bar')"
   ]
  },
  {
   "cell_type": "markdown",
   "metadata": {},
   "source": [
    "Perempuan yang diabetes lebih dominan mengalami stroke daripada pria yang mengalami diabetes yang ditunjukkan melalui diagram bar diatas. Hal ini juga membuktikan bahwa perempuan lebih rentan terkena stroke daripada laik laki. "
   ]
  },
  {
   "cell_type": "code",
   "execution_count": 44,
   "metadata": {},
   "outputs": [
    {
     "data": {
      "text/plain": [
       "<AxesSubplot:xlabel='gender', ylabel='avg_glucose_level'>"
      ]
     },
     "execution_count": 44,
     "metadata": {},
     "output_type": "execute_result"
    },
    {
     "data": {
      "image/png": "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\n",
      "text/plain": [
       "<Figure size 432x288 with 2 Axes>"
      ]
     },
     "metadata": {},
     "output_type": "display_data"
    }
   ],
   "source": [
    "temp2_sns=(\n",
    "    diabetes\n",
    "    .groupby('avg_glucose_level')\n",
    "    .gender\n",
    "    .value_counts()\n",
    "    .unstack()\n",
    "    .fillna(0)\n",
    "    \n",
    ")\n",
    "sns.heatmap(temp2_sns, cmap='Reds', annot=True, linewidth=1,linecolor='Black')"
   ]
  },
  {
   "cell_type": "markdown",
   "metadata": {},
   "source": [
    "Dari visual diatas dapat diketahui penderita Diabetes dapat terkena stroke yang melebihi dari 140"
   ]
  },
  {
   "cell_type": "markdown",
   "metadata": {},
   "source": [
    "Serangan Jantung"
   ]
  },
  {
   "cell_type": "code",
   "execution_count": 45,
   "metadata": {},
   "outputs": [
    {
     "data": {
      "text/plain": [
       "heart_disease  stroke  gender\n",
       "1              0       Female    51\n",
       "                       Male      86\n",
       "               1       Female     7\n",
       "                       Male      11\n",
       "Name: stroke, dtype: int64"
      ]
     },
     "execution_count": 45,
     "metadata": {},
     "output_type": "execute_result"
    }
   ],
   "source": [
    "HEART = temp3[(temp3['heart_disease']==1) & (temp3['stroke']==1)]\n",
    "heart = temp3[(temp3['heart_disease']==1) ]\n",
    "Heart = heart.groupby(['heart_disease', 'stroke','gender'])['stroke'].count()\n",
    "Heart"
   ]
  },
  {
   "cell_type": "code",
   "execution_count": 46,
   "metadata": {
    "scrolled": true
   },
   "outputs": [
    {
     "data": {
      "text/plain": [
       "<AxesSubplot:xlabel='heart_disease,stroke,gender'>"
      ]
     },
     "execution_count": 46,
     "metadata": {},
     "output_type": "execute_result"
    },
    {
     "data": {
      "image/png": "iVBORw0KGgoAAAANSUhEUgAAAZsAAAFyCAYAAAAj03eyAAAAOXRFWHRTb2Z0d2FyZQBNYXRwbG90bGliIHZlcnNpb24zLjMuMiwgaHR0cHM6Ly9tYXRwbG90bGliLm9yZy8vihELAAAACXBIWXMAAAsTAAALEwEAmpwYAAAvCUlEQVR4nO3deVzN+f4H8NeRQSoiOYUWU2kbQhJhuLaYkCVT3CFZJ9yHxmjKNra5t8WamWRpxu66TWIYg1nKnszFhJE7DVdkkl9yqKaQzu8PD+c61WmhT9865/V8PDwezvf7Pd/z/n7Pu159d5lCoVCCiIhIoAZSF0BERNqPYUNERMIxbIiISDiGDRERCcewISIi4Rg2REQkHMOGiIiEY9hUQ3p6utQl6CSud2lwvUtDW9c7w4aIiIRj2BARkXAMGyIiEo5hQ0REwjFsiIhIOIYNEREJx7AhIiLhGDZERCRcQ6kLIO1gvPWuwLk3BU6Lm78ioK2weRPRC9yyISIi4Rg2REQkHMOGiIiEY9gQEZFwDBsiIhKOYUNERMIxbIiISDiGDRERCcewISIi4Rg2REQkHMOGiIiEqzRsnj9/js8++wydOnWCXC5Hp06d8Nlnn6G4uFg1jVKpRFhYGBwcHGBmZgYvLy+kpaUJLZyIiOqPSsNm3bp1iI2NRUREBM6fP4/w8HBs2bIFa9asUU0TFRWF6OhoREREIDExEaamphg1ahTy8vKEFk9ERPVDpWFz/vx5DBkyBEOHDoWVlRXee+89DB06FBcuXADwYqsmJiYGQUFB8Pb2hpOTE2JiYpCfn4/4+HjhC0BERHVfpWHTo0cPnD59Gr/99hsA4Pr16zh16hQGDRoEAMjIyEB2djb69++veo++vj48PDyQkpIiqGwiIqpPKn2eTVBQEPLz8+Hu7g49PT0UFxdj3rx5mDp1KgAgOzsbAGBqaqr2PlNTU2RlZWmcb3p6+pvULZn6Wrd4TaUu4LXxO9WM60Ya9XG929nZVTi+0rBJSEjA3r17ERsbCwcHB1y5cgWhoaGwtLTExIkTVdPJZDK19ymVyjLDqlNYXZSenl4v664VAh9uJhq/0/Kx36Whreu90rD59NNPMXv2bIwZMwYA4OzsjDt37mDt2rWYOHEi5HI5AOD+/fto166d6n05OTlltnaIiEg3VXrM5s8//4Senp7aMD09PZSUlAAArKysIJfLkZSUpBpfVFSE5ORkuLu713C5RERUH1W6ZTNkyBCsW7cOVlZWcHBwwOXLlxEdHQ0/Pz8AL3afBQYGYvXq1bCzs4OtrS1WrVoFAwMD+Pj4CF8AIiKq+yoNm8jISPz973/Hxx9/jJycHMjlcvj7++OTTz5RTTNnzhwUFhYiODgYCoUCrq6uSEhIgJGRkdDiiYiofpApFAql1EXUF9p64K4mGG+tvycIKALaSl1CncR+l4a2rnfeG42IiIRj2BARkXAMGyIiEo5hQ0REwjFsiIhIOIYNEREJx7AhIiLhGDZERCQcw4aIiIRj2BARkXAMGyIiEo5hQ0REwjFsiIhIOIYNEREJx7AhIiLhGDZERCQcw4aIiIRj2BARkXAMGyIiEo5hQ0REwjFsiIhIOIYNEREJx7AhIiLhGDZERCQcw4aIiIRj2BARkXAMGyIiEo5hQ0REwjFsiIhIOIYNEREJx7AhIiLhGDZERCQcw4aIiIRj2BARkXAMGyIiEo5hQ0REwjFsiIhIOIYNEREJx7AhIiLhGDZERCQcw4aIiISrUtjcu3cPH374IWxsbCCXy+Hu7o7Tp0+rxiuVSoSFhcHBwQFmZmbw8vJCWlqasKKJiKh+qTRsFAoFPD09oVQqERcXh5SUFERGRsLU1FQ1TVRUFKKjoxEREYHExESYmppi1KhRyMvLE1o8ERHVDw0rm2D9+vUwMzPDpk2bVMOsra1V/1cqlYiJiUFQUBC8vb0BADExMbCzs0N8fDwCAgJqvmoiIqpXKt2yOXz4MFxdXREQEABbW1v07t0bmzdvhlKpBABkZGQgOzsb/fv3V71HX18fHh4eSElJEVc5ERHVG5Vu2dy6dQtffvklZs6ciaCgIFy5cgUhISEAgOnTpyM7OxsA1HarvXydlZWlcb7p6elvUrdk6mvd4jWVuoDXxu9UM64badTH9W5nZ1fh+ErDpqSkBF26dMGSJUsAAC4uLrh58yZiY2Mxffp01XQymUztfUqlssyw6hRWF6Wnp9fLumvF6btSV/Da+J2Wj/0uDW1d75XuRpPL5bC3t1cb1qFDB2RmZqrGA8D9+/fVpsnJySmztUNERLqp0rDp0aMHfv/9d7Vhv//+OywsLAAAVlZWkMvlSEpKUo0vKipCcnIy3N3da7hcIiKqjyoNm5kzZ+Lnn3/GqlWrcPPmTRw4cACbN2/G1KlTAbzYfRYYGIh169bh4MGDuHbtGmbOnAkDAwP4+PgIXwAiIqr7Kj1m07VrV+zevRvLly/HypUr0a5dOyxYsEAVNgAwZ84cFBYWIjg4GAqFAq6urkhISICRkZHQ4omIqH6QKRQKpdRF1BfaeuCuJhhvrb8nCCgC2kpdQp3EfpeGtq533huNiIiEY9gQEZFwDBsiIhKOYUNERMIxbIiISDiGDRERCcewISIi4Rg2REQkHMOGiIiEY9gQEZFwDBsiIhKOYUNERMIxbIiISDiGDRERCcewISIi4Rg2REQkXKVP6qxvxD7EqylwWtz8+RAvItJW3LIhIiLhGDZERCQcw4aIiIRj2BARkXAMGyIiEo5hQ0REwjFsiIhIOIYNEREJx7AhIiLhGDZERCQcw4aIiIRj2BARkXAMGyIiEo5hQ0REwjFsiIhIOIYNEREJx7AhIiLhGDZERCQcw4aIiIRj2BARkXAMGyIiEo5hQ0REwjFsiIhIOIYNEREJV+2wWb16NYyNjREcHKwaplQqERYWBgcHB5iZmcHLywtpaWk1WigREdVf1Qqbn3/+Gdu3b4ezs7Pa8KioKERHRyMiIgKJiYkwNTXFqFGjkJeXV6PFEhFR/VTlsHn06BGmTZuGzz//HMbGxqrhSqUSMTExCAoKgre3N5ycnBATE4P8/HzEx8eLqJmIiOqZhlWd8GWY9O3bF5GRkarhGRkZyM7ORv/+/VXD9PX14eHhgZSUFAQEBJQ7v/T09DcouyJNBc1XPHHrpDZwvWsjrhtp1Mf1bmdnV+H4KoXN9u3bcfPmTWzatKnMuOzsbACAqamp2nBTU1NkZWW9dmGv7fRdMfOtBcLWSW3getc66enpXDcS0Nb1XmnYpKenY/ny5Thy5AgaNWqkcTqZTKb2WqlUlhlGRES6qdJjNufPn8eDBw/Qs2dPmJiYwMTEBGfOnEFsbCxMTEzQsmVLAMD9+/fV3peTk1Nma4eIiHRTpVs2Xl5e6NKli9qwWbNmwcbGBnPnzoWtrS3kcjmSkpLQtWtXAEBRURGSk5OxfPlyMVUTEVG9UmnYGBsbq519BgBNmzZFixYt4OTkBAAIDAzE6tWrYWdnB1tbW6xatQoGBgbw8fERUjQREdUvVT4brSJz5sxBYWEhgoODoVAo4OrqioSEBBgZGdXE7ImIqJ57rbA5fPiw2muZTIb58+dj/vz5NVIUERFpF94bjYiIhGPYEBGRcAwbIiISjmFDRETCMWyIiEg4hg0REQnHsCEiIuEYNkREJBzDhoiIhGPYEBGRcAwbIiISjmFDRETCMWyIiEg4hg0REQnHsCEiIuEYNkREJBzDhoiIhGPYEBGRcAwbIiISjmFDRETCMWyIiEg4hg0REQnHsCEiIuEYNkREJBzDhoiIhGPYEBGRcAwbIiISjmFDRETCMWyIiEg4hg0REQnHsCEiIuEYNkREJBzDhoiIhGPYEBGRcAwbIiISjmFDRETCMWyIiEg4hg0REQnHsCEiIuEYNkREJFylYbNmzRr85S9/gYWFBWxsbODr64tr166pTaNUKhEWFgYHBweYmZnBy8sLaWlpwoomIqL6pdKwOX36NKZMmYJjx47h4MGDaNiwIUaOHImHDx+qpomKikJ0dDQiIiKQmJgIU1NTjBo1Cnl5eUKLJyKi+qFhZRMkJCSovd60aRMsLS1x7tw5DB06FEqlEjExMQgKCoK3tzcAICYmBnZ2doiPj0dAQICYyomIqN6o9jGb/Px8lJSUwNjYGACQkZGB7Oxs9O/fXzWNvr4+PDw8kJKSUmOFEhFR/VXplk1poaGh6NixI7p37w4AyM7OBgCYmpqqTWdqaoqsrCyN80lPT6/uR1dRU0HzFU/cOqkNXO/aiOtGGvVxvdvZ2VU4vlphs2DBApw7dw5Hjx6Fnp6e2jiZTKb2WqlUlhlWncJe2+m7YuZbC4Stk9rA9a510tPTuW4koK3rvcq70ebPn499+/bh4MGDsLa2Vg2Xy+UAgPv376tNn5OTU2Zrh4iIdFOVwiYkJATx8fE4ePAgOnTooDbOysoKcrkcSUlJqmFFRUVITk6Gu7t7zVZLRET1UqW70ebNm4d//etf2LVrF4yNjVXHaAwMDGBoaAiZTIbAwECsXr0adnZ2sLW1xapVq2BgYAAfHx/hC0BERHVfpWETGxsLAKrTml8KCQnB/PnzAQBz5sxBYWEhgoODoVAo4OrqioSEBBgZGQkomYiI6ptKw0ahUFQ6E5lMhvnz56vCh4iI6FW8NxoREQnHsCEiIuEYNkREJBzDhoiIhGPYEBGRcAwbIiISjmFDRETCMWyIiEg4hg0REQnHsCEiIuEYNkREJBzDhoiIhGPYEBGRcAwbIiISjmFDRETCMWyIiEi4Sh+eRkRE6oy33hU496bAaXHzVwS0FTbvinDLhoiIhGPYEBGRcAwbIiISjmFDRETCMWyIiEg4hg0REQnHsCEiIuEYNkREJBzDhoiIhGPYEBGRcLxdDVE9xtumUH3BLRsiIhKOYUNERMIxbIiISDiGDRERCcewISIi4Rg2REQkHMOGiIiEY9gQEZFwDBsiIhKOYUNERMIxbIiISDiGDRERCcewISIi4Wo0bGJjY9GpUyfI5XL07dsXZ8+ercnZExFRPVVjYZOQkIDQ0FB8/PHHOHnyJLp3746xY8fizp07NfURRERUT9VY2ERHR2P8+PHw9/eHvb09Vq5cCblcjq+++qqmPoKIiOopmUKhUL7pTJ4+fQpzc3N8+eWXGDlypGr4vHnzcO3aNXz33Xdv+hFERFSP1ciWzYMHD/D8+XOYmpqqDTc1NcX9+/dr4iOIiKgeq9ETBGQymdprpVJZZhgREemeGgkbExMT6OnpldmKycnJKbO1Q0REuqdGwqZRo0bo3LkzkpKS1IYnJSXB3d29Jj6CiIjqsYY1NaNZs2ZhxowZcHV1hbu7O7766ivcu3cPAQEBNfURRERUT9VY2IwePRq5ublYuXIlsrOz4ejoiLi4OFhaWtbUR9S6J0+eICsrC0VFRWjVqhVatWoldUlEwrDfSaQaOfVZm+Tl5SEuLg7x8fG4ePEinj17pjrRwdzcHAMGDMCkSZPQtWtXqUvVOgqFAocOHcKZM2dw+/Zt1S+9Tp06YdCgQdwlKwD7XTq61u8Mm1dER0dj1apVsLa2xtChQ+Hq6gozMzPo6+vj4cOHuHbtGpKTk/Htt9/Czc0NkZGRsLGxkbrsei8rKwv/+Mc/8PXXX8PMzKzc9Z6amgoLCwuEhIRg9OjRUpesFdjv0tDVfmfYvMLf3x8hISFwcnKqcLonT55g586daNSoESZOnFhL1WkvW1tbjBs3DuPHj4ejo2O50xQWFuLw4cOIiYnByJEj8be//a2Wq9Q+7Hdp6Gq/M2xIcjk5OdU6PlDd6YnqEl3td4ZNJR48eID//ve/6NixIxo3bix1OURCsd9JFD7PRoO8vDxMmjQJtra2GDx4MLKysgAAH330EcLCwiSuTrv98MMP8PX1hbu7OzIzMwEAO3bswIkTJySuTHux36WjK/3OsNFg6dKlyMrKwokTJ6Cvr68a7unpiW+//VbCyrRbXFwcAgIC8PbbbyMjIwPFxcUAgOfPnyMqKkri6rQX+10autTvDBsNjhw5grCwMHTq1Ent/m729vbIyMiQsDLtFhUVhaioKISFhaFhw/9dBtatWzdcuXJFwsq0G/tdGrrU7wwbDRQKBVq2bFlmeF5eHho04GoT5ebNm3Bzcysz3NDQEHl5eRJUpBvY79LQpX5nF2nQpUuXcp/Ds23bNq272KouMTMzw40bN8oMP3PmDNq3by9BRbqB/S4NXer3Grtdjbb59NNPMWbMGFy/fh3FxcWIjo7G9evXcfHiRRw+fFjq8rTWpEmTEBISgvXr1wMAMjMzcfbsWSxZsgShoaESV6e92O/S0KV+56nPFfj111/x+eefIzU1FSUlJXBxccGcOXPg7OwsdWlabcWKFdiwYQOKiooAAI0bN8bs2bOxaNEiiSvTbux3aehKvzNsqE76888/8Z///AclJSWwt7eHoaGh1CURCaML/c6wecXDhw+rPG2LFi0EVkIkHvudahPD5hUtWrSo9DHWL++Im5ubW0tVaT8/P78qT7t3716BlegW9rs0dLXfeYLAKw4dOiR1CTqpvFNuSTz2uzR0td+5ZUNERMJxy6YKsrOz8fTpU7VhFhYWElVDJBb7nURg2Gjw6NEjhISE4MCBA2V+8ABwH7ZAJ0+exL59+5CZmVlm3XPXjxjsd+noSr/zDgIaLF68GFevXsXu3bvRpEkTxMbGYvny5WjTpg22bt0qdXlaa/fu3Rg7dizy8/Nx+vRptGrVCgqFAqmpqXBwcJC6PK3FfpeGLvU7t2w0+PHHHxEbGwsPDw/o6emhc+fOGD16NMzMzLB161Z4e3tLXaJW+uKLL7By5UpMnDgR7dq1w5IlS2BtbY3g4GAYGBhIXZ7WYr9LQ5f6nVs2Gjx69Ei1n7pZs2aq3Qhubm44f/68lKVptVu3bqFv374AgEaNGiE/Px8AMG3aNOzZs0fK0rQa+10autTvDBsNrK2tcevWLQBAhw4dsG/fPiiVShw6dIgXuAnUsmVL1Q+cubk50tLSALw4ZvDydh5U89jv0tClfuduNA3Gjx+PX3/9FX369EFQUBD8/PywZcsWlJSUIDw8XOrytFbPnj2RmJgIZ2dnjBo1CiEhIUhKSsLJkyfRr18/qcvTWux3aehSv/M6myq6c+cOLl26BBsbG96YUKCHDx+iqKgI5ubmKCkpwfr163Hu3DnY2tpi3rx5MDY2lrpEncB+rx261O8MGyIiEo670SqQmpqKU6dOIScnByUlJWrjli9fLlFVRGKw30kkho0GUVFRWLp0KSwsLNC6dWu1GxZWdvNCqr6qXqF+584dwZXoJvZ77dLFfmfYaLBhwwasWbMGAQEBUpeiE/Lz82FhYQE/Pz9YW1tLXY7OYb/XLl3sd4aNBiUlJarz30m8uLg47Nq1C+vXr4e7uzs++OADjBgxAo0bN5a6NJ3Afq9dutjvPEFAg7CwMBQXF2Px4sVSl6JTcnNzsXfvXuzatQt//PEHfHx8MGHCBLi4uEhdmlZjv0tDl/qdYaOBUqnE2LFjce/ePTg5OeGtt95SGx8dHS1RZbrjwoULWLp0Kc6cOYObN29q1WmgdQ37XXra3u/cjabBihUrkJiYCBcXFzx69EjqcnRKQUEB9u3bh127duHXX3+Fr68vmjZtKnVZWo39Lh1d6Xdu2WhgaWmJdevWYfTo0VKXojPOnj2LnTt34uDBg3B0dMSECRMwevRoGBkZSV2a1mO/1z5d63du2Wigr6+PTp06SV2GzujWrRsePXoEX19fJCYmwt7eXuqSdAr7vXbpYr9zy0aDqKgo3L59G6tWreJ1BrWgRYsWaNKkCfT09Cpc39p03UFdwn6vXbrY79yy0eDs2bNITk7GsWPH4ODggIYN1VfV3r17JapMO/EAtLTY77VLF/udYaOBiYkJhg0bJnUZOmP8+PFSl6DT2O+1Sxf7nbvRiIhIOD48rRKXLl1CQkICCgoKALw4TbG4uFjiqojEYL+TKNyNpsH9+/cxbtw4XLx4ETKZDBcvXoSBgQEWLlyIxo0bIyIiQuoSiWoM+51E45aNBgsWLEDr1q3x3//+V+0Cq5EjRyIpKUnCyohqHvudROOWjQYnTpzAN998U+aWEdbW1sjMzJSmKCJB2O8kGrdsNCgqKkKjRo3KDH/w4IFW35m1LvvnP/+JjIwMqcvQSuz3ukfb+p1ho4GHhwf27NmjNuz58+dYt24db8UukZkzZ6Jnz56IjIyUuhStw36ve7St37kbTYNly5bBy8sLFy9exJMnT7Bo0SJcv34djx8/xrFjx6QuTyelpqbi1q1b+PHHH6UuReuw3+sebet3XmdTgezsbMTGxuLy5csoKSmBi4sLpk6dCjMzM6lLI6px7HcSiWFTysaNGzFp0iQ0adJE6lJ01u3bt3H//n3IZDKYmprC0tJS6pK0FvudaguP2ZSyYMEC5OXlqV5bWFjg1q1b0hWkQ6Kjo+Hs7IzOnTtj0KBBGDhwIDp37gxnZ2ds2LBB6vK0Evu9brpy5QpatmwpdRk1isdsSlEqlRW+JjEiIyPx+eefY86cORgwYABMTU2hVCqRk5ODxMREhIeHo6CgAMHBwVKXqlXY73WXtn0XDBuqE7Zv344NGzZg+PDhasMtLCzQpUsX2NnZISQkhGFDWqF0n5dWUFCgdY96YNiUIpPJ1L5kbfvC66rc3Fx06NBB43g7OzsoFIraK0hHsN+lce7cOXh6esLc3Lzc8bm5ufjll19qtyjBeIJAKS1atICBgYHqhy4/P1/t9Uva9FCjusDLywtmZmaIiYkpc3Hh06dPMXPmTGRlZeHw4cMSVaid2O/S6NWrF2bMmIGJEyeWO/7y5cvo168fcnNza7kycbhlU4ouPtSoLli5ciVGjRoFW1tb9OzZE61bt4ZMJkN2djaSk5PRtGlT7N+/X+oytQ77XRouLi5ITU3VOL5x48Zo165dLVYkHrdsqM7Iy8tDXFwcfv75Z9y/fx8A0Lp1a3Tv3h0+Pj5o1qyZxBUS1YwnT57g+fPnajc91XYMGyIiEo7X2RARkXAMGyIiEo5hQ0REwjFsiIhIOIbNa9C2hxoRVYT9TjWBYfMatO2hRvVFREQEfv75Z6nL0Dnsd2loW78zbF5Damoq9u7di/z8fKlL0Snh4eEYMmQIZs2aJXUpOoX9Lg1t63deZ0P1yssnF06dOlXqUoiE06Z+Z9hUgA/xIiKqGdyNVg4+xKvuKS4u5s0gJaCND/GqD7Sx33kjzlL4EK+6KS0tDX379tWqu+DWF9r2EK/6QBv7nWFTCh/iRbpEFx/iRdJg2JTCh3hJw8XFpcLxz549q6VKdIsuPsSrLtDFfmfYlNK1a1dERkZqfIjX6tWr0bVrV4mq017Z2dnw8/ODjY1NueOzsrKwcePGWq5K+3Xo0AGDBw+u8CFefI5QzdPFfmfYlMKHeEnD0dERzs7OmDZtWrnjr1y5onU/fHWBLj7Eqy7QxX5n2JTi5OSEf//736qHeN29exfAi4d4LV26lA/xEsTd3R2///67xvGGhobw8PCoxYp0w9q1a/H8+XON4+3t7XH58uVarEg36GK/8zobIiISjtfZEBGRcAwbktytW7eqPK1SqURmZqa4YogE09V+Z9iQ5AYPHozZs2fj/PnzGqdRKBT48ssv4e7uju+++64WqyOqWbra7zxmQ5JTKBRYvXo1du7cCT09PXTu3BlyuRxNmjSBQqHA9evX8dtvv8HV1RWffPIJBgwYIHXJRK9NV/udYUN1RmFhIb7//nskJyfjzp07KCoqgomJCTp27IgBAwbAyclJ6hKJaoyu9TvD5jVERESgf//+cHNzk7oUIuHY71QTGDavoUWLFmjQoAH8/PwQHR0tdTlEQrHfqSbwBIHX8PDhQ1y4cAFdunSRuhQi4djvVBO4ZUNERMJxy6aatPGhRkSasN+ppjBsqiktLa3S24MTaQv2O9UUhg0REQnHuz6XoosPNSLdxX6n2sKwKUUXH2pEuov9TrWFYVOKLj7UiHQX+51qC4/ZlKKLDzUi3cV+p9rC62yIiEg4btkQEZFwDJtX6OpDjUg3sd+pNjFsXqGrDzUi3cR+p9rEYzav0NWHGpFuYr9TbWLYlEPXHmpEuo39TrWBYUNERMLxmA0REQnHsCEiIuEYNkREJBzDhoiIhGPY1BFhYWEwNjZGdna21KUIZ2xsjLCwMNXr3bt3w9jYGBkZGRJWpRsCAwMhl8ulLkMSpfuOahfDhjS6e/cuwsLCcPnyZalL0Rn5+fkICwvDqVOnpC6FqEYxbEijP/74AxEREbhy5YrQz/Hz88O9e/dgaWkp9HPqg4KCAkREROD06dNSl0JUoxg2VMbTp0/x/PnzWvs8PT09NGnSBDKZrNY+U1v8+eefUpegk54/f46nT59KXUa9wrCpY/Lz8/HRRx+hffv2aNu2Lfz9/ZGbm6s2TVJSEoYNG4Z27dqhTZs2GDZsGFJSUtSmuX37Nj7++GO4ubnB3NwclpaW8PX1RVpamtp0p06dgrGxMeLi4hAZGYl33nkHZmZm2Lt3LwYNGgQAmDVrFoyNjau9z/vx48eYM2cOrK2tYWFhgQkTJuDevXtlpivvmM3NmzcxadIk2NvbQy6Xw9nZGf7+/vjjjz/U3rtv3z4MGDBAbRmvX7+uNs3Vq1cRGBiouh2LjY0NpkyZUubGksXFxVi5ciVcXV1hZmaGt99+G4MHD8Y333yjNt2NGzcwefJk2NjYoHXr1vDw8MCuXbuqtE5++eUXjB07FjY2NjAzM4OLiwtmzJiBgoICZGRkwN7eHgAQERGhWueBgYEA/ndc7/r16/jwww/Rvn179OjRQzXvHTt2wMPDA3K5HLa2tpgxYwaysrIqrem3336Do6Mj+vXrh4cPHwIA7t27hzlz5sDBwQGtW7dG165dERUVBaWyateAb9u2DV26dIFcLkfv3r1x9OhRBAYGomPHjmrTKZVKbN68WVV3+/btMW3aNNy9e1dtOi8vL7i5ueHGjRsYM2YM2rRpAzs7OyxbtgwlJSVq01a176q6nBkZGTA2NsbatWsRGxuLrl27onXr1mV+5qhifFJnHTNlyhTI5XIsXLgQN27cwObNm/HWW28hNjYWABAfH4/p06ejT58+WLhwIUpKSrB7926MGDEChw8fRrdu3QAAly5dwpkzZzB8+HBYWloiKysLW7duxXvvvYdz586VOUi8du1ayGQyzJgxAwAwaNAghIaGIjw8HJMmTULPnj0BAM7OzlVaDqVSiQ8++ACnTp3ChAkT0LFjRxw/fhxjx46t9L3Pnj3D6NGjUVRUhKlTp0IulyM7OxuJiYn4448/0KZNGwDAunXrsHTpUgwfPhx+fn4oKChAbGwsPD09ceLECVhbWwN4Ec7p6el4//330bZtW9y8eRNbt27FxYsXcfbsWejr6wMAwsPDsXr1akyYMAGurq4oKCjA5cuX8e9//xve3t4AgP/85z/w9PSEiYkJZs2ahebNm+P777/H7Nmz8fjxY8ycOVPjcuXk5GDUqFEwMTHBnDlzYGxsjMzMTBw5cgQFBQVo1aoVVq5cieDgYAwbNgzDhw8HALRv315tPgEBAbC0tMTChQtVf12vXbsWy5Ytg4eHB5YvX47MzExs2bIFycnJOHnyJIyNjcut6erVqxg1ahTefvttxMXFoXnz5vi///s/DBw4EMXFxfD394eZmRmSk5OxZMkSZGVlITw8vMLvb9u2bQgKCoKbmxumT5+OnJwczJgxA23bti0z7dy5c7Fjxw74+vpi6tSpyM7OxubNm5GSklKm7sePH8Pb2xtDhgyBl5cXfvzxR6xduxZWVlaYNGkSgOr1XXWXMy4uDvn5+Zg0aRIMDQ1hZmZW4XogdQybOqZDhw7YvHmz6rVSqcSWLVuwevVqNGzYEPPmzYOvry9iYmJU0wQEBKBHjx5Yvnw5Dh48COBFWLz8BfmSr68vevbsiZ07d2LevHlq4/Ly8pCSkgIDAwPVsAEDBiA8PBxubm7w9fWt1nIcPXoUJ0+exIIFC/DJJ58AAKZNm4Zp06ZVegzo+vXruHXrFrZv3662DMHBwar/37lzB5999hlCQkIwf/581XA/Pz90794dq1atwhdffAHgRYD/7W9/U/uMIUOGYOjQoTh06BDef/99AMCxY8cwePBgrF+/XmNtoaGhkMvlSEpKQtOmTVXzDwgIQFhYGPz9/dXW4atSUlLw8OFDJCQkoEuXLqrhCxYsUP1/xIgRCA4OhrOzs8Z1bmtri507d6peP3jwAOHh4ejduzcOHDiAhg1f/Fj36NEDf/3rX/HFF19g0aJFZeZz8eJFjB49Gh07dsTevXtVdX/22Wd48uQJzpw5g9atWwN40WNmZmb44osvEBgYCCsrq3Jre/bsGVasWIF33nkHhw8fRqNGjQAA7777Lry9vWFhYaG2PrZu3Yro6Gj89a9/VQ0fPnw4+vXrh82bN6t6BwCys7Oxfv16TJw4EQAwefJk9O7dG9u3b1eFTXX6rrrLefv2bVy4cIEh85q4G62OmTJlitrrXr164fnz58jMzERSUhIUCgXef/99PHjwQPWvsLAQ/fr1Q3JyMp49ewYAql+EwIv9+rm5uWjevDlsbGzwyy+/lPlcPz8/jb8kX8exY8fQoEED1ZbSSy93CVXEyMgIAPDTTz+hoKCg3GkOHTqE4uJijBkzRm1dvPXWW+jWrRtOnjypmvbVdZGfn4/c3Fx06NABzZs3V1sXRkZGSEtL0/iYZIVCgePHj2PkyJEoLCxU+9yBAwciLy8Ply5dqnS5jh49qvqeXkfpHjl+/DiePHmCmTNnqoIGeLHryc7ODseOHSszj+TkZIwcORJubm6Ii4tTffdKpRLffPMNPD09oaenp7aMAwYMQElJCc6cOaOxtosXL+LBgweYNGmSKmgAoG/fvnB0dFSbdv/+/TA0NMTgwYPVPsfc3Bw2NjZq3yEANGnSRC2UgBc/H68+l6eqffc6y+nl5cWgeQPcsqljXv3LD4BqN8LDhw9x48YNAMCoUaM0vv/Ro0do1aoVioqK8I9//ANxcXFl9lebmJiUed/LXU415c6dO2jdujWaN2+uNtzW1rbS91pbW+PDDz/Exo0bERcXB3d3d3h6esLX11dV+8t10b1793Ln8WrAKBQKLF26FN98843qmMRLjx49Uv1//vz5+OCDD9CtWzc4ODigf//+8PHxQdeuXVWfqVQqERERgYiIiHI/NycnR+Ny9enTB8OHD0dERAQ2bNgADw8PDB06FD4+PjA0NKx0vbxU+ru6ffs2gBdbxaV16NChzJltz549w5gxY+Dg4IDdu3erhUJOTg4UCgV27dql8ThURct4584dAICNjU2ZcTY2NkhNTVW9vnHjBvLz82FnZ1fuvEqfMNKmTRvo6empDTM2Nlb7Tqvad6+znDX9M6JrGDZ1TOkfppeUSqXqQOiGDRtUxy1Ka9asGYAXu3t27NiB6dOno0ePHmjWrBkaNGiA+fPnlzmgCkB13KKmKJXKNzq7LDw8HP7+/jhy5AgSExOxePFirFq1CocPH4ajo6NqGeLj49X+mn+pQYP/bbRPnjwZZ8+exezZs9GpUycYGRlBJpNh8uTJauuiT58+SE1NxZEjR5CUlIS9e/ciJiYGixcvxty5c1XTzpw5E4MHDy637opuxy+TybBz505cuHABR48exfHjxxEUFITVq1fjp59+Uu3KqUx1vqvyDug3bNgQ7733Hvbv34/vvvsOI0eOVI17uYw+Pj744IMPyp3n22+/XeXPr6iWkpIStGzZEl999VW507/6BwOg+Wej9GdUpe9eZzlr+mdE1zBs6pGXB4pbtWqFfv36VThtQkIC/Pz8yhzkVCgUaNmyZZU+703CwtLSEsePH8ejR4/U/srUtIuqPI6OjnB0dMTcuXNx9epV9OvXDzExMVi/fr1qXbRr1w4ODg4a56FQKJCYmIjQ0FCEhoaqhhcVFUGhUJSZ3tjYGOPGjcO4ceNQWFgIHx8fREREqM5uAl78sq5s/VfE1dUVrq6uWLhwIX744QeMHTsWO3bswLx5815rnb+8Pum3334r8xd8enp6meuXZDIZNm7ciMLCQkybNg36+vrw9PQE8KK3mjVrhuLi4tdaxpdb5jdu3MBf/vIXtXE3b95Ue92+fXskJSXB1dVVtYvxTVW17950Oan6eMymHhkwYACaN2+OVatW4cmTJ2XGv7rZr6enV+Yvyfj4+CqdCvvSy78sy/ulXJnBgwejpKQEmzZtUhv+6okNmjx+/BjFxcVqw+zt7aGvr6+qZcSIEWjYsCHCwsLK3VJ7uS5ebuGUXhcbNmwo877Sp5jr6+vD3t4eT548wZ9//glTU1O8++672LZtW5nTpl/9TE0UCkWZOlxcXFTjgNdb5/369UPjxo2xceNGteujjhw5gvT0dFWQvKphw4bYunUr+vTpA39/f5w4cQLAi74ZMWIEvv3223KP7T169KjC401dunSBiYkJtm3bpnYdyokTJ8qcdj969GiUlJSUe3abUqnEgwcPKl320qrad2+6nFR93LKpR4yMjBAVFYUpU6agd+/eGDt2LORyOe7evYtTp07BwMAA8fHxAIChQ4di7969MDIygpOTE65cuYKEhIRq7Xe2sbFBs2bN8NVXX8HQ0BCGhoZwdHSs0pMbhw4dil69eiEsLAyZmZno1KkTkpKSqnT/s5MnTyI4OBgjRoyAnZ0dlEolEhISkJeXhzFjxgB4sf982bJlWLhwIQYOHIjhw4ejRYsWuHPnDr7//nt069YNa9euRbNmzdC7d2+sX78ez549g4WFBZKTk3H27NkyW3jdu3eHh4cHunbtipYtW+Lq1avYsWMHPD09VX95r1mzBp6enujVqxf8/f1hY2ODBw8eIDU1FYmJiapjFsCLA8pnzpxRBceePXsQGxuLYcOGoX379igsLMTu3buhp6enOuvO0NAQdnZ2SEhIgK2tLVq2bAkrKyvVKe3lMTExQWhoKJYtWwZvb28MHz4cd+/exebNm2FpaYnZs2eX+75GjRph9+7dGDNmDMaPH4/9+/eje/fuWLp0Kc6cOYMhQ4ZgwoQJcHJyQl5eHq5du4ZDhw7h4sWLqlPnAwMD8c9//hOpqamwsrJCo0aNsHDhQsydOxdeXl4YM2YMcnJysGXLFjg5OSE/P1/1+R4eHpgxYwaio6Nx9epVDBw4EE2bNkVGRga+/fZbTJgwAR999FGl/fKq6vRddZaT3hzDpp4ZOXIkzM3NsWbNGmzYsAGFhYWQy+Xo1q2b6pRQ4MUxj7feegv79+/Hrl270LlzZ+zbtw+LFy+u8mc1btwYmzZtwooVKzBv3jw8e/YMISEhVQobmUyGPXv2YNGiRThw4AD279+Pvn374uuvvy5zVlJp77zzDgYOHIgffvgBO3bsQOPGjeHo6Ijdu3fDy8tLNd2sWbNga2uLzz//HGvWrEFxcTHMzc3Ro0cPTJgwQTVdbGwsQkNDsXXrVhQXF8PDwwMHDx4sc2p4YGAgjhw5gpMnT6KoqAht27ZFUFAQgoKCVNPY2tri+PHjiIyMxNdff42cnByYmJjA3t4eK1asUJtfQUGB2i+rXr164dKlS9i/fz/u378PIyMjdOrUCZGRkXBzc1NNFx0djfnz52PRokV48uQJxo0bV2HYAMBHH30EExMTbNy4EYsXL4ahoSG8vb2xZMkSjdfYAC+23v71r39h5MiR8PHxwaFDh+Di4oKffvoJK1euxOHDh7Ft2zY0b94ctra2CA0NRYsWLdSWUV9fX22X1eTJkwEA69evx5IlS2BnZ4dNmzZhz549ZS64jYiIQOfOnfHll18iLCwMDRo0QJs2bTBgwAAMGzaswmUuT3X6rlWrVlVeTnpzfCw0kQB5eXlo3749wsLCMG3aNKnLEaZDhw7w9fUtE7Tl6dWrF0xNTXHgwAHxhVGdw2M2RAKcPXsW5ubm8Pf3l7oUYdLS0lBYWKi25Qe8OPmi9LGpEydO4Ndff8W7775bixVSXcItG6qWp0+flrlWpTQDA4NqXTdC2uXUqVMICQnBiBEjYGZmhrS0NGzbtg0mJiY4e/Zshbv1SHvxmA1VS0pKiuqeXZqUvoUM6RZLS0tYWVlh69atyM3NRbNmzTBs2DB8+umnDBodxi0bqhaFQlHuqaKvsra25tXWRKSGYUNERMLxBAEiIhKOYUNERMIxbIiISDiGDRERCff/SKxObrEBEakAAAAASUVORK5CYII=\n",
      "text/plain": [
       "<Figure size 432x288 with 1 Axes>"
      ]
     },
     "metadata": {},
     "output_type": "display_data"
    }
   ],
   "source": [
    "Heart.plot(kind='bar')"
   ]
  },
  {
   "cell_type": "markdown",
   "metadata": {},
   "source": [
    "Pasien yang mengalami sakit jantung berpotensi lebih untuk terkena stroke. Hal ini ditunjukkan melalui analisis diatas dan didukung oleh website yang digunakan. "
   ]
  },
  {
   "cell_type": "code",
   "execution_count": 47,
   "metadata": {},
   "outputs": [
    {
     "data": {
      "text/plain": [
       "<AxesSubplot:xlabel='gender', ylabel='heart_disease'>"
      ]
     },
     "execution_count": 47,
     "metadata": {},
     "output_type": "execute_result"
    },
    {
     "data": {
      "image/png": "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\n",
      "text/plain": [
       "<Figure size 432x288 with 2 Axes>"
      ]
     },
     "metadata": {},
     "output_type": "display_data"
    }
   ],
   "source": [
    "temp4_sns=(\n",
    "    HEART\n",
    "    .groupby('heart_disease')\n",
    "    .gender\n",
    "    .value_counts()\n",
    "    .unstack()\n",
    "    .fillna(0)\n",
    "    \n",
    ")\n",
    "sns.heatmap(temp4_sns, cmap='plasma', annot=True, linewidth=1,linecolor='Black')"
   ]
  },
  {
   "cell_type": "markdown",
   "metadata": {},
   "source": [
    "dari data tersebut, dapat diketahui penderita Heart disease berpotensi mengalami stroke, dengan laki laki lebih dominan dari pada pria untuk terkena penyakit serangan jantung"
   ]
  },
  {
   "cell_type": "markdown",
   "metadata": {},
   "source": [
    "Obesitas"
   ]
  },
  {
   "cell_type": "code",
   "execution_count": 48,
   "metadata": {},
   "outputs": [
    {
     "data": {
      "text/plain": [
       "Female    58\n",
       "Male      46\n",
       "Name: gender, dtype: int64"
      ]
     },
     "execution_count": 48,
     "metadata": {},
     "output_type": "execute_result"
    }
   ],
   "source": [
    "bmi = temp3[(temp3['bmi']>=25) & (temp3['stroke']==1)]\n",
    "bmi.groupby(['bmi', 'stroke','gender'])['stroke'].value_counts()\n",
    "BMI = bmi['gender'].value_counts()\n",
    "BMI"
   ]
  },
  {
   "cell_type": "code",
   "execution_count": 49,
   "metadata": {
    "scrolled": true
   },
   "outputs": [
    {
     "data": {
      "text/plain": [
       "<AxesSubplot:title={'center':'BMI'}>"
      ]
     },
     "execution_count": 49,
     "metadata": {},
     "output_type": "execute_result"
    },
    {
     "data": {
      "image/png": "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\n",
      "text/plain": [
       "<Figure size 432x288 with 1 Axes>"
      ]
     },
     "metadata": {},
     "output_type": "display_data"
    }
   ],
   "source": [
    "BMI.plot(kind='bar',title='BMI')"
   ]
  },
  {
   "cell_type": "markdown",
   "metadata": {},
   "source": [
    "Obesitas bereperan dalam menyebabkan stroke sesuai dengan apa yang ditunjukkan bar chart diatas. Wanita lebih cenderung terkena stroke apabila mengalami obesitas dibandingkan laki laki. "
   ]
  },
  {
   "cell_type": "code",
   "execution_count": 50,
   "metadata": {},
   "outputs": [
    {
     "data": {
      "text/plain": [
       "<AxesSubplot:xlabel='gender', ylabel='bmi'>"
      ]
     },
     "execution_count": 50,
     "metadata": {},
     "output_type": "execute_result"
    },
    {
     "data": {
      "image/png": "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\n",
      "text/plain": [
       "<Figure size 360x1440 with 2 Axes>"
      ]
     },
     "metadata": {},
     "output_type": "display_data"
    }
   ],
   "source": [
    "temp5_sns=(\n",
    "    bmi\n",
    "    .groupby('bmi')\n",
    "    .gender\n",
    "    .value_counts()\n",
    "    .unstack()\n",
    "    .fillna(0)\n",
    "    \n",
    ")\n",
    "plt.subplots(figsize=(5,20))\n",
    "sns.heatmap(temp5_sns, cmap='copper', annot=True, linewidth=1,linecolor='White')"
   ]
  },
  {
   "cell_type": "markdown",
   "metadata": {},
   "source": [
    "dari visual diatas dapat diketahui kuantitas dari BMI yang melebihi dari normalnya yaitu diatas 25 yang mudah terkena stroke. dapat dilihat semakin tinggi maka semakin rentang terkena stroke bagi yang obesitas."
   ]
  },
  {
   "cell_type": "code",
   "execution_count": 51,
   "metadata": {},
   "outputs": [
    {
     "data": {
      "text/plain": [
       "Text(0, 0.5, 'Frequency')"
      ]
     },
     "execution_count": 51,
     "metadata": {},
     "output_type": "execute_result"
    },
    {
     "data": {
      "image/png": "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\n",
      "text/plain": [
       "<Figure size 576x360 with 1 Axes>"
      ]
     },
     "metadata": {},
     "output_type": "display_data"
    }
   ],
   "source": [
    "Male  = [8,11,5,46]\n",
    "Female = [24,7,2,58]\n",
    "\n",
    "\n",
    "\n",
    "index = ['hipertensi','serangan jantung','Diabetes','Obesitas']\n",
    "         \n",
    "df = pd.DataFrame({'Male': Male,\n",
    "                  'Female':Female}, index=index)\n",
    "\n",
    "ax = df.plot.bar(rot=0,figsize=(8,5),title=\"Tingkat Risiko Stroke dikarenakan Penyakit\",stacked=True)\n",
    "ax.set_xlabel(\"Penyakit\", fontweight='bold')\n",
    "ax.set_ylabel(\"Frequency\", fontweight='bold')"
   ]
  },
  {
   "cell_type": "markdown",
   "metadata": {},
   "source": [
    "Obesitas adalah penyakit yang paling beperan menyebabkan stroke, setelah itu diikuti oleh hipertensi, serangan jantung dan diabetes."
   ]
  },
  {
   "cell_type": "markdown",
   "metadata": {},
   "source": [
    "# Faktor Risiko Stroke dikarenakan Jenis Tempat Tinggal"
   ]
  },
  {
   "cell_type": "code",
   "execution_count": 52,
   "metadata": {},
   "outputs": [
    {
     "name": "stderr",
     "output_type": "stream",
     "text": [
      "C:\\Users\\Ilham\\anaconda3\\lib\\site-packages\\pandas\\core\\frame.py:4163: SettingWithCopyWarning: \n",
      "A value is trying to be set on a copy of a slice from a DataFrame\n",
      "\n",
      "See the caveats in the documentation: https://pandas.pydata.org/pandas-docs/stable/user_guide/indexing.html#returning-a-view-versus-a-copy\n",
      "  return super().drop(\n"
     ]
    },
    {
     "data": {
      "text/html": [
       "<div>\n",
       "<style scoped>\n",
       "    .dataframe tbody tr th:only-of-type {\n",
       "        vertical-align: middle;\n",
       "    }\n",
       "\n",
       "    .dataframe tbody tr th {\n",
       "        vertical-align: top;\n",
       "    }\n",
       "\n",
       "    .dataframe thead th {\n",
       "        text-align: right;\n",
       "    }\n",
       "</style>\n",
       "<table border=\"1\" class=\"dataframe\">\n",
       "  <thead>\n",
       "    <tr style=\"text-align: right;\">\n",
       "      <th></th>\n",
       "      <th>gender</th>\n",
       "      <th>age</th>\n",
       "      <th>hypertension</th>\n",
       "      <th>heart_disease</th>\n",
       "      <th>ever_married</th>\n",
       "      <th>work_type</th>\n",
       "      <th>Residence_type</th>\n",
       "      <th>avg_glucose_level</th>\n",
       "      <th>bmi</th>\n",
       "      <th>smoking_status</th>\n",
       "      <th>stroke</th>\n",
       "    </tr>\n",
       "  </thead>\n",
       "  <tbody>\n",
       "    <tr>\n",
       "      <th>2</th>\n",
       "      <td>Male</td>\n",
       "      <td>80.0</td>\n",
       "      <td>0</td>\n",
       "      <td>1</td>\n",
       "      <td>Yes</td>\n",
       "      <td>Private</td>\n",
       "      <td>Rural</td>\n",
       "      <td>105.92</td>\n",
       "      <td>32.5</td>\n",
       "      <td>never smoked</td>\n",
       "      <td>1</td>\n",
       "    </tr>\n",
       "    <tr>\n",
       "      <th>6</th>\n",
       "      <td>Male</td>\n",
       "      <td>74.0</td>\n",
       "      <td>1</td>\n",
       "      <td>1</td>\n",
       "      <td>Yes</td>\n",
       "      <td>Private</td>\n",
       "      <td>Rural</td>\n",
       "      <td>70.09</td>\n",
       "      <td>27.4</td>\n",
       "      <td>never smoked</td>\n",
       "      <td>1</td>\n",
       "    </tr>\n",
       "    <tr>\n",
       "      <th>7</th>\n",
       "      <td>Female</td>\n",
       "      <td>69.0</td>\n",
       "      <td>0</td>\n",
       "      <td>0</td>\n",
       "      <td>No</td>\n",
       "      <td>Private</td>\n",
       "      <td>Urban</td>\n",
       "      <td>94.39</td>\n",
       "      <td>22.8</td>\n",
       "      <td>never smoked</td>\n",
       "      <td>1</td>\n",
       "    </tr>\n",
       "    <tr>\n",
       "      <th>10</th>\n",
       "      <td>Female</td>\n",
       "      <td>81.0</td>\n",
       "      <td>1</td>\n",
       "      <td>0</td>\n",
       "      <td>Yes</td>\n",
       "      <td>Private</td>\n",
       "      <td>Rural</td>\n",
       "      <td>80.43</td>\n",
       "      <td>29.7</td>\n",
       "      <td>never smoked</td>\n",
       "      <td>1</td>\n",
       "    </tr>\n",
       "    <tr>\n",
       "      <th>11</th>\n",
       "      <td>Female</td>\n",
       "      <td>61.0</td>\n",
       "      <td>0</td>\n",
       "      <td>1</td>\n",
       "      <td>Yes</td>\n",
       "      <td>Govt_job</td>\n",
       "      <td>Rural</td>\n",
       "      <td>120.46</td>\n",
       "      <td>36.8</td>\n",
       "      <td>smokes</td>\n",
       "      <td>1</td>\n",
       "    </tr>\n",
       "    <tr>\n",
       "      <th>...</th>\n",
       "      <td>...</td>\n",
       "      <td>...</td>\n",
       "      <td>...</td>\n",
       "      <td>...</td>\n",
       "      <td>...</td>\n",
       "      <td>...</td>\n",
       "      <td>...</td>\n",
       "      <td>...</td>\n",
       "      <td>...</td>\n",
       "      <td>...</td>\n",
       "      <td>...</td>\n",
       "    </tr>\n",
       "    <tr>\n",
       "      <th>5100</th>\n",
       "      <td>Male</td>\n",
       "      <td>82.0</td>\n",
       "      <td>1</td>\n",
       "      <td>0</td>\n",
       "      <td>Yes</td>\n",
       "      <td>Self-employed</td>\n",
       "      <td>Rural</td>\n",
       "      <td>71.97</td>\n",
       "      <td>28.3</td>\n",
       "      <td>never smoked</td>\n",
       "      <td>0</td>\n",
       "    </tr>\n",
       "    <tr>\n",
       "      <th>5102</th>\n",
       "      <td>Female</td>\n",
       "      <td>57.0</td>\n",
       "      <td>0</td>\n",
       "      <td>0</td>\n",
       "      <td>Yes</td>\n",
       "      <td>Private</td>\n",
       "      <td>Rural</td>\n",
       "      <td>77.93</td>\n",
       "      <td>21.7</td>\n",
       "      <td>never smoked</td>\n",
       "      <td>0</td>\n",
       "    </tr>\n",
       "    <tr>\n",
       "      <th>5106</th>\n",
       "      <td>Female</td>\n",
       "      <td>81.0</td>\n",
       "      <td>0</td>\n",
       "      <td>0</td>\n",
       "      <td>Yes</td>\n",
       "      <td>Self-employed</td>\n",
       "      <td>Urban</td>\n",
       "      <td>125.20</td>\n",
       "      <td>40.0</td>\n",
       "      <td>never smoked</td>\n",
       "      <td>0</td>\n",
       "    </tr>\n",
       "    <tr>\n",
       "      <th>5107</th>\n",
       "      <td>Female</td>\n",
       "      <td>35.0</td>\n",
       "      <td>0</td>\n",
       "      <td>0</td>\n",
       "      <td>Yes</td>\n",
       "      <td>Self-employed</td>\n",
       "      <td>Rural</td>\n",
       "      <td>82.99</td>\n",
       "      <td>30.6</td>\n",
       "      <td>never smoked</td>\n",
       "      <td>0</td>\n",
       "    </tr>\n",
       "    <tr>\n",
       "      <th>5108</th>\n",
       "      <td>Male</td>\n",
       "      <td>51.0</td>\n",
       "      <td>0</td>\n",
       "      <td>0</td>\n",
       "      <td>Yes</td>\n",
       "      <td>Private</td>\n",
       "      <td>Rural</td>\n",
       "      <td>166.29</td>\n",
       "      <td>25.6</td>\n",
       "      <td>formerly smoked</td>\n",
       "      <td>0</td>\n",
       "    </tr>\n",
       "  </tbody>\n",
       "</table>\n",
       "<p>2875 rows × 11 columns</p>\n",
       "</div>"
      ],
      "text/plain": [
       "      gender   age  hypertension  heart_disease ever_married      work_type  \\\n",
       "2       Male  80.0             0              1          Yes        Private   \n",
       "6       Male  74.0             1              1          Yes        Private   \n",
       "7     Female  69.0             0              0           No        Private   \n",
       "10    Female  81.0             1              0          Yes        Private   \n",
       "11    Female  61.0             0              1          Yes       Govt_job   \n",
       "...      ...   ...           ...            ...          ...            ...   \n",
       "5100    Male  82.0             1              0          Yes  Self-employed   \n",
       "5102  Female  57.0             0              0          Yes        Private   \n",
       "5106  Female  81.0             0              0          Yes  Self-employed   \n",
       "5107  Female  35.0             0              0          Yes  Self-employed   \n",
       "5108    Male  51.0             0              0          Yes        Private   \n",
       "\n",
       "     Residence_type  avg_glucose_level   bmi   smoking_status  stroke  \n",
       "2             Rural             105.92  32.5     never smoked       1  \n",
       "6             Rural              70.09  27.4     never smoked       1  \n",
       "7             Urban              94.39  22.8     never smoked       1  \n",
       "10            Rural              80.43  29.7     never smoked       1  \n",
       "11            Rural             120.46  36.8           smokes       1  \n",
       "...             ...                ...   ...              ...     ...  \n",
       "5100          Rural              71.97  28.3     never smoked       0  \n",
       "5102          Rural              77.93  21.7     never smoked       0  \n",
       "5106          Urban             125.20  40.0     never smoked       0  \n",
       "5107          Rural              82.99  30.6     never smoked       0  \n",
       "5108          Rural             166.29  25.6  formerly smoked       0  \n",
       "\n",
       "[2875 rows x 11 columns]"
      ]
     },
     "execution_count": 52,
     "metadata": {},
     "output_type": "execute_result"
    }
   ],
   "source": [
    "unknown = temp3[['gender','age','hypertension','heart_disease','ever_married','work_type','Residence_type','avg_glucose_level','bmi','smoking_status','stroke']]\n",
    "unknown.drop(unknown[unknown['smoking_status']=='Unknown'].index,inplace=True)\n",
    "unknown"
   ]
  },
  {
   "cell_type": "code",
   "execution_count": 53,
   "metadata": {},
   "outputs": [
    {
     "data": {
      "text/plain": [
       "Residence_type  gender\n",
       "Rural           Female    41\n",
       "                Male      26\n",
       "Urban           Female    41\n",
       "                Male      28\n",
       "Name: stroke, dtype: int64"
      ]
     },
     "execution_count": 53,
     "metadata": {},
     "output_type": "execute_result"
    }
   ],
   "source": [
    "residence = temp3[(temp3['stroke']==1)]\n",
    "res = residence.groupby(['Residence_type','gender'])['stroke'].count()\n",
    "res"
   ]
  },
  {
   "cell_type": "code",
   "execution_count": 54,
   "metadata": {},
   "outputs": [
    {
     "data": {
      "text/plain": [
       "([<matplotlib.patches.Wedge at 0x263de2388e0>,\n",
       "  <matplotlib.patches.Wedge at 0x263de238fa0>],\n",
       " [Text(0.025407705044643906, 1.099706528363074, 'Rural'),\n",
       "  Text(-0.025407705044643555, -1.099706528363074, 'Urban')],\n",
       " [Text(0.013858748206169403, 0.5998399245616767, '49.3%'),\n",
       "  Text(-0.01385874820616921, -0.5998399245616767, '50.7%')])"
      ]
     },
     "execution_count": 54,
     "metadata": {},
     "output_type": "execute_result"
    },
    {
     "data": {
      "image/png": "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\n",
      "text/plain": [
       "<Figure size 432x288 with 1 Axes>"
      ]
     },
     "metadata": {},
     "output_type": "display_data"
    }
   ],
   "source": [
    "plt.title('Perbandingan Pasien yang Mengalami Stroke berdasarkan Tempat Tinggal')\n",
    "plt.style.use(\"fivethirtyeight\")\n",
    "labels=('Rural','Urban')\n",
    "slices=[67,69]\n",
    "colors=['red','blue']\n",
    "plt.pie(slices, labels=labels, wedgeprops={'edgecolor':'black'}, autopct='%1.1f%%')"
   ]
  },
  {
   "cell_type": "markdown",
   "metadata": {},
   "source": [
    "# Faktor Risiko Stroke dikarenakan Gaya Hidup"
   ]
  },
  {
   "cell_type": "code",
   "execution_count": 55,
   "metadata": {},
   "outputs": [
    {
     "data": {
      "text/plain": [
       "smoking_status\n",
       "formerly smoked    36\n",
       "never smoked       54\n",
       "smokes             24\n",
       "Name: stroke, dtype: int64"
      ]
     },
     "execution_count": 55,
     "metadata": {},
     "output_type": "execute_result"
    }
   ],
   "source": [
    "smoke_status = unknown[(unknown['stroke']==1)]\n",
    "Smoke = smoke_status.groupby(['smoking_status'])['stroke'].count()\n",
    "Smoke"
   ]
  },
  {
   "cell_type": "code",
   "execution_count": 56,
   "metadata": {},
   "outputs": [
    {
     "data": {
      "text/plain": [
       "<AxesSubplot:xlabel='smoking_status'>"
      ]
     },
     "execution_count": 56,
     "metadata": {},
     "output_type": "execute_result"
    },
    {
     "data": {
      "image/png": "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\n",
      "text/plain": [
       "<Figure size 432x288 with 1 Axes>"
      ]
     },
     "metadata": {},
     "output_type": "display_data"
    }
   ],
   "source": [
    "Smoke.plot(kind='bar')"
   ]
  },
  {
   "cell_type": "markdown",
   "metadata": {},
   "source": [
    "Pasien yang tidak pernah merokok lebih banyak mengalami stroke dibandingkan pasien perokok aktif dan perokok pasif. Dari fakta yang didapatkan pada web  https://www.alodokter.com/stroke/penyebab perokok lebih rentang terkena stroke dari pada yang bukan perokok"
   ]
  },
  {
   "cell_type": "code",
   "execution_count": 57,
   "metadata": {},
   "outputs": [
    {
     "data": {
      "text/plain": [
       "<AxesSubplot:xlabel='gender', ylabel='smoking_status'>"
      ]
     },
     "execution_count": 57,
     "metadata": {},
     "output_type": "execute_result"
    },
    {
     "data": {
      "image/png": "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\n",
      "text/plain": [
       "<Figure size 360x360 with 2 Axes>"
      ]
     },
     "metadata": {},
     "output_type": "display_data"
    }
   ],
   "source": [
    "temp6_sns=(\n",
    "    smoke_status\n",
    "    .groupby('smoking_status')\n",
    "    .gender\n",
    "    .value_counts()\n",
    "    .unstack()\n",
    "    .fillna(0)\n",
    "    \n",
    ")\n",
    "plt.subplots(figsize=(5,5))\n",
    "sns.heatmap(temp6_sns, cmap='CMRmap_r', annot=True, linewidth=1,linecolor='Black')"
   ]
  },
  {
   "cell_type": "markdown",
   "metadata": {},
   "source": [
    "Pada data tersebut dapat dilihat yang status pasien tidak pernah merokok lebih rentang terkena stroke, akan tetapi sesuai dengan steatment dari para medis, bahwa yang merokok lebih rentang terkena peyakitt stroke ketimbang yang tidak pernah merokok. https://www.alodokter.com/stroke/penyebab."
   ]
  },
  {
   "cell_type": "code",
   "execution_count": 58,
   "metadata": {},
   "outputs": [
    {
     "data": {
      "text/plain": [
       "work_type      stroke  gender\n",
       "Govt_job       1       Female    13\n",
       "                       Male       5\n",
       "Private        1       Female    43\n",
       "                       Male      35\n",
       "Self-employed  1       Female    25\n",
       "                       Male      14\n",
       "children       1       Female     1\n",
       "Name: stroke, dtype: int64"
      ]
     },
     "execution_count": 58,
     "metadata": {},
     "output_type": "execute_result"
    }
   ],
   "source": [
    "work = temp3[(temp3['stroke']==1)]\n",
    "work.groupby(['work_type', 'stroke','gender'])['stroke'].count()"
   ]
  },
  {
   "cell_type": "code",
   "execution_count": 59,
   "metadata": {},
   "outputs": [
    {
     "data": {
      "text/plain": [
       "Text(0, 0.5, 'Frequency')"
      ]
     },
     "execution_count": 59,
     "metadata": {},
     "output_type": "execute_result"
    },
    {
     "data": {
      "image/png": "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\n",
      "text/plain": [
       "<Figure size 576x360 with 1 Axes>"
      ]
     },
     "metadata": {},
     "output_type": "display_data"
    }
   ],
   "source": [
    "Male  = [5,35,14,0]\n",
    "Female = [13,43,25,1]\n",
    "\n",
    "\n",
    "\n",
    "index = ['Govt Job','Private','Self Employed','children']\n",
    "         \n",
    "df = pd.DataFrame({'Male': Male,\n",
    "                  'Female':Female}, index=index)\n",
    "\n",
    "ax = df.plot.bar(rot=0,figsize=(8,5),title=\"Tingkat Risiko Stroke Berdasarkan jenis Pekerjaan\")\n",
    "ax.set_xlabel(\"Jenis Pekerjaan\", fontweight='bold')\n",
    "ax.set_ylabel(\"Frequency\", fontweight='bold')"
   ]
  },
  {
   "cell_type": "markdown",
   "metadata": {},
   "source": [
    "Pasien pekerja swasta lebih dominan terkena stroke dibandingkan dengan pasien dengan pekerjaan sebagai pegawai dan wiraswasta"
   ]
  },
  {
   "cell_type": "markdown",
   "metadata": {},
   "source": [
    "# Faktor Risiko Stroke dikarenakan Usia"
   ]
  },
  {
   "cell_type": "code",
   "execution_count": 60,
   "metadata": {},
   "outputs": [
    {
     "data": {
      "text/html": [
       "<div>\n",
       "<style scoped>\n",
       "    .dataframe tbody tr th:only-of-type {\n",
       "        vertical-align: middle;\n",
       "    }\n",
       "\n",
       "    .dataframe tbody tr th {\n",
       "        vertical-align: top;\n",
       "    }\n",
       "\n",
       "    .dataframe thead th {\n",
       "        text-align: right;\n",
       "    }\n",
       "</style>\n",
       "<table border=\"1\" class=\"dataframe\">\n",
       "  <thead>\n",
       "    <tr style=\"text-align: right;\">\n",
       "      <th></th>\n",
       "      <th>stroke</th>\n",
       "    </tr>\n",
       "    <tr>\n",
       "      <th>age</th>\n",
       "      <th></th>\n",
       "    </tr>\n",
       "  </thead>\n",
       "  <tbody>\n",
       "    <tr>\n",
       "      <th>14.0</th>\n",
       "      <td>1</td>\n",
       "    </tr>\n",
       "    <tr>\n",
       "      <th>32.0</th>\n",
       "      <td>1</td>\n",
       "    </tr>\n",
       "    <tr>\n",
       "      <th>38.0</th>\n",
       "      <td>1</td>\n",
       "    </tr>\n",
       "    <tr>\n",
       "      <th>39.0</th>\n",
       "      <td>3</td>\n",
       "    </tr>\n",
       "    <tr>\n",
       "      <th>42.0</th>\n",
       "      <td>1</td>\n",
       "    </tr>\n",
       "    <tr>\n",
       "      <th>43.0</th>\n",
       "      <td>1</td>\n",
       "    </tr>\n",
       "    <tr>\n",
       "      <th>45.0</th>\n",
       "      <td>2</td>\n",
       "    </tr>\n",
       "    <tr>\n",
       "      <th>46.0</th>\n",
       "      <td>1</td>\n",
       "    </tr>\n",
       "    <tr>\n",
       "      <th>47.0</th>\n",
       "      <td>1</td>\n",
       "    </tr>\n",
       "    <tr>\n",
       "      <th>48.0</th>\n",
       "      <td>2</td>\n",
       "    </tr>\n",
       "    <tr>\n",
       "      <th>49.0</th>\n",
       "      <td>2</td>\n",
       "    </tr>\n",
       "    <tr>\n",
       "      <th>50.0</th>\n",
       "      <td>3</td>\n",
       "    </tr>\n",
       "    <tr>\n",
       "      <th>51.0</th>\n",
       "      <td>3</td>\n",
       "    </tr>\n",
       "    <tr>\n",
       "      <th>52.0</th>\n",
       "      <td>1</td>\n",
       "    </tr>\n",
       "    <tr>\n",
       "      <th>53.0</th>\n",
       "      <td>2</td>\n",
       "    </tr>\n",
       "    <tr>\n",
       "      <th>54.0</th>\n",
       "      <td>4</td>\n",
       "    </tr>\n",
       "    <tr>\n",
       "      <th>55.0</th>\n",
       "      <td>1</td>\n",
       "    </tr>\n",
       "    <tr>\n",
       "      <th>56.0</th>\n",
       "      <td>1</td>\n",
       "    </tr>\n",
       "    <tr>\n",
       "      <th>57.0</th>\n",
       "      <td>6</td>\n",
       "    </tr>\n",
       "    <tr>\n",
       "      <th>58.0</th>\n",
       "      <td>3</td>\n",
       "    </tr>\n",
       "    <tr>\n",
       "      <th>59.0</th>\n",
       "      <td>5</td>\n",
       "    </tr>\n",
       "    <tr>\n",
       "      <th>60.0</th>\n",
       "      <td>3</td>\n",
       "    </tr>\n",
       "    <tr>\n",
       "      <th>61.0</th>\n",
       "      <td>4</td>\n",
       "    </tr>\n",
       "    <tr>\n",
       "      <th>63.0</th>\n",
       "      <td>3</td>\n",
       "    </tr>\n",
       "    <tr>\n",
       "      <th>64.0</th>\n",
       "      <td>1</td>\n",
       "    </tr>\n",
       "    <tr>\n",
       "      <th>65.0</th>\n",
       "      <td>1</td>\n",
       "    </tr>\n",
       "    <tr>\n",
       "      <th>66.0</th>\n",
       "      <td>3</td>\n",
       "    </tr>\n",
       "    <tr>\n",
       "      <th>67.0</th>\n",
       "      <td>1</td>\n",
       "    </tr>\n",
       "    <tr>\n",
       "      <th>68.0</th>\n",
       "      <td>3</td>\n",
       "    </tr>\n",
       "    <tr>\n",
       "      <th>69.0</th>\n",
       "      <td>4</td>\n",
       "    </tr>\n",
       "    <tr>\n",
       "      <th>70.0</th>\n",
       "      <td>3</td>\n",
       "    </tr>\n",
       "    <tr>\n",
       "      <th>71.0</th>\n",
       "      <td>1</td>\n",
       "    </tr>\n",
       "    <tr>\n",
       "      <th>72.0</th>\n",
       "      <td>3</td>\n",
       "    </tr>\n",
       "    <tr>\n",
       "      <th>73.0</th>\n",
       "      <td>1</td>\n",
       "    </tr>\n",
       "    <tr>\n",
       "      <th>74.0</th>\n",
       "      <td>5</td>\n",
       "    </tr>\n",
       "    <tr>\n",
       "      <th>75.0</th>\n",
       "      <td>1</td>\n",
       "    </tr>\n",
       "    <tr>\n",
       "      <th>76.0</th>\n",
       "      <td>2</td>\n",
       "    </tr>\n",
       "    <tr>\n",
       "      <th>77.0</th>\n",
       "      <td>4</td>\n",
       "    </tr>\n",
       "    <tr>\n",
       "      <th>78.0</th>\n",
       "      <td>13</td>\n",
       "    </tr>\n",
       "    <tr>\n",
       "      <th>79.0</th>\n",
       "      <td>8</td>\n",
       "    </tr>\n",
       "    <tr>\n",
       "      <th>80.0</th>\n",
       "      <td>12</td>\n",
       "    </tr>\n",
       "    <tr>\n",
       "      <th>81.0</th>\n",
       "      <td>10</td>\n",
       "    </tr>\n",
       "    <tr>\n",
       "      <th>82.0</th>\n",
       "      <td>5</td>\n",
       "    </tr>\n",
       "  </tbody>\n",
       "</table>\n",
       "</div>"
      ],
      "text/plain": [
       "      stroke\n",
       "age         \n",
       "14.0       1\n",
       "32.0       1\n",
       "38.0       1\n",
       "39.0       3\n",
       "42.0       1\n",
       "43.0       1\n",
       "45.0       2\n",
       "46.0       1\n",
       "47.0       1\n",
       "48.0       2\n",
       "49.0       2\n",
       "50.0       3\n",
       "51.0       3\n",
       "52.0       1\n",
       "53.0       2\n",
       "54.0       4\n",
       "55.0       1\n",
       "56.0       1\n",
       "57.0       6\n",
       "58.0       3\n",
       "59.0       5\n",
       "60.0       3\n",
       "61.0       4\n",
       "63.0       3\n",
       "64.0       1\n",
       "65.0       1\n",
       "66.0       3\n",
       "67.0       1\n",
       "68.0       3\n",
       "69.0       4\n",
       "70.0       3\n",
       "71.0       1\n",
       "72.0       3\n",
       "73.0       1\n",
       "74.0       5\n",
       "75.0       1\n",
       "76.0       2\n",
       "77.0       4\n",
       "78.0      13\n",
       "79.0       8\n",
       "80.0      12\n",
       "81.0      10\n",
       "82.0       5"
      ]
     },
     "execution_count": 60,
     "metadata": {},
     "output_type": "execute_result"
    }
   ],
   "source": [
    "age = temp3[(temp3['stroke']==1)]\n",
    "Age = age.groupby('age').agg({\"stroke\" : 'count'})\n",
    "Age"
   ]
  },
  {
   "cell_type": "code",
   "execution_count": 61,
   "metadata": {},
   "outputs": [
    {
     "data": {
      "text/plain": [
       "<AxesSubplot:title={'center':'Faktor Usia yang dapat menyebabkan Stroke'}, ylabel='age'>"
      ]
     },
     "execution_count": 61,
     "metadata": {},
     "output_type": "execute_result"
    },
    {
     "data": {
      "image/png": "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\n",
      "text/plain": [
       "<Figure size 1800x720 with 1 Axes>"
      ]
     },
     "metadata": {},
     "output_type": "display_data"
    }
   ],
   "source": [
    "Age.plot.barh(rot=0,figsize=(25,10),title=\"Faktor Usia yang dapat menyebabkan Stroke\")\n"
   ]
  },
  {
   "cell_type": "markdown",
   "metadata": {},
   "source": [
    "Semakin bertambahnya usia, risiko terkena stroke semakin tinggi walaupun dibeberapa umur mengalami fluktuafif"
   ]
  },
  {
   "cell_type": "code",
   "execution_count": 62,
   "metadata": {},
   "outputs": [
    {
     "data": {
      "text/plain": [
       "<AxesSubplot:xlabel='gender', ylabel='age'>"
      ]
     },
     "execution_count": 62,
     "metadata": {},
     "output_type": "execute_result"
    },
    {
     "data": {
      "image/png": "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\n",
      "text/plain": [
       "<Figure size 360x1080 with 2 Axes>"
      ]
     },
     "metadata": {},
     "output_type": "display_data"
    }
   ],
   "source": [
    "temp3_sns=(\n",
    "    age\n",
    "    .groupby('age')\n",
    "    .gender\n",
    "    .value_counts()\n",
    "    .unstack()\n",
    "    .fillna(0)\n",
    "    \n",
    ")\n",
    "plt.subplots(figsize=(5,15))\n",
    "sns.heatmap(temp3_sns, cmap='Greens', annot=True, linewidth=1,linecolor='Black')"
   ]
  },
  {
   "cell_type": "markdown",
   "metadata": {},
   "source": [
    "Pada visual diatas, tingkatan stroke lebih mudah terkena pada pasien yang lanjut usia dari pada yang masih muda, karena pada Lansia lebih mudah terserang penyakit, dikarenakan sistem kekebalan tubuh yang semakin menurun dengan seiring bertambahnya usia. jadi, pasien yang lanjut usia lebih rentang terkena stroke."
   ]
  },
  {
   "cell_type": "markdown",
   "metadata": {},
   "source": [
    "# Faktor Risiko Stroke dikarenakan Gender"
   ]
  },
  {
   "cell_type": "code",
   "execution_count": 63,
   "metadata": {},
   "outputs": [
    {
     "data": {
      "text/plain": [
       "<AxesSubplot:title={'center':'Gender yang lebih dominan terkena stroke'}, xlabel='gender,stroke'>"
      ]
     },
     "execution_count": 63,
     "metadata": {},
     "output_type": "execute_result"
    },
    {
     "data": {
      "image/png": "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\n",
      "text/plain": [
       "<Figure size 360x360 with 1 Axes>"
      ]
     },
     "metadata": {},
     "output_type": "display_data"
    }
   ],
   "source": [
    "gender = temp3[(temp3['stroke']==1)]\n",
    "x=gender.groupby(['gender'])['stroke'].value_counts()\n",
    "x.plot.bar(rot=0,figsize=(5,5),title=\"Gender yang lebih dominan terkena stroke\")"
   ]
  },
  {
   "cell_type": "markdown",
   "metadata": {},
   "source": [
    "Wanita lebih dominan terkena stroke dibandingkan laki laki"
   ]
  },
  {
   "cell_type": "code",
   "execution_count": 64,
   "metadata": {},
   "outputs": [
    {
     "data": {
      "text/plain": [
       "78.0    13\n",
       "80.0    12\n",
       "81.0    10\n",
       "79.0     8\n",
       "57.0     6\n",
       "74.0     5\n",
       "59.0     5\n",
       "82.0     5\n",
       "69.0     4\n",
       "77.0     4\n",
       "54.0     4\n",
       "61.0     4\n",
       "50.0     3\n",
       "60.0     3\n",
       "63.0     3\n",
       "68.0     3\n",
       "72.0     3\n",
       "66.0     3\n",
       "51.0     3\n",
       "58.0     3\n",
       "39.0     3\n",
       "70.0     3\n",
       "48.0     2\n",
       "49.0     2\n",
       "45.0     2\n",
       "53.0     2\n",
       "76.0     2\n",
       "67.0     1\n",
       "73.0     1\n",
       "32.0     1\n",
       "46.0     1\n",
       "56.0     1\n",
       "55.0     1\n",
       "38.0     1\n",
       "64.0     1\n",
       "14.0     1\n",
       "71.0     1\n",
       "65.0     1\n",
       "42.0     1\n",
       "47.0     1\n",
       "43.0     1\n",
       "52.0     1\n",
       "75.0     1\n",
       "Name: age, dtype: int64"
      ]
     },
     "execution_count": 64,
     "metadata": {},
     "output_type": "execute_result"
    }
   ],
   "source": [
    "x=temp3[temp3[\"stroke\"] == 1]\n",
    "pd.set_option(\"display.max_row\",None)\n",
    "x['age'].value_counts()"
   ]
  },
  {
   "cell_type": "code",
   "execution_count": 65,
   "metadata": {},
   "outputs": [
    {
     "data": {
      "image/png": "iVBORw0KGgoAAAANSUhEUgAAAW4AAAFuCAYAAAChovKPAAAAOXRFWHRTb2Z0d2FyZQBNYXRwbG90bGliIHZlcnNpb24zLjMuMiwgaHR0cHM6Ly9tYXRwbG90bGliLm9yZy8vihELAAAACXBIWXMAAAsTAAALEwEAmpwYAABNNUlEQVR4nO3deVhUZfvA8e+ZlR1cEFQUF1ByT0wNN3JLw8o1W8yy1KJfvVq5ZJaVVkpp6VtmaZullb6mZYuVW6mptGhaqaW4byAqyDIwyzm/P8iRAUQwcZjh/lyXVz3Pec6Ze2Dm5swzz6JkZGRoCCGE8Bg6dwcghBCifCRxCyGEh5HELYQQHkYStxBCeBhJ3EII4WEkcQshhIeRxC0EsHHjRkJCQvj000/dHYoQlySJW3iMJUuW8MYbb7g7jEpj3bp1PPLII3Tq1IkaNWoQFhbm7pDEVSKJW3iMpUuXMm/ePHeHUWn873//Y+nSpfj6+lK/fn13hyOuIkncwis5HA6sVqu7w6hQU6ZM4ciRI6xZs4aOHTu6OxxxFUniFpVCdnY2Tz31FK1atSIsLIzo6GhuvvlmNm7cCEBCQgJr167lyJEjhISEOP8BHDp0iJCQEF599VXefvtt2rZtS61atUhOTgZg165d3H777dSvX5/atWvTq1cvVq9efcmY7HY79913H7Vr12bt2rUAaJrG/PnziYuLIywsjIYNGzJq1CiOHTtWMT+YUtSuXRuTyXTVH1e4n8HdAQgB8Nhjj/HZZ58xcuRIYmJiyMzM5JdffuH333+nS5cujBs3joyMDE6ePMmLL75Y4jWWLl1KdnY29957LwEBAYSHh7Nv3z769OmDyWTioYcewt/fn48++oihQ4eycOFCbr755hKvlZ+fz7333svGjRtZunQpXbp0ccb5wQcfMHToUEaOHElqairz588nOTmZDRs2OP+YlERVVc6ePVumn0dAQABms7lMbUXVI4lbVArffvst99xzz0WT8g033EB4eDjnzp1j6NChJbY5fPgwv/76K+Hh4c664cOHk5uby5o1a2jSpAkA99xzD3FxcUyaNImEhAR0OtcPnrm5uQwbNoxffvmF5cuX0759ewCSk5N57733mDt3LnfddZez/c0330x8fDzz589nwoQJF32OR44coXXr1mX6eRR9DCEKk8QtKoXAwEB+/fVXjh8/Tp06dS7rGgkJCS5J2+FwsHbtWvr06eNM2gBBQUHcd999TJ06lT///JOWLVs6j2VnZzN48GD27NnDypUradOmjfPYihUrCAgIoHfv3pw+fdpZX7t2bRo3bsyGDRtKTdxhYWF89tlnZXouMTExZWonqiZJ3KJSeO655/i///s/WrRoQatWrejZsydDhgyhadOmZb5GgwYNXMrp6enk5OS4JO3zzl/38OHDLol78uTJ5Obmsm7dOpekDZCSkkJ2djbR0dElPr6iKKXG5+PjQ3x8/KWfiBCXIIlbVAqDBg2iU6dOrFq1inXr1vHWW28xe/Zs5s6de9GukaJ8fX3L/HiaVvIy9DfddBPLly9n1qxZvP/+++j1eucxVVWpXr067777bonn+vn5lfqYDoeD9PT0MsUXFBRUrucjqhZJ3KLSCA8PZ8SIEYwYMYKMjAx69epFUlKSM3Ff6o62qJo1a+Lv78/ff/9d7NjevXsBio1/vvHGG+nTpw8jR44kMTGRN99809kH3rBhQ9avX09sbCyBgYHlfn5Hjx6VPm5xRUjiFm7ncDjIzs4mODjYWRcSEkJkZCTbtm1z1vn5+ZGZmVnm6+r1enr06MGqVavYt28fUVFRAGRlZfHee+8RERFB8+bNi503cOBAcnNzeeSRR/Dz82P27NnO+rfffpsZM2bwwgsvuJyjaRpnzpyhRo0aF41H+rjFlSKJW7hdVlYWzZo14+abb6ZFixYEBQWxdetW1qxZw6hRo5ztrr32WlauXMnEiRNp164dOp2OQYMGlXrtp59+mu+//56+ffsycuRI53DAo0eP8v777xcbUXLesGHDsFgsjB8/Hn9/f1544QXi4uJ44IEHmDt3Ln/88Qc9e/bEz8+PQ4cO8eWXX3L33Xfz6KOPXjSWK93H/ccff7Bq1SoA/vzzTxwOBy+//DIALVq0oG/fvlfssUTlIolbuJ2fnx8jR45k/fr1rFq1CrvdTmRkJNOmTSMxMdHZbvTo0ezZs4elS5cyf/58NE27ZOKOjo7mm2++4bnnnmPu3LlYrVZatmzJJ598Qu/evUs9d9SoUeTm5vLMM8/g5+fH5MmTSUpKok2bNrzzzjtMnz4dnU5HnTp16NGjB/369bsiP4+y2rFjR7E7//PlO+64QxK3F1Nks2AhhPAsMuVdCCE8jCRuIYTwMJK4hRDCw0jiFkIIDyOJWwghPIwkbiGE8DCSuIUQwsNI4hZCCA8jiVsIITyMJG4hhPAwkriFEMLDSOIWQggPI4lbCCE8jCRuIYTwMJK4hRDCw0jiriIOZdk5k+e47PNPWRz8eCKPLJt6BaMSVUJOFkrqsUs2U06noZw7exUC8nyyA46Xy7Kp3LX2DBtO5GPUwdiWgUxuG1Suazy08Qwf7bMAoFcgqUMwI68JqIhwhZcxfrMU07K3UWxWHI2vwTJ2OgSFuDayWfF54zkM235E0+mwdb8V691j3BKvp5A7bi83f1cOG07kA2BT4eUdWew6ayvz+ZtO5juTNoBDg0nJmWTky523KJ1yJg3TkjdRbFYA9Cm7MX31UbF2hk3fYtj2Y8E5qoppzQp0e367mqF6HEncXm7fOXvxuszidRc9v4S2Ng2O5Fx+t4uoGnSpx1BU1z/wupNHircrqe5E8TpxgSRuD2d1aGw+mc/R7JKT8U31fVzKQUaFrrXNzrJD1diams/BrJLP71HXjF5xrQv31dEsRHrZqixNQ7f3D4wrP0T/z51ySRyNm6EGBbvU2a/tVKxd0TpNr0cLCEQ5nXpl4vVC8u7zYHszbdz6TTrHc1V0CjzdNohHWwW6tLk50pf/dgrhw79zqG7WMaFNECHmgr/Xx3Mc3PzNKVLOOVCA/2sewPPtXd9oekWhlo/CCUvBntLhvjq+6huKXlckm4uqIS8X3xf+g/7wPmeVWq0muUmLwOx6k6D/81eU3FzXur92Yo/v51KnxrQm74HJmD+cg5KbjeJw4Pv6s2iKDuvAEdhuubvino+HkjtuD5b0WxbHcws+iqoavLj9HOkljBwZ3sSf1f1qsaRXTWJDTc76//6RRcq5gvYa8Pqf2ezLdO3//u8fWc6kDXDSoqKiIaom44avXZI2gO5sOoZv/1esrXnxayh219eTcfN36P7aWeK1ldxs17KmYvrsfZTMM/8yau/jtsTtcDh4/vnnadWqFWFhYbRq1Yrnn38eu/3CR3ZN05g+fToxMTGEh4eTkJDA7t273RVypXOsSD+zTYVTlrJ/aXi8hH7q838ISm2TI19MVlXKmVMl1utTjxZveza9xLa6Eq6hnC35uorDIYm7BG5L3LNnz+btt98mKSmJn376iRkzZrBgwQJeeeUVZ5s5c+Ywd+5ckpKSWLduHaGhoQwYMICsrCx3hV2pdK9jdik3r2YgpoS+54x8lc8OWPgt3epSP7iRn0s5wl9PdJCeFQdy+eOM7aJtrg8zIaome4cb0BTXbjKNgv5s/fbNcC4D/c8/oEvZhb1j92Lna77+aID+j5/R79iK4Zul6JPX4Qitg6bXF2vvqF4LtXpYBT0bz6VkZGS45XPv0KFDqVatGm+++aaz7sEHH+Ts2bMsWbIETdOIiYlh1KhRjBs3DgCLxUJ0dDTTpk1jxIgR7gi70vhfSi4PbjyL45/fXve6ZuZ1rkaYn+uL/7d0K7d8m845a0HD/2sewAuF+rE/P2jhk325hPvpiK9t5qFNGeTYC9qOb10w5rtwm7EtA4kMlK9GqjL9rm2YFr2G7tRxVP8g8A9Af/QAAJqiQ9EKPpHZOvdB8/XHuGY5ilbwmtKA0r4d0XQ61LAIlNxsdP/caWv+gViemI1av3FFPi2P4rY77o4dO7Jp0yb+/vtvAPbs2cPGjRvp1asXAIcOHSI1NZXu3S/81fb19SUuLo7k5GS3xFyZPPfrOWfSBvjrrL1Y0gaYtTPLmbQB5u3K5kTuhe6PWxv48nHPGrwaV42Ff+c6kzbA7N+zOJuvurSRpC0czdpiefE9chZ8i3XE486kDTiTNoBx0zcoGaedSRtKT9pQMI4bP3+XGZRKThbGEsZ/V2VuexeOHTuW7OxsOnTogF6vx263M27cOEaOHAlAamrBUKDQ0FCX80JDQzlx4sRFr7t3796KC7oSOZvnS+G3wZk8e4nP/USGGbiQ0FUN/th7gGy/4h+0Us+5trWp8Mfe/YSb5ctIUbJq+/fRoJTjllMnMJbzmrYzp/HRXF9zllOppFSR9/Z50dHRFz3mtsS9fPlyPvnkE95++21iYmL4/fffeeKJJ6hfvz7Dhw93tlOK9qdpWrG6wkp7st7k3rOZzP3zwrfw98YEEB0dUbydlsMvP2Y4y9eHmejVuq6zvD3dypZUK+1rmXigtY3/FGrbo66ZLi3qIsTF6OzZaD6+KHkFs2sLd4U46jfGOOh+tFkTLnmn7XLNjt1Rf/wWXaG7bmOfwVXmvV0WbkvcU6ZM4eGHH2bQoEEANG/enCNHjvDqq68yfPhwwsIKvpBIS0sjIuJCQkpPTy92F14VTbsuiKYhBramWulQy8SwaL9ibbJsKrN/v5Dcg00Kb3Wt5iy/uyeHx7ZkOMsvtg9mUffqfHMkjybBBu6P8a/Q5yA8m3HNCswfznGpU0NrozZri1q9Frae/SEgGMuEWZiXvwdWC/aW7dGlHsOwbZNzVqUaUgNH285gs6LpDZhWfVLssQw7k3G0j78Kz8ozuC1x5+bmoi/yLbJer0f955cZGRlJWFgY69evp23btgDk5eWxZcsWpk6detXjrWx0isLwJv4Mb3Lx5LrigMVlynumVePrw3k82KxggaiXd5xzaf/yjnMcuLMO/SJ9KyZo4VWMKz8sVqc/dQJrhxtwNG/nrFObx2JpHussm994zmUqvC7jNJaeA9DqNsDv0SElPpZh0zdYB45Aq17rCj4Dz+W2xN2nTx9mz55NZGQkMTEx7Ny5k7lz53L77bcDBV0kiYmJzJo1i+joaKKiopg5cyb+/v4MHjzYXWF7FJtavG+6cF3RFVrtMjxblINiv8iaNxerP3+eo/jcAMVhL5jW5Sj5XEXToITzqiq3Je6XXnqJF154gccff5z09HTCwsK45557mDBhgrPNmDFjsFgsjB8/noyMDGJjY1m+fDmBgYGlXFmcN6CBLzN3ZHHin0k1/gaF30/bmLA1g+tCjXQJN7HiYJ6z/V1Rfqw5msePJ/NpG2ri5iJ33vvP2Xj653Nk2VTGtQqkax3XKc7CeymZZzBs+rZg/RBFhxoZhbXnAMyfL3Rp56jbwOVuWzmThuHH1aDXY+98I1pQNWw9B6Av1FViv+ZaNL8AjCs/RG3QFN2OrcUe3962E1po7Yp9kh7EbeO4xdWRZnHw9u5s5u3KIctW+q/aV69gKTTG8NGWATzTLth5neZLTlL4Ep/0rE6fetKt4vWyM/GbfD+6DNeZkPZWHbD1uBX99s0oeRbUqObYOvUGv4KuOOXMKfymjETJygRArR5K7vPvYty8GvOi/zqvY43rhfG3Lc4p74W/4FR9A7DekYi9U28wlHd8iveStUq8XC1fPbV89ZdM2oBL0gaYvzsH9Z9hWa/uzKLoJaZvlxmsVYHhp++LJW0o+MJQDa+HdcQ48hOfxtZroDNpAxi2rHYmbSiY6m74+QeM3y1zuY5x61qXdUoKj0DRWbLRaoRJ0i5CEncVYLzMlfz0hV4d5qJruwJGefVUDfpSelTLe0yvL16vlP5C0gwy6asoeet5meM5Dqb+msnjWzL49VTB2iQDGvoSFXTpF381k2tyHtcqEN0/Y+bHtgzEt1DyVoCp7cq3BZrwTI7oFmj+xX/Xtut7otWohWH9F5gXzMDww1dQaLSIrVNv1EKjQNTqtbBf1w3rLXe7rHdi7T0INaSms6wVSuSOpq1Rm7a+0k/J40kftxfJtau0X57G0X9W9DPq4LuEUK6taSLbprLyoIVjuQ6MikLbUBMKsO2UFYemEeqr55YGvhzMsrP5pJXYUCPta7kuYpWR7+DF7VlkWgu+nIwOkY+vXi8/D78n7nau6KcpCrYeA3C0vA5Hqw6YPpqLafWnzubWvkOx3p5YUNA0fJ8Zhf7QhWVgLY9Mw9GuC7rDKej3bMcR2QS1aSvIycLw8w9gMuNo0hL9zmS0wGAc13YGueMuRhK3F/nikIW717kugTkqxp+Xrw9xT0DC4+l/2YDva1Nc6qw9+mMdPhYA/1E3oljzncc0P39y5n0FgO7QXvymjHI51966I3mPzajYoKsA6SrxIsGm4r/OYLP8isW/UOjLRif/C8NxtSLHNb9Cx3yLTw4r2l5cHnlXe5Eu4Sa6FdpPsppZwUcHQ75LZ8rPsjO7KD/HNddib9XBWVZrhmPr0d9Ztg4Z7eyT1nQ6rEMu3GFrtepg637rhbJ/ELZ+d1Z80FWAdJV4mfiVqfx2uuTZZ53DTXzZV9Z5EeWkaej+2oGSm42jxXVgcv3uQzl1Av3+3TgaN0OrGV7sdN3+PSinTxZMzJE77itCErcXScm0E7u89J2x/xoaXuK63UIIzyFdJV6kho8Ocyk5OdCoEFRCP7gQwrPIu9iLhJh1PN02iPPDraubdQQbCwpGHUxtF4yv4fIm4whxKYbkdfi+8Ag+L41Dv3u7u8PxatJV4oWO5zg4kGWnXagJVYNf061EBxmki0RUGN2eHfhNH+Msa0YjuUmLCqariytO7ri9UB1/PZ3CzZj1Cr4Ghc7hZknaokIZtv/oUlZsNvQ7f3JTNN5PErcQ4l9Tw+sVr6tdvE5cGTKXtArItKpM2JrBD8fzaVndyMvXh5BmcfD0z+c4mu1gUCNfpsQGYfhnMar95+xM2JrBH2dsdK/rw4wOwfKlpnCVl4t58evod/6EWrcB+XckYm/bCcO2H9F0Omw9+qPGtCn9GtmZmD+Yg/6vHagNY8i/ewxaDdnhpiykj7sKeHDDGT5JsTjLraobOZJj52z+hV/91HZB/Kdlway3Tp+l8ufZC2PB747247XOF/aqFML8/isY1690ltU6keROX4hyOg2MRrSgS79efF6bguGXDc6yo0krLJP/W8oZ4jy5jaoCfjiR71LeecbmkrQBvj9e0CY9z+GStAG+L3K+EPpdv7qUdccPoZw5hVajVpmSdknX0P+9E+y2KxajN5PEXQW0qu66il89fz1FlzBp+U+b6mYdEf76Eo8JcZ6jfrRLWQ2piRZcvk9lRa/hqNNANkwoI0ncVUBSxxCurVnwhogM0LOgWzXmdqlGTR8dCnBjhJnHWxd0k+gUhbe6VqN+QEHyjq1pZEaHYHeFLiop650P4YhqDoBaI4z8B54ESy4+cybjP6I7vk/ei27vH6VeI//ex3DUb1xwjbAI8kc/UeFxewvp465CMvJVgk0Kyj+L2NtVDYtDI7CErWxUTeOcVSNEVhcUpcnNBh8/0OkwvzsT4w9fOg+pITXJfeWT0nfJAcjJKljDRJHJYWUl78oqJMSscyZtAINOKTFpQ8GdtyRtcUl+AaAreJ3o9rneYesy0lHSS187ByhYJlaSdrnIO1MIcXmyMkB1OItqk5Yuh9XqoWg1/+XMyexMsJe82mVVJuO4hRDloqSfxOf1Z9Af+As1pCb5IyfiaHkdtut7YdiyBiXPgmYwYh10/6W7SS7mXAY+c5/FsOc3tMBg8oY/iqN9/BV9Hp5M7riFEOVi/mQe+gN/AQXdIeYFL4LdjvnjN1DyCuYLKHYbxu8+Le0ypT/Givcw7Pmt4FpZmfi8PQMsOf86dm8hiVsIUS66wymu5cyzKOfOoDtSpL5I+d88hpKfhy7t+GVfz9tI4hYXpWoau87ayLTKlmfiAnvL61zKjroN0KrXKtgdp3B9kfK/eQy1Wk3Uug0v+3reRvq4RYkOnLMzeHU6Kecc+BkUXuoYzLDo4pu/iqrHettoFFVFv3Mrat2G5N/5MAB590/A/NHr6P/+HUdUc6x3PXzZj2HrdxdKvgXDzz+g1qqDdeiDYJB0dZ6M4xYlGrH+DCsOXljfJMCgsPv28IsOHxRCXD1uexe2bNmSkJCQYv9uu+02ADRNY/r06cTExBAeHk5CQgK7d+92V7hVzv4s1yFY2XaNtFzpMhGiMnBb4l6/fj1//fWX898PP/yAoij0798fgDlz5jB37lySkpJYt24doaGhDBgwgKysLHeFXKXcHOnrUm5WzUDjYPmoKopTMs9g2LgK/bZNxRaJUtJPov/zF8jPc1N03slt78SaNWu6lD/88EMCAwPp378/mqYxb948xo4dy6233grAvHnziI6OZtmyZYwYMcIdIVcpj7YMQK/A14ctRAUbefLaQHeHJCohw+bVmOe/iKIV9LiqgSFYpryBVqsOxq8/wbR0PoqmogaGkDdhJmr9KDdH7B0qRYelpml8+OGHDB06FD8/Pw4dOkRqairdu3d3tvH19SUuLo7k5GQ3Rlp16HUKj7YKZHW/WszrUo16AXK3LYpQVUyLX3MmbQBdVgamLxdDTham5e+gaOqF+hXvuStSr1Mp3o3r16/n0KFD3H333QCkphasbxAaGurSLjQ0lBMnTpR6rb1791ZMkEIIF4rdRuvsc8Xqc48d5uifv9Pc5tptkn/ymLw/yyE6OvqixypF4l64cCFt27alVatWLvVKkYVnNE0rVldUaU9WlM2Bc3aS06y0CzUSFSzrI4uLs7frhvGXH1zqzL36E3nd9TjqNkB/7KCz3nDDzc73p3LiMPr9e3BEt0CrVedqhuwV3J64T506xddff83MmTOddWFhBQvTpKWlERER4axPT08vdhcurqylKbk8uPEsqgYK8N9OIdzdRMZvi4vQLow00nQ68m9PxN6xBz6vPOFM2prRiHXg/dh6DwLA8P2XmN+fhaJpaIqO/AcnY+/Ywx3Reyy393EvXrwYs9nMwIEDnXWRkZGEhYWxfv16Z11eXh5btmyhQ4cO7gizypi27RzqP12W2j9lIUqiO7QX468bnWVFVdGfPIru750Ydmy9UG+zoWSecZZNy9529osrmorp03euXtBewq133Jqm8cEHHzBw4EACAy+MWlAUhcTERGbNmkV0dDRRUVHMnDkTf39/Bg8e7MaIvV9Wkent2TaZnyUuoqRFnyw5KJbcYtXOOlVFycstckwWjyovtybujRs3sn//fhYsWFDs2JgxY7BYLIwfP56MjAxiY2NZvny5S4IX/45d1fjqcB7HchzcVN+HBoEGRjT159Xfs51t7m3q58YIRWWmNmnp0o+t6XTYuyXgiGqOGlYXXeqxgnq9Hlu3mwpOys/DEd0Cw65tzuvYbrgF5XQahl83oAVXxx7bRfaevASZ8l6F3bHmNKuOFEyM8NHDF31CaRdqZEmKha2p+bSrZeLOKD90sjuJuJjsTIzrVqJknMYe1wv1n30olXNnMaz9HCXnHPZOvVEbxkBeLn7PPoDuxBEANJMP+UMfQI1uge+L/3EuCWtv1pa8ia+47Sl5AkncVdTuszau/yzNpW5AA1/eu6G6myIS3s6w6Vt8Fkx3qcu/7QF0J49g3PC1S33u03OdfwREcW7/clK4h6OEP9cOTf6GiwqklrDWjapevF5clCTuKqpFdSPxdczOslEHDzQLcGNEotKz2zFsWIXpk3nod28v/+nXdUWtGe4sq4Eh2Dv1xtazP5rR5Kx3RDVHjW5xRUL2VtJVUoXlOzSW7c/laI6DWyJ9uaaafCEkLs48bxrGrWud5bzRT2Lv1Lt8F8nOxLh5Ndjt2ON6oYXUAEA5eQRD8vqCLyev7wlmnysZuteRxC2EuCTl3Fn8/jPQZV0SR8OmWJ59y41RVV3SVSKEuCRNbwBdkXRhNJfcWFQ4t095F5XPF4csfH4wl7P5GoFGhR51fRgW7XfJdWKEF/MPxNZrEKZvlgIFidx6810V81g5WZi+XYaSfhL7dd1wXBtXMY/jwaSrRLhYvDeH/9uUUax+YptAJl0bdPUDEpWKbs8OdMcO4mh5XYUtDuX77IPoD+xxlvMSn5a1TIqQrhLhYtHe4tOVARb9XXK9qFrUmNbYe9xaYUlbd2S/S9IGMGxYVSGP5ckkcQsX1c0lvySq+8hLRVQ8zT8ATXF9rWkB8kmvKHk3ChfjWwcSbHLtyzbrYUqsvHlEGVhyMS19C5+kxzB+sQjs9kufU4hWvRa2Gy8sJKcFBGG7ediVjtLjSR+3KCbTqrLxRD5mvYLFrtExzEQtX727wxIewGfOZAzbfnSWrb0HYb3rkXJfR3c4BSX9BI5r2oKvLHRWlCRuIcSVYc3Hf3Qfl7HeanB1cv+73I1BeSfpKhFCXBkGI1qw6yJlWo0wNwXj3SRxe6jfz9gYuuY0XT5PY87vWWiyQJRwN52O/GH/QTMVTMzR/IPIvyPRzUF5J+kq8UB5do2W/zvJqbwLK6jNuj6Y+2NkkShRCeRkoTt+CLV+lKw5UkHkjtsD/ZpudUnaAN8cznNTNEIU4R9YsLqfJO0KI4nbAzUOMmAoMvu8SYis7CdEVSGJ2wOF++mZ3iEYv3+yd4daJh5rFcC2U1Zu/OoU0R+f4NHNZ7HYNXaettL361NEfXyCRzadJccmC9SL8jN+uRi/R2/Dd9K96H/+3t3hVHnSx+3BsmwqGfkq9QIM2FSNlktPctJyITGPaeHP8oN5HMl2OOsSm/kzvUOIG6IVnkr/8w/4vv6Ms6zpdOQmLaqwae/i0uSO24MFGnXUCyhY4PHvDLtL0gZYcyzfJWkDbDiRf9XiE96h6G43iqqi37PDTdEIkMTtNRoG6YtNVW8faqJmkTVGrq1pQojyUBs0KVOduHokcXsJP4OO+V2rE+GvRwF61jUzpV0wC7pWo15AwXT1+Dpmnm0na46I8rF3vhHbDTej6Q1ofv7k3/l/qPUbuzusKk36uL2MpmnkOcC30LATTdOwODT8DPJ3WvwLNmvBLjh62X/F3eQ34GUURcHXULzOr+j4QSHKyyjdbJWF3IJ5kXPWglEm5zlUle2nrNgcMgRQuJmqopw5Baq8Fq8EueP2EpN/ymT+7mxUDe6I8qNbbROJGzOwa6BX4NW4EIY38Xd3mKIK0qXswueN59Clp6LWqkPew8+hRka7OyyPJn3cXuD743n0//a0S51ZB4VuvjHpIO2eulc5MiHAd/II9EcPOMuORtdgeWaeGyPyfG7tKjl58iQPPvggjRs3JiwsjA4dOrBp0ybncU3TmD59OjExMYSHh5OQkMDu3bvdGHHltOts8V1G8ot8IrWqBYtTCXFVaRq6YwddqnSFkri4PG5L3BkZGdx4441omsbSpUtJTk7mpZdeIjQ01Nlmzpw5zJ07l6SkJNatW0doaCgDBgwgKyvLXWFXSt3rmtEX+e4xpMj3SDXMCj7yBaW4ypTUYziatnKpc7RqX3JjTUN3eB/KubNXITLP5raukqlTp/Ljjz/y7bfflnhc0zRiYmIYNWoU48aNA8BisRAdHc20adMYMWLE1Qy30vvykIVXd2ZhU6GaWceGE/mc/8VG+Ov4X6+aXFNNFqISV4ndhs9rUzD8tgUAtWY46HQ4mrYm//ZEKLIBsHLmFD4zx6M/dhBNb8A66D5sCXe6I3KP4LY77q+++orY2FhGjBhBVFQUnTt3Zv78+c4NAQ4dOkRqairdu3d3nuPr60tcXBzJycnuCrvS6hfpy9qbazHr+hB+KJS0AUZfEyBJW1xVhi1rnEkbQJd+kvw7HyZ/5MRiSRsKFrHS/9OlojjsmJa9XTAKRZTIbaNKDh48yDvvvMNDDz3E2LFj+f3335k4cSIAo0ePJjU1FcCl6+R8+cSJExe97t69eysuaA+wNU0PmF3qdhw9zV6fk+4JSFRJ4Xv+pHaRutO7dnAqILTE9o0P7qNw756iqhzd8Su5EVV3hmZ09MVH3rgtcauqyrXXXsszzxSsOta6dWv279/P22+/zejRo53tFMW1X1bTtGJ1hZX2ZL3Nngwbx3McxIWZnf3X1es5eOlAKlm2C/fcw1uHE13n8ha1T7M4+C3dRpuaRudO74eybKw4kEebmkbiL/O6wjsp586iO/AXXB+PtvlrlH/GbWtGI9V63UrIRVYUNHTrCyl/OMtqzTDqdukJBhmxXBK3/VTCwsJo2rSpS12TJk04evSo8zhAWloaERERzjbp6enF7sKroieSM3hzVw4Adfx0fH1TKA0CDdTw0fNFn5q8sjOLczaNEU396XaZyfXzgxZG/XAGq1ownPCd+OocyrLz1M/nnG1iaxr5LiEUvU6++Kzq9L9sxGfeVBS7Dc1gxJpwJ/pDe0Gnx9p3aKnLwNq7JZCnOjBuXYtaPQxr/+GStEvhtp9Mx44d2bdvn0vdvn37qFevHgCRkZGEhYWxfv162rZtC0BeXh5btmxh6tSpVz3eymT/ObszaQMcz1WZvTOL2Z2qAdCmpokPutf414/z9M+ZWP8ZVmhVYfJPGaTmuo4z/DXdxrdH87ipvu+/fjzh2cyfzEOx2wBQ7DaMW9aQO+uTMp9vv+EW7DfcUlHheRW3fTn50EMP8fPPPzNz5kz279/PZ599xvz58xk5ciRQ0EWSmJjI7NmzWblyJbt27eKhhx7C39+fwYMHuyvsSuGUxVGsLi3vyk8lPlVkfe90i1psfHhJ7UTVpJw7U6Qsw/oqitvuuNu2bcvixYuZOnUqL7/8MhERETz55JPOxA0wZswYLBYL48ePJyMjg9jYWJYvX05gYKC7wq4U2oWaiA42sDfzwsSb2xv7XdHHyLWrdAwzsv641Vl3Z7Q/u8/a+DH1Qp1ZDzfVl35uAbbOfTCt/cxZtne68bKvpRw7iGHzajD7YO/cB626dI8WJlPePdTJXAdz/8zmeI6DQY18r2hXxdl8lR5fpLE/q+DOPtik8FjLQB5qEUC+Q2PyT5msO5ZP/QA9M68P5ppqsmqcAOx2jGtWoN/7O47oFth6DrysfmrDD19hfvdlzn9roukNWCbMRI1pc0XD9WSSuEUxr/+R5fIFJMA73aoxqNGVvasXoiR+jwxAV6Sbxd48lrwJs9wUUeUjy7qKYnJKWNOkpDohKoJizStel1+8riqTxO2l8h0ab+3K5vbV6czemUWOrWxfIGbbVEw6BXOhV0aYr46bI2XUSJWXn4dhwyqM3yxFOZ1WtnNsVgybV2P8+hOUtOMFdTlZGNZ+jnH1csjKKH5KjwHF67rf+i8C9z7SVeKlen15ip9PXfgSMSrIwJYBtTCWMt7a6tC44Ys0/vxntUGzHu5p4s+YloHU9ddXeMyiElMd+E59CP2BvwDQfP3JnfIGWp3IUk/zSXoMw65tBeeYzFgem4HPOy+hO1Uw+1kNqYll2gK0oGoXTtI0DJu+xbDhazCZsPUZiqPldRXzvDyU3HF7oW2nrC5JG2DfOTtrj5X+cXP10Txn0gbId4C/QZGkLdD/uc2ZtAEUSw7GdStLPUe3f48zaQMo1nzM/1vgTNoAuoz0gtEjhSkK9i59yJv8X/LGz5SkXQJJ3F7oYh+htEt8tirpsHwcExd3qRdUGV89ZW0nnCRxe6HYUBOxNV1XA2wUqKdnROnjrXtF+NAs5MLwrWCTwj2y3ZkAHM3b4mjQxFnWfPwu2e+sNr4Ge6EhfJrRRP7gkQVLvJ5vE1IDe6fexU+25mNcvRzT4tfR/bXzX8fvbaSP20vlOzTe3ZPD+uN5tK9l4sFmAQQYL/13Otum8ul+C+dsKoMa+lFHuknEefl5GLauRcnJwt7hBrQaYZc+x2bF8NP3KBnp2Nt1QwurCzlZGLesAVXF1rEHBIUUO83npXEY/vwFAE1RyHv4ORztul7hJ+S5JHELISoV5eRR/CcOc6mzN2tL3sRX3BRR5SNdJUKIysVkQiu6dLNZhqMWJolbCFE2qoph7eeY5z6H8etPwGa99DmXQateC3t8vwtlkw/WfrKNWWHSVSKEKBPT0rcwffWxs2yL603+A09W2OPp9vyGLu04jpbt0arVrLDH8USSuIUQZeL3nwHoMi+sIaLp9eTM/wYMsp/p1SZdJUKIMtECq7mW/YNAJ6OO3EH2BhKcsjiY8VsWu8/auLGeDw83D0BRYO6f2XxzJI8mwQaeaBPE4WwH//0jizy7xshrArixnqzDXSVY8zGt/BA0FU2nR1EdaDod1qEPgE7u/dxBukoEN351iuS0C180TWwTiEmnMG3bhaVdm1czcCDLQe4/qwTqFPguIZR2obIWt7czv/MSxg1fO8v2Ji3JT3warXotN0ZVtckddxV3ItfhkrQBPjtgwaR3HY5VeA0TAFWDlQctkrirAMNP37uU9fv+RKsmO9K4k3zOqeJCTDqCTK5JOjJQT/0A175LnxK6MiMDpX+zKig8RR1AqxkORcdZi6tKEncV52tQmNE+2JmY6/jpeCY2mCmxQUT8M93drIekDsHc3vjCJIhutc3cGSXrmFQF1mGPoPkX7POq6Q1gs2J+83mUzDOXOLM43Z4d+Ewfi+9T92P87tMrHWqVIX3cAijYZ/Jglp0W1Y3ONbvtqsbvZ2xEBuip/k9mP5hlJ8+hERMiQ8CqlPw8fF6bguH3n5xV5Z6GnpWB/2O3u+xwk/fQFOwdul/JSKsE6eMWAFQz66hmdu2vNugUrq3pWtcgUF4yVZLZB33KLpcqw65tBbMnjWX7nkO/57di25LpdyRL4r4M0lUihCgTNaKhazksosxJG0Ct27B4XUTxOnFpkriFEGWSf/dY1LC6AKjVapJ3/4Ryna/ViSR/yCg0kxkAe5s4bD36A6AcP4TP9LH4Jybg89qUEveiFBdIH7cQouw0DeXMKbSQ6qC/zG6zvFwUa77LPpO+T92P/kiKs2zr0J38h6b822i9lnRYCiHKTlHQavzLiTc+fmg+fhfKOVkuSRtA/9eOf/cYXk66SkQxmqaR75APYqICWPMLvtBU1Qt1fgGo4fVcmqmNYq5yYJ5FukqEi2+OWHh8cybHcx3cWM+Ht7pWI9gkf9/Fv6OcO4v5jakYdm9HAzT/AKx3j8V+fU8AdAf2YJ4/A/3xgziatibvwckypb4Ul5W4LRYL27dv59SpU3Tq1ImaNWWtXG+QbVO5ZslJsmwXXhKJzfyZ3iHEfUEJr2BeMAPjpm9c6jSdntzZ/0MLrn6h0m6TZWLLoNy3Um+++SZNmzalX79+jBgxgj///BOA06dPU79+fT744IMyXWf69OmEhIS4/GvSpNAu0prG9OnTiYmJITw8nISEBHbv3l3ecEU57Mu0uyRtgN9O29wUjfAmugN7itUpqgPdYde+bUnaZVOuxL148WImTZpEz549ee2119C0C2/yGjVqcMMNN7BixYoyXy86Opq//vrL+W/z5s3OY3PmzGHu3LkkJSWxbt06QkNDGTBgAFlZWeUJWZTDNdWM1PRxfUl0Dje7KRpR6VnzUdJPFqtW0k8W29bMcc21xdppJjMO6cu+LOUaVTJ37lxuvPFG3n33Xc6cKb5OQZs2bViwYEHZH9xgICwsrFi9pmnMmzePsWPHcuuttwIwb948oqOjWbZsGSNGjChP2KKMzHqFj3pUZ1JyJgezHNzawJfHWwW6OyxRCel/3YjPOy+j5JzDUbcBeWNfBMBn9pPojx1E8w8i7/7xOGK7FIwaObwXAA1A0aGG1cU6fAz4y+vrcpQrcaekpDBq1KiLHq9RowanT58u8/UOHjzINddcg9FopF27dkyZMoUGDRpw6NAhUlNT6d79wlRYX19f4uLiSE5OlsRdgdrXMrP2ZvlSSJTCZnUmbQD9sYOYl7zp/H8AJeccPu++TE6rDpi++gj9338U1AOaAnkTX0GrLkvDXq5yJe7AwEAyMzMvejwlJaXMX1S2a9eON954g+joaNLT03n55Zfp3bs3W7duJTU1FYDQUNdfbGhoKCdOnCj1unv37i3T4wshLo8x8zQtcs651NkO7kXRNJeEomSf4+CO7dT7exeFJ8YrqsrxX7eS3UC6SUoTHR190WPlStxdu3Zl8eLFJCYmFjt27NgxFi5c6OzauJRevXq5lNu1a0ebNm346KOPuO666wBQiqz5q2lasbqiSnuyVYmqaew4bSPcT09tP1k3W1xJ0TjqNXaZNKNv3w00DVYtcdY56jWmQbsOGLJSYe+FCTVaQBC1u/YCs+vWd8rxQwUTfGrXr/in4OHKlbifeuopevToQXx8PP3790dRFFavXs369et5//33MRqNTJhQvvULzgsICCAmJob9+/fTr18/ANLS0oiIiHC2SU9PL3YXLoo7mm2n/7en2XfOjl6BJ9oEMr5NkLvDEl4kb8zzmJa8he7YQRxtOmIdeF/BAUVB/9tW1LoNCvakBOzxN5Ofm4Nhyxq0kBpYB490Tdp2Gz7/fRrDjq0FxbadyXv42cufUl8FlHsc919//cUTTzzBDz/84DKqpGvXrrzyyis0btz4sgLJy8ujdevW3HfffUyYMIGYmBhGjx7N448/7jweHR3N1KlTpY/7Eh7bnMG7f+U4yzoFfh8STl1/ufMWlY/hx+/wmf+iS53l4WdxXBfvnoA8QLn/pDVt2pQVK1aQkZHB/v37UVWVBg0alHsSzlNPPUWfPn2IiIhw9nHn5uZyxx13oCgKiYmJzJo1i+joaKKiopg5cyb+/v4MHjy4vCFXOYezi+8PeSzHLolbVEolDSnUnTqJww2xeIrL/iwSEhJC27ZtL/uBjx8/zsiRIzl9+jQ1a9akXbt2rF69mvr1C/q3xowZg8ViYfz48WRkZBAbG8vy5csJDJThQ5cyoKEva47lO8uRAXraFtkQ4XiOg+3pVtqGmqQPXJSP3YZ+93Y0vwDUxs3+9eUcsV3QPv8AxVFww6EZjdhjO//r63qzcnWVfPzxx6VfTFHw8fGhTp06tGnTBpNJdgB3lw//zmH5AQt1/fWMax3osnPNigO5jN5wFpsKRh0s6Fqd/g19S7maEAWUzDP4vvAIutRjANhju5D3n2n/+rr63dsxfrcMFB3WPkNQm7T619f0ZuVK3NWqVXOO6ijcvw241CuKQmBgIOPGjeORRx65guGKK6Hl/05yJPvCB9H6AXp2Dgkv5QwhCpiWv4fp84UudbmT5qDGtHZTRFVTubpKNm3aRGJiIsHBwYwcOZKoqCg0TSMlJYUFCxaQnZ3NSy+9RGpqKm+++SbPPPMMwcHBDB8+vKLiF5fhdJ5aalmIi1FK2JmmpDpRscp1xz1mzBgOHTrEihUrio2nVlWVAQMG0LBhQ2bPno2qqvTq1Yv8/Hw2bdp0xQMXl2/8lgwW7Lkw6mT0Nf681DGkzOdvOpnPvkw7PeqaqRcgQ7aqEt2+P/F94RGUf9bTVkNqkvvSh2CWrrarqVyLTH3xxRf069evxEkwOp2Ofv36sXLlSme5f//+pKSkFGsr3Gt6h2CSOgQzqKEvL3UI5sX2wWU+d8LWDPqtSmfs5gzaLU9lw4n8S58kvIYa1RzLpNnYuvTFeuMQLE+/LknbDcp1u2S1Wjly5MhFjx8+fBir9cKqYD4+PhiNskxjZWPQKTzQLIAHyjkg4JTFwTuF7tTzHfDqziy61pYVBKsStUkr8uXLQ7cq1x13fHw8b731Fp9//nmxY5999hkLFiwgPj7eWbd9+3bn8D7h+fIdGkV3NLPYZQMlIa62ct1xJyUlcfPNNzNixAhq1apFw4YNAThw4ABpaWlERkaSlJQEFMx0TEtL4+67777yUQu3iAgwcFN9H74+nOesG3WNvxsjEp5It/cP9H/8ghoZhePaTnCJ9YdEceWe8m6xWHj33XdZu3ats9ukXr169OzZk3vvvRc/P79LXEF4snyHxsf7ctmbaadvfR/ZaEGUi2HD1/i885KzbO09GOtdD7sxIs8kmwULIa4av0n3oDt+yFnWDEZy3vii2EqBonSyfbcQ4qrRinaLKEhXyWUo9x33qVOn+PDDD/ntt9/IzMxEVV0nbyiK4hwSKCqnLw5Z+P54Pi2rG7kr2g+jTt444uow/Pgd5gXTUf6ZeW2L7QzBNXDUa4S9awIYZF5AWZTrp7Rnzx4SEhLIycmhcePG7N69m5iYGDIyMjhx4gQNGzakbt26FRWruAJe/yOLp36+sHtJcpqVeV2quTEiUZXYO/VGrROJftevKKdOYlpfcJNnBGx7/yD/gcnuDdBDlKur5Nlnn8VoNLJ161ZWrlyJpmlMnz6dXbt2sWDBAjIyMpg27d8vOCMqznuF1ukGWJqSS7ZNpryLq0dt2BRbwp0Y9vzmUm/YshZys90TlIcpV+LesmULI0aMoEGDBuh0BaeeX2xq8ODBDBw4kKeffvrKRymumACj66/cV69IV4lwC82nyAg0owkMMmGvLMqVuG02G7Vr1wYKZkUCLpsHt2zZku3bt1/B8MSV9kSbQArn7vFtAjHrJXGLq8864F60QtuTWW8ZBiYZXloW5erjjoiI4PDhwwD4+voSHh7OTz/95NwgeNeuXfj7y4SMyqxvfV9+HRTGphP5tKxhomV1ucMR7uFo3ZHclxej370dtV5j1EjZ6LusypW4u3Tpwtdff81TTz0FwJAhQ3jjjTc4d+4cqqqyZMkSmSnpAeoHGLgzWr69F+6n1QjD3rmPu8PwOOUaDnjkyBG2bdvGjTfeiI+PD/n5+UycOJEVK1ag1+vp27cvSUlJBAQEVGTMQghRpcnMSS+R79B4eUcWG47n07qGkSfbBlHNLPOrhPBG8nnZSzz1U6Zzc4SfTlnZn2Xn09413RyVEKIiyC2Zl/jikMWlvPZYPjkyPlsIrySJ20s0DHL98FTHT4evQYb5CeGNJHF7iRfbBxPmW/DrDDIqzLw+BF0pi/d8+HcOcZ+lEr8yjZUHLRdtJ4SofOTLSS9iUzV2n7XRKMhQbIZkYZtO5tNvVbqzrFdgc/9aNA2RMd1CeAK54/YiRp1CqxqmUpM2wNqjeS5lhwbrj8umv0J4CkncVVDzEmZLNq8md9tCeApJ3FXQgAa+DG/ih14Bsx7Gtgygi+zULoTHkD7uKizTqqJXiq8YKISo3CrNO3bWrFmEhIQwfvx4Z9359b5jYmIIDw8nISGB3bt3uzFK7xJs0knSFsIDVYp37c8//8zChQtp3ry5S/2cOXOYO3cuSUlJrFu3jtDQUAYMGEBWVpabIhVCCPdze+LOzMxk1KhRvPbaa4SEhDjrNU1j3rx5jB07lltvvZVmzZoxb948srOzWbZsmfsCFkIIN3N74j6fmLt16+ZSf+jQIVJTU+nevbuzztfXl7i4OJKTk692mEIIUWm4dZGphQsXsn//ft56661ix1JTUwEIDQ11qQ8NDeXEiRMXvebevXuvbJBCCOEG0dEX31jCbYl77969TJ06lVWrVmEymS7aTikybVvTtGJ1hZX2ZIUQV56SegwtuBoU3UOyLKz5KMcOgX8AWq06Vz44L+W2xP3TTz9x+vRprr/+emedw+Fg8+bNvPvuu2zduhWAtLQ0IiIinG3S09OL3YULIa4+5XQaPq9OQn8kBc3Hl/y7x5RrNxv9jq34vP4MirVg1q4jMhrLxFfAP7CiQvYabuvjTkhIYPPmzWzcuNH579prr2XQoEFs3LiRqKgowsLCWL9+vfOcvLw8tmzZQocOHdwVthDiH6bl76A/kgKAkmfB/MFssOSU7WTVgXnBDGfSBtAf2ovp608qIFLv47Y77pCQEJdRJAB+fn5Uq1aNZs2aAZCYmMisWbOIjo4mKiqKmTNn4u/vz+DBg90QsRCiMN2Jwy5lJT8P3ek01IiGlz7ZkosuK+OS1xQlq9Q74IwZMwaLxcL48ePJyMggNjaW5cuXExgoH6WEcDf7tZ3Qp1yYEKeGRaDWibz0iZqGLu0YjvpR6A/vc71m205XOkyvJFPehRCXR3Vg/GIxhl83otaqi3XISLSwiNLPyc3G96Vx6A/sKbhEtVAUSw6a2Yyt7+3Y+g69CoF7PkncQoirxvjVx5iXug7/zZ00BzWmtZsi8kxun4AjhKg6lDNpxep0JdSJ0kniFkJcNfYON6AVmoeh+QVgbyWjxMpLukqEEFeVfkcyxu9Xovn4Y7vpdtR6jdwdkseRxC2EEB5GukqEEMLDSOIWQggPI4lbCCE8jCRuIYTwMJK4hRDCw0jiFkIIDyOJWwghPIwkbiGE8DCSuIUQwsNI4hZCCA8jiVsIITyMJG4hhPAwkriFEMLDSOIWQggPI4lbCCE8jCRuIYTwMJK4hRDCwxjcHYAQouoybPoW4/dfoPkHYr1lOGrja9wdkkeQrcuEEG6h/20zvq8+6SxrPn7kzPoYAoLdGJVnkK4SIYRbGH7d5FJW8nIx/LnNTdF4FkncQgi3UMMjylQnipPELYRwC1uP/tibtQVA0+uxJtyBGhnt5qg8g/RxCyHcSkk7jubjB0Eh7g7FY7jtjnvBggXExcVRr1496tWrR69evfj222+dxzVNY/r06cTExBAeHk5CQgK7d+92V7hCiAqi1aojSbuc3Ja469Spw3PPPccPP/zA+vXr6dq1K3fddRd//PEHAHPmzGHu3LkkJSWxbt06QkNDGTBgAFlZWe4KWQghKoVK1VXSoEEDnnnmGe69915iYmIYNWoU48aNA8BisRAdHc20adMYMWKEmyMVQgj3qRRfTjocDj799FNycnJo3749hw4dIjU1le7duzvb+Pr6EhcXR3JyshsjFUII93PrzMk///yT3r17k5eXh7+/P4sWLaJ58+bO5BwaGurSPjQ0lBMnTpR6zb1791ZYvEIIcbVER198hI1bE3d0dDQbN24kMzOTlStXkpiYyJdffuk8riiKS3tN04rVlXRNIYTwZm5N3CaTiUaNGgFw7bXXsm3bNt544w1nv3ZaWhoRERcG5Kenpxe7CxdCiKqmUvRxn6eqKlarlcjISMLCwli/fr3zWF5eHlu2bKFDhw5ujFAIIdzPbXfczz77LL1796Zu3bpkZ2ezbNkyNm3axNKlS1EUhcTERGbNmkV0dDRRUVHMnDkTf39/Bg8e7K6QhRCiUnBb4k5NTWX06NGkpaURFBRE8+bNWbZsGT169ABgzJgxWCwWxo8fT0ZGBrGxsSxfvpzAwEB3hSyEEJVCpRrHLYQQ4tIqVR+3EEKIS5PELYQQHkYStxBCeBhJ3EII4WEkcQshhIeRxC2EEB5GErcQQngYSdxCCOFhJHELIYSHkcQthBAeRhK3EEJ4GEncQgjhYSRxCyGEh5HELYQQHkYStxBCeBhJ3EII4WEkcQshhIeRxC2EEB5GErcQQngYSdxCCOFhJHELIYSHkcQthBAeRhK3EEJ4GEncQgjhYSRxCyGEh5HELYQQHkYStxBCeBhJ3EII4WHclrhfeeUVbrjhBurVq0fjxo0ZOnQou3btcmmjaRrTp08nJiaG8PBwEhIS2L17t5siFkKIysFtiXvTpk3cf//9fPvtt6xcuRKDwUD//v05e/ass82cOXOYO3cuSUlJrFu3jtDQUAYMGEBWVpa7whZCCLdTMjIyNHcHAZCdnU39+vVZvHgxffv2RdM0YmJiGDVqFOPGjQPAYrEQHR3NtGnTGDFihJsjFkII96g0fdzZ2dmoqkpISAgAhw4dIjU1le7duzvb+Pr6EhcXR3JyspuiFEII96s0ifuJJ56gZcuWtG/fHoDU1FQAQkNDXdqFhoaSlpZ21eMTQojKwuDuAACefPJJtm7dyjfffINer3c5piiKS1nTtGJ1he3du7dCYhRCiKspOjr6osfcnrgnTZrE8uXL+eKLL2jQoIGzPiwsDIC0tDQiIiKc9enp6cXuwgsr7ckKIYQ3cGtXycSJE1m2bBkrV66kSZMmLsciIyMJCwtj/fr1zrq8vDy2bNlChw4drnaoQghRabjtjnvcuHEsWbKERYsWERIS4uzT9vf3JyAgAEVRSExMZNasWURHRxMVFcXMmTPx9/dn8ODB7gpbCCHczm3DAc+PHilq4sSJTJo0CSjoz54xYwbvv/8+GRkZxMbGMnPmTJo1a3YVIxVCiMql0ozjFkIIUTaVZjigEEKIspHELYQQHkYStxBCeBhJ3EII4WEkcQshhIeRxC2EEB5GErcQQngYSdxCCOFhJHELIYSHkcQthBAeRhK3EEJ4GEncQgjhYSRxCyGEh5HELYQQHsbtW5cJITxUbjaG5PWgOrB3uAECgt0dUZUh63ELIcrPkoPflFHo0o4DoFariWXqArSgam4OrGqQrhIhRLkZfvrembQBdGfTMfz4nRsjqlokcQshyk8r4YN6SXWiQkjiFkKUm/26bqg1w5xlNbg69rheboyoapE+biHE5ck+h3Hz6oIvJ6/viRZc3d0RVRmSuIUQwsNIV4kQQngYSdxCCOFhJHELIYSHkcQthBAeRhK3EEJ4GEncQgjhYSRxCyGEh5HELYQQHkYStxBCeBhJ3EII4WEkcQshhIeRxC2EEB5GErcQQngYSdzCRcuWLXnttdfcHYYQTJ8+neuvv97dYVRKkrg9XGJiIiEhITzyyCPFjk2ZMoWQkBCGDh3qhsiEJzn/Oir6b+fOne4OTZRAErcXiIiIYMWKFeTk5Djr7HY7S5YsISIiwo2RCU8SHx/PX3/95fKvWbNm7g5LlEAStxdo3rw5jRo1YsWKFc66b7/9FrPZTOfOnZ1127ZtY8CAATRq1Ih69erRp08ffvrpp1KvnZmZyZgxY4iKiiIiIoKbbrqJ7du3V9hzEe5jNpsJCwtz+WcwGFi1ahXdunUjLCyMVq1aMW3aNKxWq/O8li1bkpSURGJiIhERETRv3pzly5eTkZHBfffdR926dWnbti3r1q1znuNwOHj44Ydp1aoV4eHhtG3bljlz5qCqaqkxLlq0iA4dOhAWFkZsbCxz58695DneSBK3l7j77rtZvHixs7xo0SLuuusuFEVx1mVlZTF06FBWrVrF2rVradmyJUOGDOH06dMlXlPTNIYOHcqJEydYsmQJGzZsIC4ujltuuYWTJ09W+HMS7rd27VpGjx7NqFGj2Lp1K6+//jqff/45U6dOdWk3b948YmNj+eGHH+jfvz+JiYmMGjWKXr16sXHjRuLi4hg9ejR5eXkAqKpK7dq1ef/990lOTubpp59m1qxZLFq06KKxLFy4kGnTpvHkk0+SnJzM888/z5w5c3j77bcr9GdQGUni9hJDhgxh+/btpKSkkJqaytq1a7nzzjtd2nTr1o3bb7+dpk2b0qRJE1566SV8fHxYs2ZNidfcsGEDv//+OwsXLiQ2NpZGjRrx1FNPERkZyZIlS67G0xJX0Zo1a6hbt67z3+DBg5k5cyaPPPIIw4YNo2HDhnTt2pVnn32W9957D63Qru49evRg5MiRNG7cmEmTJpGfn0/Dhg254447aNSoEePHjyc9PZ3du3cDYDQamTx5Mm3btiUyMpIBAwZw33338emnn140vpdffpnnnnuOW2+9lQYNGtC3b1/Gjh3LO++8U+E/m8rG4O4AxJUREhJCv379WLRoEcHBwXTu3Jl69eq5tDl16hQvvPACGzdu5NSpUzgcDiwWC0ePHi3xmjt27CA3N5eoqCiX+ry8PA4cOFBhz0W4R1xcHHPmzHGWfXx8aNeuHdu2bXOpV1UVi8VCamoq4eHhQEF33XkBAQH4+fm51NWqVQsoeA2e9+677/LBBx9w5MgR8vLysNlsxV6z56Wnp3P06FEeffRRHn/8cWe93W53+QNSVUji9iLDhg0jMTERf39/nnzyyWLHExMTSUtL48UXX6R+/fqYzWZuueUWl/7KwlRVpVatWqxatarYscDAwCsev3AvPz8/GjVq5FKnqioTJ06kf//+xdrXrFnT+f9Go9HlmKIoGAwGl/L56wEsX76cSZMmMW3aNNq3b09QUBALFizgyy+/LDG28+e98sordOjQofxPzstI4vYi3bp1w2g0cvr0aRISEood37p1KzNmzODGG28EIC0tjdTU1Iter3Xr1qSlpaHT6WjQoEFFhS0qsdatW/P3338XS+j/1pYtW4iNjWX06NHOutI+xdWqVYs6depw4MAB7rjjjisaiyeSxO1FFEXhxx9/RNM0zGZzseONGzdm6dKltGvXjtzcXKZMmYLJZLro9eLj4+nYsSN33nknzz33HNHR0aSlpbFmzRri4+OJi4uryKcjKoEJEyYwdOhQ6tWrx4ABAzAYDOzevZtff/212BeU5REVFcXHH3/M6tWradSoEZ9++imbN28mODj4ouc88cQTTJgwgeDgYHr37o3NZmPHjh2cOHGCxx577LJj8UTy5aSXCQwMJCgoqMRjr7/+Ojk5OcTHx3PfffcxbNgw6tevf9FrKYrC0qVL6dKlC2PGjOG6665jxIgR7Nu3j9q1a1fUUxCVSI8ePVi6dCmbNm2iR48e9OjRg1dfffVfzw8YMWIE/fv3Z+TIkdxwww0cPnyY//u//yv1nOHDh/P666+zZMkSOnfuTN++fVm4cCGRkZH/KhZPpGRkZFS9nn0hhPBgcscthBAeRhK3EEJ4GEncQgjhYSRxCyGEh5HELYQQHkYStxBCeBhJ3EJUgISEhBJnrwpxJUjiFkIIDyOJWwghPIwkbiE8gMVicXcIohKRxC28wpYtW+jRowdhYWG0aNGCOXPmsGjRIkJCQjh06JCz3fr16+nXrx8RERHUqVOHfv36kZyc7HKt6dOnExISQkpKCo8++igNGzakbt263HPPPZw5c8alraZpzJkzhxYtWhAeHk6vXr2KXe88q9XKSy+9RLt27ahVqxZNmjTh0UcfJSMjw6Vdy5YtGTRoEBs2bKBnz56EhYUxe/bsK/JzEt5BVgcUHu/3339n4MCBVK9enfHjx2MymVi4cCF+fn4u7ZYtW8bo0aPp0qULkydPRlVVFi9ezC233MJXX31Fu3btXNrff//9hIWFMXnyZFJSUpg/fz5Go9Flq6ykpCRmzJhBfHw8//nPf0hJSWHo0KGEhIRQt25dZztN0xg2bBgbNmzg7rvvpnnz5hw4cIAFCxbw22+/8d1337msab1//36GDx/O8OHDGTZsmGz6LFxI4hYe78UXX0RVVVatWuVc7fCuu+4iNjbW2SYnJ4dx48YxdOhQ5s2b56wfMWIEHTt2ZOrUqaxcudLluk2aNGH+/PnOsqZpLFiwgFmzZhEcHMzp06d55ZVXiI+PZ/ny5eh0BR9gr7nmGsaOHeuSuJctW8bq1av5/PPP6dq1q7O+U6dO3HbbbXz66afcfvvtzvoDBw7w0UcfcdNNN12hn5LwJtJVIjyaw+Hg+++/p2/fvi5L1NaoUYMhQ4Y4y+vXrycjI4PbbruN06dPO/9ZLBbi4+PZsmULNpvN5dr333+/S7lTp044HA7nVm/r16/HarXywAMPOJM2FPzRKLqu9IoVK4iKiqJ58+Yujx8bG0tAQAAbNmxwaV+3bl1J2uKi5I5beLRTp05hsVho3LhxsWOF61JSUgAYMGDARa+VmZnpsh1X0f0PQ0JCADh79iwAR44cASA6OtqlndFoLLZGdEpKCnv37i0xTijYU7GwqrjGtCg7SdzCaxXeRPb8noVvvPEGderUKbF90Q0o9Hp9qdc9/9/z+yle7LHPP35MTAwzZswo8ZrVq1d3Kfv6+pbYTgiQxC08XGhoKL6+vs476sL279/v/P+GDRsCBRvcxsfHX5HHPt818/fff7vcSdtsNg4fPkyLFi1cHv+3336ja9euLt0qQlwOeQUJj6bX64mPj2fVqlUcPnzYWX/69Gn+97//Ocs9evQgODiYmTNnkp+fX+w6RbsqyuKGG27AZDLx1ltvOe/oARYvXkxmZqZL24EDB5KWlubyZed5dru92JBAIUojd9zC402aNIl169bRt29f7rvvPoxGIwsXLqR+/fpkZGSgKAqBgYHMmTOH+++/n86dOzNkyBDCwsI4duwYGzduxN/fn2XLlpXrcWvUqMGYMWN4+eWXGThwIAkJCaSkpPDxxx/ToEEDl7a33XYbX3zxBU888QQ//vgjnTp1QlEU9u/fz8qVK3n++ecZNGjQFfypCG8miVt4vFatWrF8+XKefvppkpKSqFWrFqNGjcLHx4edO3fi4+MDQP/+/alduzavvPIKb7zxBhaLhbCwMNq1a8fw4cMv67GffPJJ/Pz8ePvtt3n66adp0aIFS5cuLbYDuk6n44MPPuCtt97io48+YvXq1ZhMJurVq8dtt93G9ddf/69/DqLqkM2ChdeaOHEiCxcu5NixYxf9olEITyR93MIrFF3LIz09nSVLlhAXFydJW3gd6SoRXqFVq1bcdtttREdHc+LECT788ENycnKYMGGCu0MT4oqTxC28Qu/evfniiy9IS0vDYDDQpk0b5s+fT8eOHd0dmhBXnPRxCyGEh5E+biGE8DCSuIUQwsNI4hZCCA8jiVsIITyMJG4hhPAwkriFEMLD/D+7UkgPuibVkgAAAABJRU5ErkJggg==\n",
      "text/plain": [
       "<Figure size 360x360 with 1 Axes>"
      ]
     },
     "metadata": {},
     "output_type": "display_data"
    }
   ],
   "source": [
    "sns.catplot(x='gender',y='age',col='stroke',data=x)\n",
    "plt.show()"
   ]
  },
  {
   "cell_type": "markdown",
   "metadata": {},
   "source": [
    "Pada visual diatas dapat dilihat, gender perempuan lebih rentang terkena stroke dari pada laki laki, dan juga Stroke juga lebih mungkin berakibat fatal pada wanita dibandingkan pada pria. steatment tersebut diperkuat oleh para medis pada web berikut https://www.alodokter.com/stroke/penyebab."
   ]
  },
  {
   "cell_type": "markdown",
   "metadata": {},
   "source": [
    "# Hasil Analisis, Kesimpulan dan Saran"
   ]
  },
  {
   "cell_type": "code",
   "execution_count": null,
   "metadata": {},
   "outputs": [],
   "source": []
  },
  {
   "cell_type": "markdown",
   "metadata": {},
   "source": [
    "Data tersebut di ambil di website Kaggle: https://www.kaggle.com/fedesoriano/stroke-prediction-dataset\n",
    "\n",
    "Pada data set ini dilakukan analisis tentang prediksi risiko mengalami stroke oleh beberapa faktor.Tujuan dari analisis (penelitian) ini adalah untuk mengetahui faktor faktor apa saja yang berpengaruh dan peran setiap faktor dalam terjadinya stroke. \n",
    "\n",
    "Faktor yang dapat mempengaruhi terjadinya stroke yang kami pertimbangkan dalam analisis ini adalah\n",
    "1. Penyakit\n",
    "2. Tempat Tinggal\n",
    "3. Gaya Hidup\n",
    "4. Usia\n",
    "5. Gender\n",
    "\n",
    "Sebelum melakukan analisis, pertama tama dilakukan Data Cleaning, yang mana tujuannya adalah menghapus colom yang tidak diperlukan, menghapus data yang ditidak valid, dan mengecek outliers.\n",
    "\n",
    "Analisis pertama adalah prediksi stroke yang diakibatkan karena penyakit. Dari chart \"Tingkat Risiko Stroke dikarenakan Penyakit\" dapat dilihat empat penyakit yaitu Hipertensi, Serangan Jantung, Diabetes, dan Obesitas. Penyakit yang paling berisiko terkena Stroke adalah Obesitas. Hal ini terlihat dari pengecekan BMI. BMI yang normal adalah kisaran 18.5 - 25. Apabila BMI lebih dari 25, maka orang tersebut termasuk dalam kategori Obesitas. Selanjutnya penyakit yang dapat meningkatkan risiko stroke berdasarkan tingkatan paling tinggi ke yang rendah adalah Hipertensi, Serangan Jantung, dan Diabetes.\n",
    "\n",
    "Analisis kedua adalah analisis tingkatan prediksi stroke berdasarkan tempat tinggal. Dari chart \"Tingkat Risiko Stroke dikarenakan Tempat Tinggal\" dapat dilihat perbandingan di perkotaan dan pedesaan. Untuk orang yang tinggal diperkotaan lebih rentan terkena stroke dibandingkan orang yang tinggal di pedesaan dan bisa jadi alasannya karena tingkat polusi yang berbeda. Namun, perbandingan antara keduanya tidak telalu signifikan.\n",
    "\n",
    "Analisis ketiga adalah analisis prediksi tingkatan stroke berdasarkan gaya hidup. Dari chart \"Tingkat Risiko Stroke dikarenakan Gaya Hidup\". \n",
    "\n",
    "    Yang pertama adalah analisis berdasarkan status merokok dari setiap pasien. Merokok merupakan salah satu faktor yang dapat menyebabkan stroke tapi tidak menutup kemungkinan yang tidak perokok untuk tidak berisiko terkena stroke, akan tetapi lebih dominan yang berisiko terkena stroke adalah perokok. Hal ini dikarenakan pada rokok terdapat zat kimia yang dapat merusak organ organ dalam tubuh sehingga menimbulkan penyakit seperti penyakit jantung. Namun, hasil analisis yang kami lakukan berbanding terbalik dengan sumber yang kami gunakan pada analisis ini terkait pengaruh rokok yang menyebabkan terjadiya stroke yang mana dari analisis dapat dilihat bahwa pasien yang tidak pernah merokok merupakan pasien yang paling banyak terkena stroke. \n",
    "\n",
    "    Untuk yang kedua adalah analisis berdasarkan pekerjaan, dari chart dapat dilihat bahwa pekerja baik itu pegawai, swasta, ataupun wiraswasta dapat berisiko terkena stroke. Pada data ini yang paling dominan terkena stroke adalah para pekerja swasta. Hasil analisis ini juga berbeda dengan sumber lain yang digunakan, yang mana dijelaskan bahwa para pekerja kantoran lebih rentan terkena stroke. Alasannya adalah kesibukan yang mereka miliki dijadikan menjadi alasan untuk hidup tidak sehat. Bukan hanya itu saja, dari sumber tersebut juga dijelaskan bahwa banyaknya tuntunan yang diterima oleh pekerja kantoran seperti pegawai akan menimbukan rasa stress, yang mana rasa stress tersebut berperan dalam terjadinya stroke.\n",
    "\n",
    "Analisis keempat adalah analisis prediksi tingkatan stroke berdasarkan usia. Dari chart \"Tingkat Risiko Stroke berdasarkan Usia\", semakin bertambah usia maka semakin rentan terkena stroke. Yang tua lebih rentan terkena stroke dibandingkan yang muda.\n",
    "\n",
    "Analisis kelima adalah analisis prediksi tingkatan stroke berdasarkan gender. Dapat dilihat dari chart \"Tingkat Risiko Stroke berdasarkan gender\", gender wanita lebih rentan terkena stroke dibandingkan pria, stroke juga lebih mungkin berakibat fatal pada wanita dibandingkan pada pria. Jika dilihat dari berbagai faktor yag dapat berisiko stroke wanita lebih dominan terkenan stroke dari pada pria. \n",
    "\n",
    "Pembahasan setiap analisis diperkuat juga oleh statement pada website yang terpercaya yaitu https://www.alodokter.com/stroke/penyebab. https://www.halodoc.com/kesehatan/stroke. https://www.klikdokter.com/rubrik/read/3616342/pekerja-kantoran-lebih-rentan-stroke-ini-alasannya#:~:text=Selain%20cenderung%20mengadaptasi%20gaya%20hidup,bisa%20mengelola%20stres%20dengan%20baik."
   ]
  },
  {
   "cell_type": "code",
   "execution_count": null,
   "metadata": {},
   "outputs": [],
   "source": []
  }
 ],
 "metadata": {
  "kernelspec": {
   "display_name": "Python 3 (ipykernel)",
   "language": "python",
   "name": "python3"
  },
  "language_info": {
   "codemirror_mode": {
    "name": "ipython",
    "version": 3
   },
   "file_extension": ".py",
   "mimetype": "text/x-python",
   "name": "python",
   "nbconvert_exporter": "python",
   "pygments_lexer": "ipython3",
   "version": "3.10.9"
  }
 },
 "nbformat": 4,
 "nbformat_minor": 4
}
